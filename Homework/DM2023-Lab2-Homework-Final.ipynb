{
 "cells": [
  {
   "cell_type": "markdown",
   "metadata": {},
   "source": [
    "# Student Information\n",
    "Name: 劉啓賢\n",
    "\n",
    "Student ID: 110164519\n",
    "\n",
    "GitHub ID: tsuchidaken\n",
    "\n",
    "Kaggle name: Liou Ci-Sian\n",
    "\n",
    "Kaggle private scoreboard snapshot: 0.49029 (31名)\n",
    "\n",
    "[Snapshot](img/pic0.png)\n",
    "![pic_kaggle](https://drive.google.com/uc?export=view&id=1-zn-1emdm-2YdebPWdooQiFN1ynf5N_y)"
   ]
  },
  {
   "cell_type": "markdown",
   "metadata": {},
   "source": [
    "---"
   ]
  },
  {
   "cell_type": "markdown",
   "metadata": {},
   "source": [
    "# Instructions"
   ]
  },
  {
   "cell_type": "markdown",
   "metadata": {},
   "source": [
    "1. First: __This part is worth 30% of your grade.__ Do the **take home** exercises in the DM2023-Lab2-master. You may need to copy some cells from the Lab notebook to this notebook.\n",
    "\n",
    "\n",
    "2. Second: __This part is worth 30% of your grade.__ Participate in the in-class [Kaggle Competition](https://www.kaggle.com/t/09b1d0f3f8584d06848252277cb535f2) regarding Emotion Recognition on Twitter by this link https://www.kaggle.com/t/09b1d0f3f8584d06848252277cb535f2. The scoring will be given according to your place in the Private Leaderboard ranking:\n",
    "    - **Bottom 40%**: Get 20% of the 30% available for this section.\n",
    "\n",
    "    - **Top 41% - 100%**: Get (60-x)/6 + 20 points, where x is your ranking in the leaderboard (ie. If you rank 3rd your score will be (60-3)/6 + 20 = 29.5% out of 30%)   \n",
    "    Submit your last submission __BEFORE the deadline (Dec. 27th 11:59 pm, Wednesday)_. Make sure to take a screenshot of your position at the end of the competition and store it as '''pic0.png''' under the **img** folder of this repository and rerun the cell **Student Information**.\n",
    "    \n",
    "\n",
    "3. Third: __This part is worth 30% of your grade.__ A report of your work developping the model for the competition (You can use code and comment it). This report should include what your preprocessing steps, the feature engineering steps and an explanation of your model. You can also mention different things you tried and insights you gained.\n",
    "\n",
    "\n",
    "4. Fourth: __This part is worth 10% of your grade.__ It's hard for us to follow if your code is messy :'(, so please **tidy up your notebook** and **add minimal comments where needed**.\n",
    "\n",
    "\n",
    "Upload your files to your repository then submit the link to it on the corresponding e-learn assignment.\n",
    "\n",
    "Make sure to commit and save your changes to your repository __BEFORE the deadline (Dec. 31th 11:59 pm, Sunday)__."
   ]
  },
  {
   "cell_type": "markdown",
   "metadata": {},
   "source": [
    "# Begin Assignment Here"
   ]
  },
  {
   "cell_type": "markdown",
   "metadata": {},
   "source": [
    "**Dataset:** [SemEval 2017 Task](https://competitions.codalab.org/competitions/16380)\n",
    "\n",
    "**Task:** Classify text data into 4 different emotions using word embedding and other deep information retrieval approaches.\n",
    "\n",
    "<!--![pic0](pics/pic0.png)-->\n",
    "![pic0](https://drive.google.com/uc?export=view&id=1xrMKv0kRdx_QnKH-j4sw_bVNLntlhsr_)\n",
    "\n",
    "Before beggining the lab, please make sure to download the [Google News Dataset](https://drive.google.com/file/d/0B7XkCwpI5KDYNlNUTTlSS21pQmM/edit) and place it in a folder named \"GoogleNews\" in the same directory as this file."
   ]
  },
  {
   "cell_type": "markdown",
   "metadata": {},
   "source": [
    "## 0. Load module"
   ]
  },
  {
   "cell_type": "code",
   "execution_count": 2,
   "metadata": {},
   "outputs": [
    {
     "name": "stderr",
     "output_type": "stream",
     "text": [
      "[nltk_data] Downloading package punkt to\n",
      "[nltk_data]     C:\\Users\\Tsuchidaken\\AppData\\Roaming\\nltk_data...\n",
      "[nltk_data]   Package punkt is already up-to-date!\n"
     ]
    }
   ],
   "source": [
    "import pandas as pd\n",
    "import numpy as np\n",
    "\n",
    "import nltk\n",
    "nltk.download('punkt')\n",
    "\n",
    "%matplotlib inline\n",
    "import matplotlib.pyplot as plt"
   ]
  },
  {
   "cell_type": "markdown",
   "metadata": {},
   "source": [
    "## 1. Data Preparation\n",
    "### 1.1 Load data\n",
    "\n",
    "We start by loading the csv files into a single pandas dataframe for training and one for testing."
   ]
  },
  {
   "cell_type": "code",
   "execution_count": 12,
   "metadata": {},
   "outputs": [
    {
     "data": {
      "text/html": [
       "<div>\n",
       "<style scoped>\n",
       "    .dataframe tbody tr th:only-of-type {\n",
       "        vertical-align: middle;\n",
       "    }\n",
       "\n",
       "    .dataframe tbody tr th {\n",
       "        vertical-align: top;\n",
       "    }\n",
       "\n",
       "    .dataframe thead th {\n",
       "        text-align: right;\n",
       "    }\n",
       "</style>\n",
       "<table border=\"1\" class=\"dataframe\">\n",
       "  <thead>\n",
       "    <tr style=\"text-align: right;\">\n",
       "      <th></th>\n",
       "      <th>id</th>\n",
       "      <th>text</th>\n",
       "      <th>emotion</th>\n",
       "      <th>intensity</th>\n",
       "    </tr>\n",
       "  </thead>\n",
       "  <tbody>\n",
       "    <tr>\n",
       "      <th>0</th>\n",
       "      <td>10000</td>\n",
       "      <td>How the fu*k! Who the heck! moved my fridge!.....</td>\n",
       "      <td>anger</td>\n",
       "      <td>0.938</td>\n",
       "    </tr>\n",
       "    <tr>\n",
       "      <th>1</th>\n",
       "      <td>10001</td>\n",
       "      <td>So my Indian Uber driver just called someone t...</td>\n",
       "      <td>anger</td>\n",
       "      <td>0.896</td>\n",
       "    </tr>\n",
       "    <tr>\n",
       "      <th>2</th>\n",
       "      <td>10002</td>\n",
       "      <td>@DPD_UK I asked for my parcel to be delivered ...</td>\n",
       "      <td>anger</td>\n",
       "      <td>0.896</td>\n",
       "    </tr>\n",
       "    <tr>\n",
       "      <th>3</th>\n",
       "      <td>10003</td>\n",
       "      <td>so ef whichever butt wipe pulled the fire alar...</td>\n",
       "      <td>anger</td>\n",
       "      <td>0.896</td>\n",
       "    </tr>\n",
       "    <tr>\n",
       "      <th>4</th>\n",
       "      <td>10004</td>\n",
       "      <td>Don't join @BTCare they put the phone down on ...</td>\n",
       "      <td>anger</td>\n",
       "      <td>0.896</td>\n",
       "    </tr>\n",
       "  </tbody>\n",
       "</table>\n",
       "</div>"
      ],
      "text/plain": [
       "      id                                               text emotion  intensity\n",
       "0  10000  How the fu*k! Who the heck! moved my fridge!.....   anger      0.938\n",
       "1  10001  So my Indian Uber driver just called someone t...   anger      0.896\n",
       "2  10002  @DPD_UK I asked for my parcel to be delivered ...   anger      0.896\n",
       "3  10003  so ef whichever butt wipe pulled the fire alar...   anger      0.896\n",
       "4  10004  Don't join @BTCare they put the phone down on ...   anger      0.896"
      ]
     },
     "metadata": {},
     "output_type": "display_data"
    },
    {
     "name": "stdout",
     "output_type": "stream",
     "text": [
      "Shape of Training df:  (3613, 4)\n",
      "Shape of Testing df:  (347, 4)\n"
     ]
    }
   ],
   "source": [
    "# 下載 Google News 模型\n",
    "# !wget --load-cookies /tmp/cookies.txt \"https://docs.google.com/uc?export=download&confirm=$(wget --quiet --save-cookies /tmp/cookies.txt --keep-session-cookies --no-check-certificate 'https://docs.google.com/uc?export=download&id=FILEID' -O- | sed -rn 's/.*confirm=([0-9A-Za-z_]+).*/\\1\\n/p')&id=0B7XkCwpI5KDYNlNUTTlSS21pQmM\" -O \"GoogleNews-vectors-negative300.bin.gz\" && rm -rf /tmp/cookies.txt\n",
    "# 設定path\n",
    "# py檔位置:Homework資料夾; dataset在data資料夾\n",
    "path = \"../\"\n",
    "\n",
    "### training data\n",
    "anger_train = pd.read_csv(path + \"data/semeval/train/anger-ratings-0to1.train.txt\",\n",
    "                         sep=\"\\t\", header=None,names=[\"id\", \"text\", \"emotion\", \"intensity\"])\n",
    "sadness_train = pd.read_csv(path + \"data/semeval/train/sadness-ratings-0to1.train.txt\",\n",
    "                         sep=\"\\t\", header=None, names=[\"id\", \"text\", \"emotion\", \"intensity\"])\n",
    "fear_train = pd.read_csv(path + \"data/semeval/train/fear-ratings-0to1.train.txt\",\n",
    "                         sep=\"\\t\", header=None, names=[\"id\", \"text\", \"emotion\", \"intensity\"])\n",
    "joy_train = pd.read_csv(path + \"data/semeval/train/joy-ratings-0to1.train.txt\",\n",
    "                         sep=\"\\t\", header=None, names=[\"id\", \"text\", \"emotion\", \"intensity\"])\n",
    "\n",
    "### testing data\n",
    "anger_test = pd.read_csv(path +\"data/semeval/dev/anger-ratings-0to1.dev.gold.txt\",\n",
    "                         sep=\"\\t\", header=None, names=[\"id\", \"text\", \"emotion\", \"intensity\"])\n",
    "sadness_test = pd.read_csv(path +\"data/semeval/dev/sadness-ratings-0to1.dev.gold.txt\",\n",
    "                         sep=\"\\t\", header=None, names=[\"id\", \"text\", \"emotion\", \"intensity\"])\n",
    "fear_test = pd.read_csv(path +\"data/semeval/dev/fear-ratings-0to1.dev.gold.txt\",\n",
    "                         sep=\"\\t\", header=None, names=[\"id\", \"text\", \"emotion\", \"intensity\"])\n",
    "joy_test = pd.read_csv(path +\"data/semeval/dev/joy-ratings-0to1.dev.gold.txt\",\n",
    "                         sep=\"\\t\", header=None, names=[\"id\", \"text\", \"emotion\", \"intensity\"])\n",
    "\n",
    "# 結合資料集  4 sub-dataset\n",
    "train_df = pd.concat([anger_train, fear_train, joy_train, sadness_train], ignore_index=True)\n",
    "test_df = pd.concat([anger_test, fear_test, joy_test, sadness_test], ignore_index=True)\n",
    "display(train_df.head())\n",
    "\n",
    "# 亂數 shuffle dataset\n",
    "train_df = train_df.sample(frac=1)\n",
    "test_df = test_df.sample(frac=1)\n",
    "print(\"Shape of Training df: \", train_df.shape)\n",
    "print(\"Shape of Testing df: \", test_df.shape)"
   ]
  },
  {
   "cell_type": "markdown",
   "metadata": {},
   "source": [
    "---\n",
    "### ** >>> Exercise 1 (Take home): **  \n",
    "Plot word frequency for Top 30 words in both train and test dataset. (Hint: refer to DM lab 1)\n"
   ]
  },
  {
   "cell_type": "code",
   "execution_count": 12,
   "metadata": {},
   "outputs": [
    {
     "name": "stdout",
     "output_type": "stream",
     "text": [
      "(3613, 30)\n",
      "['all' 'and' 'are' 'at' 'be' 'but' 'can' 'for' 'have' 'if' 'in' 'is' 'it'\n",
      " 'just' 'like' 'me' 'my' 'not' 'of' 'on' 'so' 'that' 'the' 'this' 'to'\n",
      " 'was' 'when' 'with' 'you' 'your']\n"
     ]
    },
    {
     "data": {
      "text/plain": [
       "array([ 243,  955,  231,  269,  383,  293,  257,  446,  312,  216,  626,\n",
       "        787,  717,  301,  243,  380,  535,  303,  793,  390,  328,  537,\n",
       "       1736,  350, 1289,  228,  226,  288,  796,  229], dtype=int64)"
      ]
     },
     "metadata": {},
     "output_type": "display_data"
    },
    {
     "data": {
      "application/vnd.plotly.v1+json": {
       "config": {
        "plotlyServerURL": "https://plot.ly"
       },
       "data": [
        {
         "type": "bar",
         "x": [
          "all",
          "and",
          "are",
          "at",
          "be",
          "but",
          "can",
          "for",
          "have",
          "if",
          "in",
          "is",
          "it",
          "just",
          "like",
          "me",
          "my",
          "not",
          "of",
          "on",
          "so",
          "that",
          "the",
          "this",
          "to",
          "was",
          "when",
          "with",
          "you",
          "your"
         ],
         "y": [
          243,
          955,
          231,
          269,
          383,
          293,
          257,
          446,
          312,
          216,
          626,
          787,
          717,
          301,
          243,
          380,
          535,
          303,
          793,
          390,
          328,
          537,
          1736,
          350,
          1289,
          228,
          226,
          288,
          796,
          229
         ]
        }
       ],
       "layout": {
        "autosize": true,
        "barmode": "group",
        "template": {
         "data": {
          "bar": [
           {
            "error_x": {
             "color": "#2a3f5f"
            },
            "error_y": {
             "color": "#2a3f5f"
            },
            "marker": {
             "line": {
              "color": "#E5ECF6",
              "width": 0.5
             },
             "pattern": {
              "fillmode": "overlay",
              "size": 10,
              "solidity": 0.2
             }
            },
            "type": "bar"
           }
          ],
          "barpolar": [
           {
            "marker": {
             "line": {
              "color": "#E5ECF6",
              "width": 0.5
             },
             "pattern": {
              "fillmode": "overlay",
              "size": 10,
              "solidity": 0.2
             }
            },
            "type": "barpolar"
           }
          ],
          "carpet": [
           {
            "aaxis": {
             "endlinecolor": "#2a3f5f",
             "gridcolor": "white",
             "linecolor": "white",
             "minorgridcolor": "white",
             "startlinecolor": "#2a3f5f"
            },
            "baxis": {
             "endlinecolor": "#2a3f5f",
             "gridcolor": "white",
             "linecolor": "white",
             "minorgridcolor": "white",
             "startlinecolor": "#2a3f5f"
            },
            "type": "carpet"
           }
          ],
          "choropleth": [
           {
            "colorbar": {
             "outlinewidth": 0,
             "ticks": ""
            },
            "type": "choropleth"
           }
          ],
          "contour": [
           {
            "colorbar": {
             "outlinewidth": 0,
             "ticks": ""
            },
            "colorscale": [
             [
              0,
              "#0d0887"
             ],
             [
              0.1111111111111111,
              "#46039f"
             ],
             [
              0.2222222222222222,
              "#7201a8"
             ],
             [
              0.3333333333333333,
              "#9c179e"
             ],
             [
              0.4444444444444444,
              "#bd3786"
             ],
             [
              0.5555555555555556,
              "#d8576b"
             ],
             [
              0.6666666666666666,
              "#ed7953"
             ],
             [
              0.7777777777777778,
              "#fb9f3a"
             ],
             [
              0.8888888888888888,
              "#fdca26"
             ],
             [
              1,
              "#f0f921"
             ]
            ],
            "type": "contour"
           }
          ],
          "contourcarpet": [
           {
            "colorbar": {
             "outlinewidth": 0,
             "ticks": ""
            },
            "type": "contourcarpet"
           }
          ],
          "heatmap": [
           {
            "colorbar": {
             "outlinewidth": 0,
             "ticks": ""
            },
            "colorscale": [
             [
              0,
              "#0d0887"
             ],
             [
              0.1111111111111111,
              "#46039f"
             ],
             [
              0.2222222222222222,
              "#7201a8"
             ],
             [
              0.3333333333333333,
              "#9c179e"
             ],
             [
              0.4444444444444444,
              "#bd3786"
             ],
             [
              0.5555555555555556,
              "#d8576b"
             ],
             [
              0.6666666666666666,
              "#ed7953"
             ],
             [
              0.7777777777777778,
              "#fb9f3a"
             ],
             [
              0.8888888888888888,
              "#fdca26"
             ],
             [
              1,
              "#f0f921"
             ]
            ],
            "type": "heatmap"
           }
          ],
          "heatmapgl": [
           {
            "colorbar": {
             "outlinewidth": 0,
             "ticks": ""
            },
            "colorscale": [
             [
              0,
              "#0d0887"
             ],
             [
              0.1111111111111111,
              "#46039f"
             ],
             [
              0.2222222222222222,
              "#7201a8"
             ],
             [
              0.3333333333333333,
              "#9c179e"
             ],
             [
              0.4444444444444444,
              "#bd3786"
             ],
             [
              0.5555555555555556,
              "#d8576b"
             ],
             [
              0.6666666666666666,
              "#ed7953"
             ],
             [
              0.7777777777777778,
              "#fb9f3a"
             ],
             [
              0.8888888888888888,
              "#fdca26"
             ],
             [
              1,
              "#f0f921"
             ]
            ],
            "type": "heatmapgl"
           }
          ],
          "histogram": [
           {
            "marker": {
             "pattern": {
              "fillmode": "overlay",
              "size": 10,
              "solidity": 0.2
             }
            },
            "type": "histogram"
           }
          ],
          "histogram2d": [
           {
            "colorbar": {
             "outlinewidth": 0,
             "ticks": ""
            },
            "colorscale": [
             [
              0,
              "#0d0887"
             ],
             [
              0.1111111111111111,
              "#46039f"
             ],
             [
              0.2222222222222222,
              "#7201a8"
             ],
             [
              0.3333333333333333,
              "#9c179e"
             ],
             [
              0.4444444444444444,
              "#bd3786"
             ],
             [
              0.5555555555555556,
              "#d8576b"
             ],
             [
              0.6666666666666666,
              "#ed7953"
             ],
             [
              0.7777777777777778,
              "#fb9f3a"
             ],
             [
              0.8888888888888888,
              "#fdca26"
             ],
             [
              1,
              "#f0f921"
             ]
            ],
            "type": "histogram2d"
           }
          ],
          "histogram2dcontour": [
           {
            "colorbar": {
             "outlinewidth": 0,
             "ticks": ""
            },
            "colorscale": [
             [
              0,
              "#0d0887"
             ],
             [
              0.1111111111111111,
              "#46039f"
             ],
             [
              0.2222222222222222,
              "#7201a8"
             ],
             [
              0.3333333333333333,
              "#9c179e"
             ],
             [
              0.4444444444444444,
              "#bd3786"
             ],
             [
              0.5555555555555556,
              "#d8576b"
             ],
             [
              0.6666666666666666,
              "#ed7953"
             ],
             [
              0.7777777777777778,
              "#fb9f3a"
             ],
             [
              0.8888888888888888,
              "#fdca26"
             ],
             [
              1,
              "#f0f921"
             ]
            ],
            "type": "histogram2dcontour"
           }
          ],
          "mesh3d": [
           {
            "colorbar": {
             "outlinewidth": 0,
             "ticks": ""
            },
            "type": "mesh3d"
           }
          ],
          "parcoords": [
           {
            "line": {
             "colorbar": {
              "outlinewidth": 0,
              "ticks": ""
             }
            },
            "type": "parcoords"
           }
          ],
          "pie": [
           {
            "automargin": true,
            "type": "pie"
           }
          ],
          "scatter": [
           {
            "fillpattern": {
             "fillmode": "overlay",
             "size": 10,
             "solidity": 0.2
            },
            "type": "scatter"
           }
          ],
          "scatter3d": [
           {
            "line": {
             "colorbar": {
              "outlinewidth": 0,
              "ticks": ""
             }
            },
            "marker": {
             "colorbar": {
              "outlinewidth": 0,
              "ticks": ""
             }
            },
            "type": "scatter3d"
           }
          ],
          "scattercarpet": [
           {
            "marker": {
             "colorbar": {
              "outlinewidth": 0,
              "ticks": ""
             }
            },
            "type": "scattercarpet"
           }
          ],
          "scattergeo": [
           {
            "marker": {
             "colorbar": {
              "outlinewidth": 0,
              "ticks": ""
             }
            },
            "type": "scattergeo"
           }
          ],
          "scattergl": [
           {
            "marker": {
             "colorbar": {
              "outlinewidth": 0,
              "ticks": ""
             }
            },
            "type": "scattergl"
           }
          ],
          "scattermapbox": [
           {
            "marker": {
             "colorbar": {
              "outlinewidth": 0,
              "ticks": ""
             }
            },
            "type": "scattermapbox"
           }
          ],
          "scatterpolar": [
           {
            "marker": {
             "colorbar": {
              "outlinewidth": 0,
              "ticks": ""
             }
            },
            "type": "scatterpolar"
           }
          ],
          "scatterpolargl": [
           {
            "marker": {
             "colorbar": {
              "outlinewidth": 0,
              "ticks": ""
             }
            },
            "type": "scatterpolargl"
           }
          ],
          "scatterternary": [
           {
            "marker": {
             "colorbar": {
              "outlinewidth": 0,
              "ticks": ""
             }
            },
            "type": "scatterternary"
           }
          ],
          "surface": [
           {
            "colorbar": {
             "outlinewidth": 0,
             "ticks": ""
            },
            "colorscale": [
             [
              0,
              "#0d0887"
             ],
             [
              0.1111111111111111,
              "#46039f"
             ],
             [
              0.2222222222222222,
              "#7201a8"
             ],
             [
              0.3333333333333333,
              "#9c179e"
             ],
             [
              0.4444444444444444,
              "#bd3786"
             ],
             [
              0.5555555555555556,
              "#d8576b"
             ],
             [
              0.6666666666666666,
              "#ed7953"
             ],
             [
              0.7777777777777778,
              "#fb9f3a"
             ],
             [
              0.8888888888888888,
              "#fdca26"
             ],
             [
              1,
              "#f0f921"
             ]
            ],
            "type": "surface"
           }
          ],
          "table": [
           {
            "cells": {
             "fill": {
              "color": "#EBF0F8"
             },
             "line": {
              "color": "white"
             }
            },
            "header": {
             "fill": {
              "color": "#C8D4E3"
             },
             "line": {
              "color": "white"
             }
            },
            "type": "table"
           }
          ]
         },
         "layout": {
          "annotationdefaults": {
           "arrowcolor": "#2a3f5f",
           "arrowhead": 0,
           "arrowwidth": 1
          },
          "autotypenumbers": "strict",
          "coloraxis": {
           "colorbar": {
            "outlinewidth": 0,
            "ticks": ""
           }
          },
          "colorscale": {
           "diverging": [
            [
             0,
             "#8e0152"
            ],
            [
             0.1,
             "#c51b7d"
            ],
            [
             0.2,
             "#de77ae"
            ],
            [
             0.3,
             "#f1b6da"
            ],
            [
             0.4,
             "#fde0ef"
            ],
            [
             0.5,
             "#f7f7f7"
            ],
            [
             0.6,
             "#e6f5d0"
            ],
            [
             0.7,
             "#b8e186"
            ],
            [
             0.8,
             "#7fbc41"
            ],
            [
             0.9,
             "#4d9221"
            ],
            [
             1,
             "#276419"
            ]
           ],
           "sequential": [
            [
             0,
             "#0d0887"
            ],
            [
             0.1111111111111111,
             "#46039f"
            ],
            [
             0.2222222222222222,
             "#7201a8"
            ],
            [
             0.3333333333333333,
             "#9c179e"
            ],
            [
             0.4444444444444444,
             "#bd3786"
            ],
            [
             0.5555555555555556,
             "#d8576b"
            ],
            [
             0.6666666666666666,
             "#ed7953"
            ],
            [
             0.7777777777777778,
             "#fb9f3a"
            ],
            [
             0.8888888888888888,
             "#fdca26"
            ],
            [
             1,
             "#f0f921"
            ]
           ],
           "sequentialminus": [
            [
             0,
             "#0d0887"
            ],
            [
             0.1111111111111111,
             "#46039f"
            ],
            [
             0.2222222222222222,
             "#7201a8"
            ],
            [
             0.3333333333333333,
             "#9c179e"
            ],
            [
             0.4444444444444444,
             "#bd3786"
            ],
            [
             0.5555555555555556,
             "#d8576b"
            ],
            [
             0.6666666666666666,
             "#ed7953"
            ],
            [
             0.7777777777777778,
             "#fb9f3a"
            ],
            [
             0.8888888888888888,
             "#fdca26"
            ],
            [
             1,
             "#f0f921"
            ]
           ]
          },
          "colorway": [
           "#636efa",
           "#EF553B",
           "#00cc96",
           "#ab63fa",
           "#FFA15A",
           "#19d3f3",
           "#FF6692",
           "#B6E880",
           "#FF97FF",
           "#FECB52"
          ],
          "font": {
           "color": "#2a3f5f"
          },
          "geo": {
           "bgcolor": "white",
           "lakecolor": "white",
           "landcolor": "#E5ECF6",
           "showlakes": true,
           "showland": true,
           "subunitcolor": "white"
          },
          "hoverlabel": {
           "align": "left"
          },
          "hovermode": "closest",
          "mapbox": {
           "style": "light"
          },
          "paper_bgcolor": "white",
          "plot_bgcolor": "#E5ECF6",
          "polar": {
           "angularaxis": {
            "gridcolor": "white",
            "linecolor": "white",
            "ticks": ""
           },
           "bgcolor": "#E5ECF6",
           "radialaxis": {
            "gridcolor": "white",
            "linecolor": "white",
            "ticks": ""
           }
          },
          "scene": {
           "xaxis": {
            "backgroundcolor": "#E5ECF6",
            "gridcolor": "white",
            "gridwidth": 2,
            "linecolor": "white",
            "showbackground": true,
            "ticks": "",
            "zerolinecolor": "white"
           },
           "yaxis": {
            "backgroundcolor": "#E5ECF6",
            "gridcolor": "white",
            "gridwidth": 2,
            "linecolor": "white",
            "showbackground": true,
            "ticks": "",
            "zerolinecolor": "white"
           },
           "zaxis": {
            "backgroundcolor": "#E5ECF6",
            "gridcolor": "white",
            "gridwidth": 2,
            "linecolor": "white",
            "showbackground": true,
            "ticks": "",
            "zerolinecolor": "white"
           }
          },
          "shapedefaults": {
           "line": {
            "color": "#2a3f5f"
           }
          },
          "ternary": {
           "aaxis": {
            "gridcolor": "white",
            "linecolor": "white",
            "ticks": ""
           },
           "baxis": {
            "gridcolor": "white",
            "linecolor": "white",
            "ticks": ""
           },
           "bgcolor": "#E5ECF6",
           "caxis": {
            "gridcolor": "white",
            "linecolor": "white",
            "ticks": ""
           }
          },
          "title": {
           "x": 0.05
          },
          "xaxis": {
           "automargin": true,
           "gridcolor": "white",
           "linecolor": "white",
           "ticks": "",
           "title": {
            "standoff": 15
           },
           "zerolinecolor": "white",
           "zerolinewidth": 2
          },
          "yaxis": {
           "automargin": true,
           "gridcolor": "white",
           "linecolor": "white",
           "ticks": "",
           "title": {
            "standoff": 15
           },
           "zerolinecolor": "white",
           "zerolinewidth": 2
          }
         }
        },
        "title": {
         "text": "訓練集Top30詞彙量從大到小"
        },
        "xaxis": {
         "autorange": false,
         "categoryorder": "total descending",
         "range": [
          -0.5,
          29.5
         ],
         "title": {
          "text": "詞彙特徵"
         },
         "type": "category"
        },
        "yaxis": {
         "autorange": true,
         "range": [
          0,
          1827.3684210526317
         ],
         "title": {
          "text": "頻率"
         },
         "type": "linear"
        }
       }
      },
      "image/png": "[encoded data removed]",
      "text/html": [
       "<div>                            <div id=\"d0a8b9b8-49a7-4d0f-8719-9a6726f6b896\" class=\"plotly-graph-div\" style=\"height:525px; width:100%;\"></div>            <script type=\"text/javascript\">                require([\"plotly\"], function(Plotly) {                    window.PLOTLYENV=window.PLOTLYENV || {};                                    if (document.getElementById(\"d0a8b9b8-49a7-4d0f-8719-9a6726f6b896\")) {                    Plotly.newPlot(                        \"d0a8b9b8-49a7-4d0f-8719-9a6726f6b896\",                        [{\"x\":[\"all\",\"and\",\"are\",\"at\",\"be\",\"but\",\"can\",\"for\",\"have\",\"if\",\"in\",\"is\",\"it\",\"just\",\"like\",\"me\",\"my\",\"not\",\"of\",\"on\",\"so\",\"that\",\"the\",\"this\",\"to\",\"was\",\"when\",\"with\",\"you\",\"your\"],\"y\":[243,955,231,269,383,293,257,446,312,216,626,787,717,301,243,380,535,303,793,390,328,537,1736,350,1289,228,226,288,796,229],\"type\":\"bar\"}],                        {\"barmode\":\"group\",\"title\":{\"text\":\"\\u8a13\\u7df4\\u96c6Top30\\u8a5e\\u5f59\\u91cf\\u5f9e\\u5927\\u5230\\u5c0f\"},\"xaxis\":{\"title\":{\"text\":\"\\u8a5e\\u5f59\\u7279\\u5fb5\"},\"categoryorder\":\"total descending\"},\"yaxis\":{\"title\":{\"text\":\"\\u983b\\u7387\"}},\"template\":{\"data\":{\"histogram2dcontour\":[{\"type\":\"histogram2dcontour\",\"colorbar\":{\"outlinewidth\":0,\"ticks\":\"\"},\"colorscale\":[[0.0,\"#0d0887\"],[0.1111111111111111,\"#46039f\"],[0.2222222222222222,\"#7201a8\"],[0.3333333333333333,\"#9c179e\"],[0.4444444444444444,\"#bd3786\"],[0.5555555555555556,\"#d8576b\"],[0.6666666666666666,\"#ed7953\"],[0.7777777777777778,\"#fb9f3a\"],[0.8888888888888888,\"#fdca26\"],[1.0,\"#f0f921\"]]}],\"choropleth\":[{\"type\":\"choropleth\",\"colorbar\":{\"outlinewidth\":0,\"ticks\":\"\"}}],\"histogram2d\":[{\"type\":\"histogram2d\",\"colorbar\":{\"outlinewidth\":0,\"ticks\":\"\"},\"colorscale\":[[0.0,\"#0d0887\"],[0.1111111111111111,\"#46039f\"],[0.2222222222222222,\"#7201a8\"],[0.3333333333333333,\"#9c179e\"],[0.4444444444444444,\"#bd3786\"],[0.5555555555555556,\"#d8576b\"],[0.6666666666666666,\"#ed7953\"],[0.7777777777777778,\"#fb9f3a\"],[0.8888888888888888,\"#fdca26\"],[1.0,\"#f0f921\"]]}],\"heatmap\":[{\"type\":\"heatmap\",\"colorbar\":{\"outlinewidth\":0,\"ticks\":\"\"},\"colorscale\":[[0.0,\"#0d0887\"],[0.1111111111111111,\"#46039f\"],[0.2222222222222222,\"#7201a8\"],[0.3333333333333333,\"#9c179e\"],[0.4444444444444444,\"#bd3786\"],[0.5555555555555556,\"#d8576b\"],[0.6666666666666666,\"#ed7953\"],[0.7777777777777778,\"#fb9f3a\"],[0.8888888888888888,\"#fdca26\"],[1.0,\"#f0f921\"]]}],\"heatmapgl\":[{\"type\":\"heatmapgl\",\"colorbar\":{\"outlinewidth\":0,\"ticks\":\"\"},\"colorscale\":[[0.0,\"#0d0887\"],[0.1111111111111111,\"#46039f\"],[0.2222222222222222,\"#7201a8\"],[0.3333333333333333,\"#9c179e\"],[0.4444444444444444,\"#bd3786\"],[0.5555555555555556,\"#d8576b\"],[0.6666666666666666,\"#ed7953\"],[0.7777777777777778,\"#fb9f3a\"],[0.8888888888888888,\"#fdca26\"],[1.0,\"#f0f921\"]]}],\"contourcarpet\":[{\"type\":\"contourcarpet\",\"colorbar\":{\"outlinewidth\":0,\"ticks\":\"\"}}],\"contour\":[{\"type\":\"contour\",\"colorbar\":{\"outlinewidth\":0,\"ticks\":\"\"},\"colorscale\":[[0.0,\"#0d0887\"],[0.1111111111111111,\"#46039f\"],[0.2222222222222222,\"#7201a8\"],[0.3333333333333333,\"#9c179e\"],[0.4444444444444444,\"#bd3786\"],[0.5555555555555556,\"#d8576b\"],[0.6666666666666666,\"#ed7953\"],[0.7777777777777778,\"#fb9f3a\"],[0.8888888888888888,\"#fdca26\"],[1.0,\"#f0f921\"]]}],\"surface\":[{\"type\":\"surface\",\"colorbar\":{\"outlinewidth\":0,\"ticks\":\"\"},\"colorscale\":[[0.0,\"#0d0887\"],[0.1111111111111111,\"#46039f\"],[0.2222222222222222,\"#7201a8\"],[0.3333333333333333,\"#9c179e\"],[0.4444444444444444,\"#bd3786\"],[0.5555555555555556,\"#d8576b\"],[0.6666666666666666,\"#ed7953\"],[0.7777777777777778,\"#fb9f3a\"],[0.8888888888888888,\"#fdca26\"],[1.0,\"#f0f921\"]]}],\"mesh3d\":[{\"type\":\"mesh3d\",\"colorbar\":{\"outlinewidth\":0,\"ticks\":\"\"}}],\"scatter\":[{\"fillpattern\":{\"fillmode\":\"overlay\",\"size\":10,\"solidity\":0.2},\"type\":\"scatter\"}],\"parcoords\":[{\"type\":\"parcoords\",\"line\":{\"colorbar\":{\"outlinewidth\":0,\"ticks\":\"\"}}}],\"scatterpolargl\":[{\"type\":\"scatterpolargl\",\"marker\":{\"colorbar\":{\"outlinewidth\":0,\"ticks\":\"\"}}}],\"bar\":[{\"error_x\":{\"color\":\"#2a3f5f\"},\"error_y\":{\"color\":\"#2a3f5f\"},\"marker\":{\"line\":{\"color\":\"#E5ECF6\",\"width\":0.5},\"pattern\":{\"fillmode\":\"overlay\",\"size\":10,\"solidity\":0.2}},\"type\":\"bar\"}],\"scattergeo\":[{\"type\":\"scattergeo\",\"marker\":{\"colorbar\":{\"outlinewidth\":0,\"ticks\":\"\"}}}],\"scatterpolar\":[{\"type\":\"scatterpolar\",\"marker\":{\"colorbar\":{\"outlinewidth\":0,\"ticks\":\"\"}}}],\"histogram\":[{\"marker\":{\"pattern\":{\"fillmode\":\"overlay\",\"size\":10,\"solidity\":0.2}},\"type\":\"histogram\"}],\"scattergl\":[{\"type\":\"scattergl\",\"marker\":{\"colorbar\":{\"outlinewidth\":0,\"ticks\":\"\"}}}],\"scatter3d\":[{\"type\":\"scatter3d\",\"line\":{\"colorbar\":{\"outlinewidth\":0,\"ticks\":\"\"}},\"marker\":{\"colorbar\":{\"outlinewidth\":0,\"ticks\":\"\"}}}],\"scattermapbox\":[{\"type\":\"scattermapbox\",\"marker\":{\"colorbar\":{\"outlinewidth\":0,\"ticks\":\"\"}}}],\"scatterternary\":[{\"type\":\"scatterternary\",\"marker\":{\"colorbar\":{\"outlinewidth\":0,\"ticks\":\"\"}}}],\"scattercarpet\":[{\"type\":\"scattercarpet\",\"marker\":{\"colorbar\":{\"outlinewidth\":0,\"ticks\":\"\"}}}],\"carpet\":[{\"aaxis\":{\"endlinecolor\":\"#2a3f5f\",\"gridcolor\":\"white\",\"linecolor\":\"white\",\"minorgridcolor\":\"white\",\"startlinecolor\":\"#2a3f5f\"},\"baxis\":{\"endlinecolor\":\"#2a3f5f\",\"gridcolor\":\"white\",\"linecolor\":\"white\",\"minorgridcolor\":\"white\",\"startlinecolor\":\"#2a3f5f\"},\"type\":\"carpet\"}],\"table\":[{\"cells\":{\"fill\":{\"color\":\"#EBF0F8\"},\"line\":{\"color\":\"white\"}},\"header\":{\"fill\":{\"color\":\"#C8D4E3\"},\"line\":{\"color\":\"white\"}},\"type\":\"table\"}],\"barpolar\":[{\"marker\":{\"line\":{\"color\":\"#E5ECF6\",\"width\":0.5},\"pattern\":{\"fillmode\":\"overlay\",\"size\":10,\"solidity\":0.2}},\"type\":\"barpolar\"}],\"pie\":[{\"automargin\":true,\"type\":\"pie\"}]},\"layout\":{\"autotypenumbers\":\"strict\",\"colorway\":[\"#636efa\",\"#EF553B\",\"#00cc96\",\"#ab63fa\",\"#FFA15A\",\"#19d3f3\",\"#FF6692\",\"#B6E880\",\"#FF97FF\",\"#FECB52\"],\"font\":{\"color\":\"#2a3f5f\"},\"hovermode\":\"closest\",\"hoverlabel\":{\"align\":\"left\"},\"paper_bgcolor\":\"white\",\"plot_bgcolor\":\"#E5ECF6\",\"polar\":{\"bgcolor\":\"#E5ECF6\",\"angularaxis\":{\"gridcolor\":\"white\",\"linecolor\":\"white\",\"ticks\":\"\"},\"radialaxis\":{\"gridcolor\":\"white\",\"linecolor\":\"white\",\"ticks\":\"\"}},\"ternary\":{\"bgcolor\":\"#E5ECF6\",\"aaxis\":{\"gridcolor\":\"white\",\"linecolor\":\"white\",\"ticks\":\"\"},\"baxis\":{\"gridcolor\":\"white\",\"linecolor\":\"white\",\"ticks\":\"\"},\"caxis\":{\"gridcolor\":\"white\",\"linecolor\":\"white\",\"ticks\":\"\"}},\"coloraxis\":{\"colorbar\":{\"outlinewidth\":0,\"ticks\":\"\"}},\"colorscale\":{\"sequential\":[[0.0,\"#0d0887\"],[0.1111111111111111,\"#46039f\"],[0.2222222222222222,\"#7201a8\"],[0.3333333333333333,\"#9c179e\"],[0.4444444444444444,\"#bd3786\"],[0.5555555555555556,\"#d8576b\"],[0.6666666666666666,\"#ed7953\"],[0.7777777777777778,\"#fb9f3a\"],[0.8888888888888888,\"#fdca26\"],[1.0,\"#f0f921\"]],\"sequentialminus\":[[0.0,\"#0d0887\"],[0.1111111111111111,\"#46039f\"],[0.2222222222222222,\"#7201a8\"],[0.3333333333333333,\"#9c179e\"],[0.4444444444444444,\"#bd3786\"],[0.5555555555555556,\"#d8576b\"],[0.6666666666666666,\"#ed7953\"],[0.7777777777777778,\"#fb9f3a\"],[0.8888888888888888,\"#fdca26\"],[1.0,\"#f0f921\"]],\"diverging\":[[0,\"#8e0152\"],[0.1,\"#c51b7d\"],[0.2,\"#de77ae\"],[0.3,\"#f1b6da\"],[0.4,\"#fde0ef\"],[0.5,\"#f7f7f7\"],[0.6,\"#e6f5d0\"],[0.7,\"#b8e186\"],[0.8,\"#7fbc41\"],[0.9,\"#4d9221\"],[1,\"#276419\"]]},\"xaxis\":{\"gridcolor\":\"white\",\"linecolor\":\"white\",\"ticks\":\"\",\"title\":{\"standoff\":15},\"zerolinecolor\":\"white\",\"automargin\":true,\"zerolinewidth\":2},\"yaxis\":{\"gridcolor\":\"white\",\"linecolor\":\"white\",\"ticks\":\"\",\"title\":{\"standoff\":15},\"zerolinecolor\":\"white\",\"automargin\":true,\"zerolinewidth\":2},\"scene\":{\"xaxis\":{\"backgroundcolor\":\"#E5ECF6\",\"gridcolor\":\"white\",\"linecolor\":\"white\",\"showbackground\":true,\"ticks\":\"\",\"zerolinecolor\":\"white\",\"gridwidth\":2},\"yaxis\":{\"backgroundcolor\":\"#E5ECF6\",\"gridcolor\":\"white\",\"linecolor\":\"white\",\"showbackground\":true,\"ticks\":\"\",\"zerolinecolor\":\"white\",\"gridwidth\":2},\"zaxis\":{\"backgroundcolor\":\"#E5ECF6\",\"gridcolor\":\"white\",\"linecolor\":\"white\",\"showbackground\":true,\"ticks\":\"\",\"zerolinecolor\":\"white\",\"gridwidth\":2}},\"shapedefaults\":{\"line\":{\"color\":\"#2a3f5f\"}},\"annotationdefaults\":{\"arrowcolor\":\"#2a3f5f\",\"arrowhead\":0,\"arrowwidth\":1},\"geo\":{\"bgcolor\":\"white\",\"landcolor\":\"#E5ECF6\",\"subunitcolor\":\"white\",\"showland\":true,\"showlakes\":true,\"lakecolor\":\"white\"},\"title\":{\"x\":0.05},\"mapbox\":{\"style\":\"light\"}}}},                        {\"responsive\": true}                    ).then(function(){\n",
       "                            \n",
       "var gd = document.getElementById('d0a8b9b8-49a7-4d0f-8719-9a6726f6b896');\n",
       "var x = new MutationObserver(function (mutations, observer) {{\n",
       "        var display = window.getComputedStyle(gd).display;\n",
       "        if (!display || display === 'none') {{\n",
       "            console.log([gd, 'removed!']);\n",
       "            Plotly.purge(gd);\n",
       "            observer.disconnect();\n",
       "        }}\n",
       "}});\n",
       "\n",
       "// Listen for the removal of the full notebook cells\n",
       "var notebookContainer = gd.closest('#notebook-container');\n",
       "if (notebookContainer) {{\n",
       "    x.observe(notebookContainer, {childList: true});\n",
       "}}\n",
       "\n",
       "// Listen for the clearing of the current output cell\n",
       "var outputEl = gd.closest('.output');\n",
       "if (outputEl) {{\n",
       "    x.observe(outputEl, {childList: true});\n",
       "}}\n",
       "\n",
       "                        })                };                });            </script>        </div>"
      ]
     },
     "metadata": {},
     "output_type": "display_data"
    }
   ],
   "source": [
    "from sklearn.feature_extraction.text import CountVectorizer\n",
    "\n",
    "# 訓練集\n",
    "# 首先我們利用CountVectorizer的參數max_features 來設定我們找出最頻繁出現的30個詞彙\n",
    "coun_vect_train = CountVectorizer(max_features=30)\n",
    "# 帶入文章成立矩陣\n",
    "count_matrix_train = coun_vect_train.fit_transform(train_df.text)\n",
    "print(count_matrix_train.shape)\n",
    "# 列印取出的特徵\n",
    "print(coun_vect_train.get_feature_names_out())\n",
    "\n",
    "# display詞彙頻率矩陣(train_term_frequencies)\n",
    "train_term_frequencies = []\n",
    "for j in range(0,count_matrix_train.shape[1]):\n",
    "    train_term_frequencies.append(sum(count_matrix_train[:,j].toarray()))\n",
    "    \n",
    "train_term_frequencies = np.asarray(count_matrix_train.sum(axis=0))[0]\n",
    "display(train_term_frequencies)\n",
    "\n",
    "#Plot trainung set\n",
    "import plotly.graph_objects as go\n",
    "fig = go.Figure(go.Bar(x=coun_vect_train.get_feature_names_out(), \n",
    "                y=train_term_frequencies),\n",
    "                layout=layout)\n",
    "layout = go.Layout(title=\"訓練集Top30詞彙量從大到小\",xaxis={\"title\":\"詞彙特徵\"},\n",
    "    yaxis={\"title\":\"頻率\"},barmode=\"group\")\n",
    "fig.update_layout(xaxis={'categoryorder':'total descending'})\n",
    "fig.show()"
   ]
  },
  {
   "cell_type": "code",
   "execution_count": 15,
   "metadata": {},
   "outputs": [
    {
     "name": "stdout",
     "output_type": "stream",
     "text": [
      "(347, 30)\n",
      "['all' 'and' 'are' 'at' 'be' 'but' 'can' 'for' 'get' 'have' 'in' 'is' 'it'\n",
      " 'just' 'like' 'me' 'my' 'not' 'of' 'on' 'so' 'that' 'the' 'this' 'to'\n",
      " 'up' 'was' 'with' 'you' 'your']\n"
     ]
    },
    {
     "data": {
      "text/plain": [
       "array([ 30,  92,  29,  30,  40,  26,  32,  57,  26,  30,  69,  77,  83,\n",
       "        29,  24,  36,  52,  24,  83,  46,  34,  55, 153,  24, 138,  24,\n",
       "        34,  29,  82,  24], dtype=int64)"
      ]
     },
     "metadata": {},
     "output_type": "display_data"
    },
    {
     "data": {
      "application/vnd.plotly.v1+json": {
       "config": {
        "plotlyServerURL": "https://plot.ly"
       },
       "data": [
        {
         "type": "bar",
         "x": [
          "all",
          "and",
          "are",
          "at",
          "be",
          "but",
          "can",
          "for",
          "get",
          "have",
          "in",
          "is",
          "it",
          "just",
          "like",
          "me",
          "my",
          "not",
          "of",
          "on",
          "so",
          "that",
          "the",
          "this",
          "to",
          "up",
          "was",
          "with",
          "you",
          "your"
         ],
         "y": [
          30,
          92,
          29,
          30,
          40,
          26,
          32,
          57,
          26,
          30,
          69,
          77,
          83,
          29,
          24,
          36,
          52,
          24,
          83,
          46,
          34,
          55,
          153,
          24,
          138,
          24,
          34,
          29,
          82,
          24
         ]
        }
       ],
       "layout": {
        "autosize": true,
        "barmode": "group",
        "template": {
         "data": {
          "bar": [
           {
            "error_x": {
             "color": "#2a3f5f"
            },
            "error_y": {
             "color": "#2a3f5f"
            },
            "marker": {
             "line": {
              "color": "#E5ECF6",
              "width": 0.5
             },
             "pattern": {
              "fillmode": "overlay",
              "size": 10,
              "solidity": 0.2
             }
            },
            "type": "bar"
           }
          ],
          "barpolar": [
           {
            "marker": {
             "line": {
              "color": "#E5ECF6",
              "width": 0.5
             },
             "pattern": {
              "fillmode": "overlay",
              "size": 10,
              "solidity": 0.2
             }
            },
            "type": "barpolar"
           }
          ],
          "carpet": [
           {
            "aaxis": {
             "endlinecolor": "#2a3f5f",
             "gridcolor": "white",
             "linecolor": "white",
             "minorgridcolor": "white",
             "startlinecolor": "#2a3f5f"
            },
            "baxis": {
             "endlinecolor": "#2a3f5f",
             "gridcolor": "white",
             "linecolor": "white",
             "minorgridcolor": "white",
             "startlinecolor": "#2a3f5f"
            },
            "type": "carpet"
           }
          ],
          "choropleth": [
           {
            "colorbar": {
             "outlinewidth": 0,
             "ticks": ""
            },
            "type": "choropleth"
           }
          ],
          "contour": [
           {
            "colorbar": {
             "outlinewidth": 0,
             "ticks": ""
            },
            "colorscale": [
             [
              0,
              "#0d0887"
             ],
             [
              0.1111111111111111,
              "#46039f"
             ],
             [
              0.2222222222222222,
              "#7201a8"
             ],
             [
              0.3333333333333333,
              "#9c179e"
             ],
             [
              0.4444444444444444,
              "#bd3786"
             ],
             [
              0.5555555555555556,
              "#d8576b"
             ],
             [
              0.6666666666666666,
              "#ed7953"
             ],
             [
              0.7777777777777778,
              "#fb9f3a"
             ],
             [
              0.8888888888888888,
              "#fdca26"
             ],
             [
              1,
              "#f0f921"
             ]
            ],
            "type": "contour"
           }
          ],
          "contourcarpet": [
           {
            "colorbar": {
             "outlinewidth": 0,
             "ticks": ""
            },
            "type": "contourcarpet"
           }
          ],
          "heatmap": [
           {
            "colorbar": {
             "outlinewidth": 0,
             "ticks": ""
            },
            "colorscale": [
             [
              0,
              "#0d0887"
             ],
             [
              0.1111111111111111,
              "#46039f"
             ],
             [
              0.2222222222222222,
              "#7201a8"
             ],
             [
              0.3333333333333333,
              "#9c179e"
             ],
             [
              0.4444444444444444,
              "#bd3786"
             ],
             [
              0.5555555555555556,
              "#d8576b"
             ],
             [
              0.6666666666666666,
              "#ed7953"
             ],
             [
              0.7777777777777778,
              "#fb9f3a"
             ],
             [
              0.8888888888888888,
              "#fdca26"
             ],
             [
              1,
              "#f0f921"
             ]
            ],
            "type": "heatmap"
           }
          ],
          "heatmapgl": [
           {
            "colorbar": {
             "outlinewidth": 0,
             "ticks": ""
            },
            "colorscale": [
             [
              0,
              "#0d0887"
             ],
             [
              0.1111111111111111,
              "#46039f"
             ],
             [
              0.2222222222222222,
              "#7201a8"
             ],
             [
              0.3333333333333333,
              "#9c179e"
             ],
             [
              0.4444444444444444,
              "#bd3786"
             ],
             [
              0.5555555555555556,
              "#d8576b"
             ],
             [
              0.6666666666666666,
              "#ed7953"
             ],
             [
              0.7777777777777778,
              "#fb9f3a"
             ],
             [
              0.8888888888888888,
              "#fdca26"
             ],
             [
              1,
              "#f0f921"
             ]
            ],
            "type": "heatmapgl"
           }
          ],
          "histogram": [
           {
            "marker": {
             "pattern": {
              "fillmode": "overlay",
              "size": 10,
              "solidity": 0.2
             }
            },
            "type": "histogram"
           }
          ],
          "histogram2d": [
           {
            "colorbar": {
             "outlinewidth": 0,
             "ticks": ""
            },
            "colorscale": [
             [
              0,
              "#0d0887"
             ],
             [
              0.1111111111111111,
              "#46039f"
             ],
             [
              0.2222222222222222,
              "#7201a8"
             ],
             [
              0.3333333333333333,
              "#9c179e"
             ],
             [
              0.4444444444444444,
              "#bd3786"
             ],
             [
              0.5555555555555556,
              "#d8576b"
             ],
             [
              0.6666666666666666,
              "#ed7953"
             ],
             [
              0.7777777777777778,
              "#fb9f3a"
             ],
             [
              0.8888888888888888,
              "#fdca26"
             ],
             [
              1,
              "#f0f921"
             ]
            ],
            "type": "histogram2d"
           }
          ],
          "histogram2dcontour": [
           {
            "colorbar": {
             "outlinewidth": 0,
             "ticks": ""
            },
            "colorscale": [
             [
              0,
              "#0d0887"
             ],
             [
              0.1111111111111111,
              "#46039f"
             ],
             [
              0.2222222222222222,
              "#7201a8"
             ],
             [
              0.3333333333333333,
              "#9c179e"
             ],
             [
              0.4444444444444444,
              "#bd3786"
             ],
             [
              0.5555555555555556,
              "#d8576b"
             ],
             [
              0.6666666666666666,
              "#ed7953"
             ],
             [
              0.7777777777777778,
              "#fb9f3a"
             ],
             [
              0.8888888888888888,
              "#fdca26"
             ],
             [
              1,
              "#f0f921"
             ]
            ],
            "type": "histogram2dcontour"
           }
          ],
          "mesh3d": [
           {
            "colorbar": {
             "outlinewidth": 0,
             "ticks": ""
            },
            "type": "mesh3d"
           }
          ],
          "parcoords": [
           {
            "line": {
             "colorbar": {
              "outlinewidth": 0,
              "ticks": ""
             }
            },
            "type": "parcoords"
           }
          ],
          "pie": [
           {
            "automargin": true,
            "type": "pie"
           }
          ],
          "scatter": [
           {
            "fillpattern": {
             "fillmode": "overlay",
             "size": 10,
             "solidity": 0.2
            },
            "type": "scatter"
           }
          ],
          "scatter3d": [
           {
            "line": {
             "colorbar": {
              "outlinewidth": 0,
              "ticks": ""
             }
            },
            "marker": {
             "colorbar": {
              "outlinewidth": 0,
              "ticks": ""
             }
            },
            "type": "scatter3d"
           }
          ],
          "scattercarpet": [
           {
            "marker": {
             "colorbar": {
              "outlinewidth": 0,
              "ticks": ""
             }
            },
            "type": "scattercarpet"
           }
          ],
          "scattergeo": [
           {
            "marker": {
             "colorbar": {
              "outlinewidth": 0,
              "ticks": ""
             }
            },
            "type": "scattergeo"
           }
          ],
          "scattergl": [
           {
            "marker": {
             "colorbar": {
              "outlinewidth": 0,
              "ticks": ""
             }
            },
            "type": "scattergl"
           }
          ],
          "scattermapbox": [
           {
            "marker": {
             "colorbar": {
              "outlinewidth": 0,
              "ticks": ""
             }
            },
            "type": "scattermapbox"
           }
          ],
          "scatterpolar": [
           {
            "marker": {
             "colorbar": {
              "outlinewidth": 0,
              "ticks": ""
             }
            },
            "type": "scatterpolar"
           }
          ],
          "scatterpolargl": [
           {
            "marker": {
             "colorbar": {
              "outlinewidth": 0,
              "ticks": ""
             }
            },
            "type": "scatterpolargl"
           }
          ],
          "scatterternary": [
           {
            "marker": {
             "colorbar": {
              "outlinewidth": 0,
              "ticks": ""
             }
            },
            "type": "scatterternary"
           }
          ],
          "surface": [
           {
            "colorbar": {
             "outlinewidth": 0,
             "ticks": ""
            },
            "colorscale": [
             [
              0,
              "#0d0887"
             ],
             [
              0.1111111111111111,
              "#46039f"
             ],
             [
              0.2222222222222222,
              "#7201a8"
             ],
             [
              0.3333333333333333,
              "#9c179e"
             ],
             [
              0.4444444444444444,
              "#bd3786"
             ],
             [
              0.5555555555555556,
              "#d8576b"
             ],
             [
              0.6666666666666666,
              "#ed7953"
             ],
             [
              0.7777777777777778,
              "#fb9f3a"
             ],
             [
              0.8888888888888888,
              "#fdca26"
             ],
             [
              1,
              "#f0f921"
             ]
            ],
            "type": "surface"
           }
          ],
          "table": [
           {
            "cells": {
             "fill": {
              "color": "#EBF0F8"
             },
             "line": {
              "color": "white"
             }
            },
            "header": {
             "fill": {
              "color": "#C8D4E3"
             },
             "line": {
              "color": "white"
             }
            },
            "type": "table"
           }
          ]
         },
         "layout": {
          "annotationdefaults": {
           "arrowcolor": "#2a3f5f",
           "arrowhead": 0,
           "arrowwidth": 1
          },
          "autotypenumbers": "strict",
          "coloraxis": {
           "colorbar": {
            "outlinewidth": 0,
            "ticks": ""
           }
          },
          "colorscale": {
           "diverging": [
            [
             0,
             "#8e0152"
            ],
            [
             0.1,
             "#c51b7d"
            ],
            [
             0.2,
             "#de77ae"
            ],
            [
             0.3,
             "#f1b6da"
            ],
            [
             0.4,
             "#fde0ef"
            ],
            [
             0.5,
             "#f7f7f7"
            ],
            [
             0.6,
             "#e6f5d0"
            ],
            [
             0.7,
             "#b8e186"
            ],
            [
             0.8,
             "#7fbc41"
            ],
            [
             0.9,
             "#4d9221"
            ],
            [
             1,
             "#276419"
            ]
           ],
           "sequential": [
            [
             0,
             "#0d0887"
            ],
            [
             0.1111111111111111,
             "#46039f"
            ],
            [
             0.2222222222222222,
             "#7201a8"
            ],
            [
             0.3333333333333333,
             "#9c179e"
            ],
            [
             0.4444444444444444,
             "#bd3786"
            ],
            [
             0.5555555555555556,
             "#d8576b"
            ],
            [
             0.6666666666666666,
             "#ed7953"
            ],
            [
             0.7777777777777778,
             "#fb9f3a"
            ],
            [
             0.8888888888888888,
             "#fdca26"
            ],
            [
             1,
             "#f0f921"
            ]
           ],
           "sequentialminus": [
            [
             0,
             "#0d0887"
            ],
            [
             0.1111111111111111,
             "#46039f"
            ],
            [
             0.2222222222222222,
             "#7201a8"
            ],
            [
             0.3333333333333333,
             "#9c179e"
            ],
            [
             0.4444444444444444,
             "#bd3786"
            ],
            [
             0.5555555555555556,
             "#d8576b"
            ],
            [
             0.6666666666666666,
             "#ed7953"
            ],
            [
             0.7777777777777778,
             "#fb9f3a"
            ],
            [
             0.8888888888888888,
             "#fdca26"
            ],
            [
             1,
             "#f0f921"
            ]
           ]
          },
          "colorway": [
           "#636efa",
           "#EF553B",
           "#00cc96",
           "#ab63fa",
           "#FFA15A",
           "#19d3f3",
           "#FF6692",
           "#B6E880",
           "#FF97FF",
           "#FECB52"
          ],
          "font": {
           "color": "#2a3f5f"
          },
          "geo": {
           "bgcolor": "white",
           "lakecolor": "white",
           "landcolor": "#E5ECF6",
           "showlakes": true,
           "showland": true,
           "subunitcolor": "white"
          },
          "hoverlabel": {
           "align": "left"
          },
          "hovermode": "closest",
          "mapbox": {
           "style": "light"
          },
          "paper_bgcolor": "white",
          "plot_bgcolor": "#E5ECF6",
          "polar": {
           "angularaxis": {
            "gridcolor": "white",
            "linecolor": "white",
            "ticks": ""
           },
           "bgcolor": "#E5ECF6",
           "radialaxis": {
            "gridcolor": "white",
            "linecolor": "white",
            "ticks": ""
           }
          },
          "scene": {
           "xaxis": {
            "backgroundcolor": "#E5ECF6",
            "gridcolor": "white",
            "gridwidth": 2,
            "linecolor": "white",
            "showbackground": true,
            "ticks": "",
            "zerolinecolor": "white"
           },
           "yaxis": {
            "backgroundcolor": "#E5ECF6",
            "gridcolor": "white",
            "gridwidth": 2,
            "linecolor": "white",
            "showbackground": true,
            "ticks": "",
            "zerolinecolor": "white"
           },
           "zaxis": {
            "backgroundcolor": "#E5ECF6",
            "gridcolor": "white",
            "gridwidth": 2,
            "linecolor": "white",
            "showbackground": true,
            "ticks": "",
            "zerolinecolor": "white"
           }
          },
          "shapedefaults": {
           "line": {
            "color": "#2a3f5f"
           }
          },
          "ternary": {
           "aaxis": {
            "gridcolor": "white",
            "linecolor": "white",
            "ticks": ""
           },
           "baxis": {
            "gridcolor": "white",
            "linecolor": "white",
            "ticks": ""
           },
           "bgcolor": "#E5ECF6",
           "caxis": {
            "gridcolor": "white",
            "linecolor": "white",
            "ticks": ""
           }
          },
          "title": {
           "x": 0.05
          },
          "xaxis": {
           "automargin": true,
           "gridcolor": "white",
           "linecolor": "white",
           "ticks": "",
           "title": {
            "standoff": 15
           },
           "zerolinecolor": "white",
           "zerolinewidth": 2
          },
          "yaxis": {
           "automargin": true,
           "gridcolor": "white",
           "linecolor": "white",
           "ticks": "",
           "title": {
            "standoff": 15
           },
           "zerolinecolor": "white",
           "zerolinewidth": 2
          }
         }
        },
        "title": {
         "text": "訓練集Top30詞彙量從大到小"
        },
        "xaxis": {
         "autorange": true,
         "categoryorder": "total descending",
         "range": [
          -0.5,
          29.5
         ],
         "title": {
          "text": "詞彙特徵"
         },
         "type": "category"
        },
        "yaxis": {
         "autorange": true,
         "range": [
          0,
          161.05263157894737
         ],
         "title": {
          "text": "頻率"
         },
         "type": "linear"
        }
       }
      },
      "image/png": "[encoded data removed]",
      "text/html": [
       "<div>                            <div id=\"ce643009-75fc-4ce7-862d-b23711e79115\" class=\"plotly-graph-div\" style=\"height:525px; width:100%;\"></div>            <script type=\"text/javascript\">                require([\"plotly\"], function(Plotly) {                    window.PLOTLYENV=window.PLOTLYENV || {};                                    if (document.getElementById(\"ce643009-75fc-4ce7-862d-b23711e79115\")) {                    Plotly.newPlot(                        \"ce643009-75fc-4ce7-862d-b23711e79115\",                        [{\"x\":[\"all\",\"and\",\"are\",\"at\",\"be\",\"but\",\"can\",\"for\",\"get\",\"have\",\"in\",\"is\",\"it\",\"just\",\"like\",\"me\",\"my\",\"not\",\"of\",\"on\",\"so\",\"that\",\"the\",\"this\",\"to\",\"up\",\"was\",\"with\",\"you\",\"your\"],\"y\":[30,92,29,30,40,26,32,57,26,30,69,77,83,29,24,36,52,24,83,46,34,55,153,24,138,24,34,29,82,24],\"type\":\"bar\"}],                        {\"barmode\":\"group\",\"title\":{\"text\":\"\\u8a13\\u7df4\\u96c6Top30\\u8a5e\\u5f59\\u91cf\\u5f9e\\u5927\\u5230\\u5c0f\"},\"xaxis\":{\"title\":{\"text\":\"\\u8a5e\\u5f59\\u7279\\u5fb5\"},\"categoryorder\":\"total descending\"},\"yaxis\":{\"title\":{\"text\":\"\\u983b\\u7387\"}},\"template\":{\"data\":{\"histogram2dcontour\":[{\"type\":\"histogram2dcontour\",\"colorbar\":{\"outlinewidth\":0,\"ticks\":\"\"},\"colorscale\":[[0.0,\"#0d0887\"],[0.1111111111111111,\"#46039f\"],[0.2222222222222222,\"#7201a8\"],[0.3333333333333333,\"#9c179e\"],[0.4444444444444444,\"#bd3786\"],[0.5555555555555556,\"#d8576b\"],[0.6666666666666666,\"#ed7953\"],[0.7777777777777778,\"#fb9f3a\"],[0.8888888888888888,\"#fdca26\"],[1.0,\"#f0f921\"]]}],\"choropleth\":[{\"type\":\"choropleth\",\"colorbar\":{\"outlinewidth\":0,\"ticks\":\"\"}}],\"histogram2d\":[{\"type\":\"histogram2d\",\"colorbar\":{\"outlinewidth\":0,\"ticks\":\"\"},\"colorscale\":[[0.0,\"#0d0887\"],[0.1111111111111111,\"#46039f\"],[0.2222222222222222,\"#7201a8\"],[0.3333333333333333,\"#9c179e\"],[0.4444444444444444,\"#bd3786\"],[0.5555555555555556,\"#d8576b\"],[0.6666666666666666,\"#ed7953\"],[0.7777777777777778,\"#fb9f3a\"],[0.8888888888888888,\"#fdca26\"],[1.0,\"#f0f921\"]]}],\"heatmap\":[{\"type\":\"heatmap\",\"colorbar\":{\"outlinewidth\":0,\"ticks\":\"\"},\"colorscale\":[[0.0,\"#0d0887\"],[0.1111111111111111,\"#46039f\"],[0.2222222222222222,\"#7201a8\"],[0.3333333333333333,\"#9c179e\"],[0.4444444444444444,\"#bd3786\"],[0.5555555555555556,\"#d8576b\"],[0.6666666666666666,\"#ed7953\"],[0.7777777777777778,\"#fb9f3a\"],[0.8888888888888888,\"#fdca26\"],[1.0,\"#f0f921\"]]}],\"heatmapgl\":[{\"type\":\"heatmapgl\",\"colorbar\":{\"outlinewidth\":0,\"ticks\":\"\"},\"colorscale\":[[0.0,\"#0d0887\"],[0.1111111111111111,\"#46039f\"],[0.2222222222222222,\"#7201a8\"],[0.3333333333333333,\"#9c179e\"],[0.4444444444444444,\"#bd3786\"],[0.5555555555555556,\"#d8576b\"],[0.6666666666666666,\"#ed7953\"],[0.7777777777777778,\"#fb9f3a\"],[0.8888888888888888,\"#fdca26\"],[1.0,\"#f0f921\"]]}],\"contourcarpet\":[{\"type\":\"contourcarpet\",\"colorbar\":{\"outlinewidth\":0,\"ticks\":\"\"}}],\"contour\":[{\"type\":\"contour\",\"colorbar\":{\"outlinewidth\":0,\"ticks\":\"\"},\"colorscale\":[[0.0,\"#0d0887\"],[0.1111111111111111,\"#46039f\"],[0.2222222222222222,\"#7201a8\"],[0.3333333333333333,\"#9c179e\"],[0.4444444444444444,\"#bd3786\"],[0.5555555555555556,\"#d8576b\"],[0.6666666666666666,\"#ed7953\"],[0.7777777777777778,\"#fb9f3a\"],[0.8888888888888888,\"#fdca26\"],[1.0,\"#f0f921\"]]}],\"surface\":[{\"type\":\"surface\",\"colorbar\":{\"outlinewidth\":0,\"ticks\":\"\"},\"colorscale\":[[0.0,\"#0d0887\"],[0.1111111111111111,\"#46039f\"],[0.2222222222222222,\"#7201a8\"],[0.3333333333333333,\"#9c179e\"],[0.4444444444444444,\"#bd3786\"],[0.5555555555555556,\"#d8576b\"],[0.6666666666666666,\"#ed7953\"],[0.7777777777777778,\"#fb9f3a\"],[0.8888888888888888,\"#fdca26\"],[1.0,\"#f0f921\"]]}],\"mesh3d\":[{\"type\":\"mesh3d\",\"colorbar\":{\"outlinewidth\":0,\"ticks\":\"\"}}],\"scatter\":[{\"fillpattern\":{\"fillmode\":\"overlay\",\"size\":10,\"solidity\":0.2},\"type\":\"scatter\"}],\"parcoords\":[{\"type\":\"parcoords\",\"line\":{\"colorbar\":{\"outlinewidth\":0,\"ticks\":\"\"}}}],\"scatterpolargl\":[{\"type\":\"scatterpolargl\",\"marker\":{\"colorbar\":{\"outlinewidth\":0,\"ticks\":\"\"}}}],\"bar\":[{\"error_x\":{\"color\":\"#2a3f5f\"},\"error_y\":{\"color\":\"#2a3f5f\"},\"marker\":{\"line\":{\"color\":\"#E5ECF6\",\"width\":0.5},\"pattern\":{\"fillmode\":\"overlay\",\"size\":10,\"solidity\":0.2}},\"type\":\"bar\"}],\"scattergeo\":[{\"type\":\"scattergeo\",\"marker\":{\"colorbar\":{\"outlinewidth\":0,\"ticks\":\"\"}}}],\"scatterpolar\":[{\"type\":\"scatterpolar\",\"marker\":{\"colorbar\":{\"outlinewidth\":0,\"ticks\":\"\"}}}],\"histogram\":[{\"marker\":{\"pattern\":{\"fillmode\":\"overlay\",\"size\":10,\"solidity\":0.2}},\"type\":\"histogram\"}],\"scattergl\":[{\"type\":\"scattergl\",\"marker\":{\"colorbar\":{\"outlinewidth\":0,\"ticks\":\"\"}}}],\"scatter3d\":[{\"type\":\"scatter3d\",\"line\":{\"colorbar\":{\"outlinewidth\":0,\"ticks\":\"\"}},\"marker\":{\"colorbar\":{\"outlinewidth\":0,\"ticks\":\"\"}}}],\"scattermapbox\":[{\"type\":\"scattermapbox\",\"marker\":{\"colorbar\":{\"outlinewidth\":0,\"ticks\":\"\"}}}],\"scatterternary\":[{\"type\":\"scatterternary\",\"marker\":{\"colorbar\":{\"outlinewidth\":0,\"ticks\":\"\"}}}],\"scattercarpet\":[{\"type\":\"scattercarpet\",\"marker\":{\"colorbar\":{\"outlinewidth\":0,\"ticks\":\"\"}}}],\"carpet\":[{\"aaxis\":{\"endlinecolor\":\"#2a3f5f\",\"gridcolor\":\"white\",\"linecolor\":\"white\",\"minorgridcolor\":\"white\",\"startlinecolor\":\"#2a3f5f\"},\"baxis\":{\"endlinecolor\":\"#2a3f5f\",\"gridcolor\":\"white\",\"linecolor\":\"white\",\"minorgridcolor\":\"white\",\"startlinecolor\":\"#2a3f5f\"},\"type\":\"carpet\"}],\"table\":[{\"cells\":{\"fill\":{\"color\":\"#EBF0F8\"},\"line\":{\"color\":\"white\"}},\"header\":{\"fill\":{\"color\":\"#C8D4E3\"},\"line\":{\"color\":\"white\"}},\"type\":\"table\"}],\"barpolar\":[{\"marker\":{\"line\":{\"color\":\"#E5ECF6\",\"width\":0.5},\"pattern\":{\"fillmode\":\"overlay\",\"size\":10,\"solidity\":0.2}},\"type\":\"barpolar\"}],\"pie\":[{\"automargin\":true,\"type\":\"pie\"}]},\"layout\":{\"autotypenumbers\":\"strict\",\"colorway\":[\"#636efa\",\"#EF553B\",\"#00cc96\",\"#ab63fa\",\"#FFA15A\",\"#19d3f3\",\"#FF6692\",\"#B6E880\",\"#FF97FF\",\"#FECB52\"],\"font\":{\"color\":\"#2a3f5f\"},\"hovermode\":\"closest\",\"hoverlabel\":{\"align\":\"left\"},\"paper_bgcolor\":\"white\",\"plot_bgcolor\":\"#E5ECF6\",\"polar\":{\"bgcolor\":\"#E5ECF6\",\"angularaxis\":{\"gridcolor\":\"white\",\"linecolor\":\"white\",\"ticks\":\"\"},\"radialaxis\":{\"gridcolor\":\"white\",\"linecolor\":\"white\",\"ticks\":\"\"}},\"ternary\":{\"bgcolor\":\"#E5ECF6\",\"aaxis\":{\"gridcolor\":\"white\",\"linecolor\":\"white\",\"ticks\":\"\"},\"baxis\":{\"gridcolor\":\"white\",\"linecolor\":\"white\",\"ticks\":\"\"},\"caxis\":{\"gridcolor\":\"white\",\"linecolor\":\"white\",\"ticks\":\"\"}},\"coloraxis\":{\"colorbar\":{\"outlinewidth\":0,\"ticks\":\"\"}},\"colorscale\":{\"sequential\":[[0.0,\"#0d0887\"],[0.1111111111111111,\"#46039f\"],[0.2222222222222222,\"#7201a8\"],[0.3333333333333333,\"#9c179e\"],[0.4444444444444444,\"#bd3786\"],[0.5555555555555556,\"#d8576b\"],[0.6666666666666666,\"#ed7953\"],[0.7777777777777778,\"#fb9f3a\"],[0.8888888888888888,\"#fdca26\"],[1.0,\"#f0f921\"]],\"sequentialminus\":[[0.0,\"#0d0887\"],[0.1111111111111111,\"#46039f\"],[0.2222222222222222,\"#7201a8\"],[0.3333333333333333,\"#9c179e\"],[0.4444444444444444,\"#bd3786\"],[0.5555555555555556,\"#d8576b\"],[0.6666666666666666,\"#ed7953\"],[0.7777777777777778,\"#fb9f3a\"],[0.8888888888888888,\"#fdca26\"],[1.0,\"#f0f921\"]],\"diverging\":[[0,\"#8e0152\"],[0.1,\"#c51b7d\"],[0.2,\"#de77ae\"],[0.3,\"#f1b6da\"],[0.4,\"#fde0ef\"],[0.5,\"#f7f7f7\"],[0.6,\"#e6f5d0\"],[0.7,\"#b8e186\"],[0.8,\"#7fbc41\"],[0.9,\"#4d9221\"],[1,\"#276419\"]]},\"xaxis\":{\"gridcolor\":\"white\",\"linecolor\":\"white\",\"ticks\":\"\",\"title\":{\"standoff\":15},\"zerolinecolor\":\"white\",\"automargin\":true,\"zerolinewidth\":2},\"yaxis\":{\"gridcolor\":\"white\",\"linecolor\":\"white\",\"ticks\":\"\",\"title\":{\"standoff\":15},\"zerolinecolor\":\"white\",\"automargin\":true,\"zerolinewidth\":2},\"scene\":{\"xaxis\":{\"backgroundcolor\":\"#E5ECF6\",\"gridcolor\":\"white\",\"linecolor\":\"white\",\"showbackground\":true,\"ticks\":\"\",\"zerolinecolor\":\"white\",\"gridwidth\":2},\"yaxis\":{\"backgroundcolor\":\"#E5ECF6\",\"gridcolor\":\"white\",\"linecolor\":\"white\",\"showbackground\":true,\"ticks\":\"\",\"zerolinecolor\":\"white\",\"gridwidth\":2},\"zaxis\":{\"backgroundcolor\":\"#E5ECF6\",\"gridcolor\":\"white\",\"linecolor\":\"white\",\"showbackground\":true,\"ticks\":\"\",\"zerolinecolor\":\"white\",\"gridwidth\":2}},\"shapedefaults\":{\"line\":{\"color\":\"#2a3f5f\"}},\"annotationdefaults\":{\"arrowcolor\":\"#2a3f5f\",\"arrowhead\":0,\"arrowwidth\":1},\"geo\":{\"bgcolor\":\"white\",\"landcolor\":\"#E5ECF6\",\"subunitcolor\":\"white\",\"showland\":true,\"showlakes\":true,\"lakecolor\":\"white\"},\"title\":{\"x\":0.05},\"mapbox\":{\"style\":\"light\"}}}},                        {\"responsive\": true}                    ).then(function(){\n",
       "                            \n",
       "var gd = document.getElementById('ce643009-75fc-4ce7-862d-b23711e79115');\n",
       "var x = new MutationObserver(function (mutations, observer) {{\n",
       "        var display = window.getComputedStyle(gd).display;\n",
       "        if (!display || display === 'none') {{\n",
       "            console.log([gd, 'removed!']);\n",
       "            Plotly.purge(gd);\n",
       "            observer.disconnect();\n",
       "        }}\n",
       "}});\n",
       "\n",
       "// Listen for the removal of the full notebook cells\n",
       "var notebookContainer = gd.closest('#notebook-container');\n",
       "if (notebookContainer) {{\n",
       "    x.observe(notebookContainer, {childList: true});\n",
       "}}\n",
       "\n",
       "// Listen for the clearing of the current output cell\n",
       "var outputEl = gd.closest('.output');\n",
       "if (outputEl) {{\n",
       "    x.observe(outputEl, {childList: true});\n",
       "}}\n",
       "\n",
       "                        })                };                });            </script>        </div>"
      ]
     },
     "metadata": {},
     "output_type": "display_data"
    }
   ],
   "source": [
    "# 測試集\n",
    "#利用CountVectorizer的參數max_features 來設定我們找出最頻繁出現的30個詞彙\n",
    "coun_vect_test = CountVectorizer(max_features=30)\n",
    "# 帶入文章成立矩陣\n",
    "count_matrix_test = coun_vect_test.fit_transform(test_df.text)\n",
    "print(count_matrix_test.shape)\n",
    "# 列印取出的特徵\n",
    "print(coun_vect_test.get_feature_names_out())\n",
    "\n",
    "# display詞彙頻率矩陣(train_term_frequencies)\n",
    "test_term_frequencies = []\n",
    "for j in range(0,count_matrix_test.shape[1]):\n",
    "    test_term_frequencies.append(sum(count_matrix_test[:,j].toarray()))\n",
    "    \n",
    "test_term_frequencies = np.asarray(count_matrix_test.sum(axis=0))[0]\n",
    "display(test_term_frequencies)\n",
    "\n",
    "#Plot trainung set\n",
    "fig = go.Figure(go.Bar(x=coun_vect_test.get_feature_names_out(), \n",
    "                y=test_term_frequencies),\n",
    "                layout=layout)\n",
    "layout = go.Layout(title=\"測試集Top30詞彙量從大到小\",xaxis={\"title\":\"詞彙特徵\"},\n",
    "    yaxis={\"title\":\"頻率\"},barmode=\"group\")\n",
    "fig.update_layout(xaxis={'categoryorder':'total descending'})\n",
    "fig.show()"
   ]
  },
  {
   "cell_type": "markdown",
   "metadata": {},
   "source": [
    "---\n",
    "## 1.2 Save data\n",
    "We will save our data in Pickle format. The pickle module implements binary protocols for serializing and de-serializing a Python object structure.   \n",
    "  \n",
    "Some advantages for using pickle structure:  \n",
    "* Because it stores the attribute type, it's more convenient for cross-platform use.  \n",
    "* When your data is huge, it could use less space to store also consume less loading time.\n",
    "For more information: https://reurl.cc/0Dzqx"
   ]
  },
  {
   "cell_type": "code",
   "execution_count": 16,
   "metadata": {},
   "outputs": [],
   "source": [
    "## save to pickle file\n",
    "train_df.to_pickle(path + \"train_df.pkl\")\n",
    "test_df.to_pickle(path + \"test_df.pkl\")"
   ]
  },
  {
   "cell_type": "code",
   "execution_count": 17,
   "metadata": {},
   "outputs": [],
   "source": [
    "## load a pickle file\n",
    "train_df = pd.read_pickle(path +\"train_df.pkl\")\n",
    "test_df = pd.read_pickle(path +\"test_df.pkl\")"
   ]
  },
  {
   "cell_type": "markdown",
   "metadata": {},
   "source": [
    "---\n",
    "## 1.3 Exploratory data analysis (EDA)\n",
    "\n",
    "Again, before getting our hands dirty, we need to explore a little bit and understand the data we're dealing with."
   ]
  },
  {
   "cell_type": "code",
   "execution_count": 14,
   "metadata": {},
   "outputs": [
    {
     "data": {
      "text/plain": [
       "array(['fear', 'sadness', 'anger', 'joy'], dtype=object)"
      ]
     },
     "execution_count": 14,
     "metadata": {},
     "output_type": "execute_result"
    }
   ],
   "source": [
    "# 標籤分類\n",
    "train_df['emotion'].unique()"
   ]
  },
  {
   "cell_type": "code",
   "execution_count": 18,
   "metadata": {},
   "outputs": [
    {
     "data": {
      "text/plain": [
       "emotion\n",
       "anger       857\n",
       "fear       1147\n",
       "joy         823\n",
       "sadness     786\n",
       "Name: text, dtype: int64"
      ]
     },
     "execution_count": 18,
     "metadata": {},
     "output_type": "execute_result"
    }
   ],
   "source": [
    "# group to find distribution 每個標籤的數量\n",
    "train_df.groupby(['emotion']).count()['text']"
   ]
  },
  {
   "cell_type": "code",
   "execution_count": 19,
   "metadata": {},
   "outputs": [
    {
     "data": {
      "image/png": "[encoded data removed]",
      "text/plain": [
       "<Figure size 500x300 with 1 Axes>"
      ]
     },
     "metadata": {},
     "output_type": "display_data"
    }
   ],
   "source": [
    "# the histogram of the data\n",
    "labels = train_df['emotion'].unique()\n",
    "post_total = len(train_df)\n",
    "df1 = train_df.groupby(['emotion']).count()['text']\n",
    "df1 = df1.apply(lambda x: round(x*100/post_total,3))\n",
    "\n",
    "#plot\n",
    "fig, ax = plt.subplots(figsize=(5,3))\n",
    "plt.bar(df1.index,df1.values)\n",
    "\n",
    "#arrange\n",
    "plt.ylabel('% of instances')\n",
    "plt.xlabel('Emotion')\n",
    "plt.title('Emotion distribution')\n",
    "plt.grid(True)\n",
    "plt.show()\n",
    "# 各類別資料量並無太大差異"
   ]
  },
  {
   "cell_type": "markdown",
   "metadata": {},
   "source": [
    "## 2. Feature engineering\n",
    "### Using Bag of Words\n",
    "Using scikit-learn ```CountVectorizer``` perform word frequency and use these as features to train a model.  \n",
    "http://scikit-learn.org/stable/modules/generated/sklearn.feature_extraction.text.CountVectorizer.html"
   ]
  },
  {
   "cell_type": "code",
   "execution_count": 20,
   "metadata": {},
   "outputs": [],
   "source": [
    "from sklearn.feature_extraction.text import CountVectorizer"
   ]
  },
  {
   "cell_type": "code",
   "execution_count": 21,
   "metadata": {},
   "outputs": [],
   "source": [
    "# build analyzers (bag-of-words)\n",
    "BOW_vectorizer = CountVectorizer()"
   ]
  },
  {
   "cell_type": "code",
   "execution_count": 22,
   "metadata": {},
   "outputs": [],
   "source": [
    "# 1. Learn a vocabulary dictionary of all tokens in the raw documents.\n",
    "# 丟進分析器學習每個單詞並編號(建立架構)\n",
    "BOW_vectorizer.fit(train_df['text'])\n",
    "# 2. Transform documents to document-term matrix.\n",
    "# 將學習到的單詞向量化(將單字向量化)\n",
    "train_data_BOW_features = BOW_vectorizer.transform(train_df['text'])\n",
    "test_data_BOW_features = BOW_vectorizer.transform(test_df['text'])"
   ]
  },
  {
   "cell_type": "code",
   "execution_count": 23,
   "metadata": {},
   "outputs": [
    {
     "data": {
      "text/plain": [
       "<3613x10115 sparse matrix of type '<class 'numpy.int64'>'\n",
       "\twith 51467 stored elements in Compressed Sparse Row format>"
      ]
     },
     "execution_count": 23,
     "metadata": {},
     "output_type": "execute_result"
    }
   ],
   "source": [
    "# check the result\n",
    "train_data_BOW_features"
   ]
  },
  {
   "cell_type": "code",
   "execution_count": 24,
   "metadata": {},
   "outputs": [
    {
     "data": {
      "text/plain": [
       "scipy.sparse._csr.csr_matrix"
      ]
     },
     "execution_count": 24,
     "metadata": {},
     "output_type": "execute_result"
    }
   ],
   "source": [
    "# check the type\n",
    "type(train_data_BOW_features)"
   ]
  },
  {
   "cell_type": "code",
   "execution_count": 25,
   "metadata": {},
   "outputs": [
    {
     "data": {
      "text/plain": [
       "array([[0, 0, 0, ..., 0, 0, 0],\n",
       "       [0, 0, 0, ..., 0, 0, 0],\n",
       "       [0, 0, 0, ..., 0, 0, 0],\n",
       "       ...,\n",
       "       [0, 0, 0, ..., 0, 0, 0],\n",
       "       [0, 0, 0, ..., 0, 0, 0],\n",
       "       [0, 0, 0, ..., 0, 0, 0]], dtype=int64)"
      ]
     },
     "execution_count": 25,
     "metadata": {},
     "output_type": "execute_result"
    }
   ],
   "source": [
    "# add .toarray() to show\n",
    "train_data_BOW_features.toarray()"
   ]
  },
  {
   "cell_type": "code",
   "execution_count": 26,
   "metadata": {},
   "outputs": [
    {
     "data": {
      "text/plain": [
       "(3613, 10115)"
      ]
     },
     "execution_count": 26,
     "metadata": {},
     "output_type": "execute_result"
    }
   ],
   "source": [
    "# check the dimension\n",
    "train_data_BOW_features.shape"
   ]
  },
  {
   "cell_type": "code",
   "execution_count": 27,
   "metadata": {},
   "outputs": [
    {
     "data": {
      "text/plain": [
       "array(['2k17', '2much', '2nd', '30', '300', '301', '30am', '30pm', '30s',\n",
       "       '31'], dtype=object)"
      ]
     },
     "execution_count": 27,
     "metadata": {},
     "output_type": "execute_result"
    }
   ],
   "source": [
    "# observe some feature names\n",
    "feature_names = BOW_vectorizer.get_feature_names_out()\n",
    "feature_names[100:110]"
   ]
  },
  {
   "cell_type": "code",
   "execution_count": 28,
   "metadata": {},
   "outputs": [
    {
     "name": "stdout",
     "output_type": "stream",
     "text": [
      "Vocabulary: ['00' '000' '00pm' ... 'य_ब' 'सत' 'アニメ']\n",
      "\n",
      "Train data BOW features:\n",
      "      00  000  00pm  00tiffanyr  01  02  03  0303  034  04  ...  zoolander  \\\n",
      "0      0    0     0           0   0   0   0     0    0   0  ...          0   \n",
      "1      0    0     0           0   0   0   0     0    0   0  ...          0   \n",
      "2      0    0     0           0   0   0   0     0    0   0  ...          0   \n",
      "3      0    0     0           0   0   0   0     0    0   0  ...          0   \n",
      "4      0    0     0           0   0   0   0     0    0   0  ...          0   \n",
      "...   ..  ...   ...         ...  ..  ..  ..   ...  ...  ..  ...        ...   \n",
      "3608   0    0     0           0   0   0   0     0    0   0  ...          0   \n",
      "3609   0    0     0           0   0   0   0     0    0   0  ...          0   \n",
      "3610   0    0     0           0   0   0   0     0    0   0  ...          0   \n",
      "3611   0    0     0           0   0   0   0     0    0   0  ...          0   \n",
      "3612   0    0     0           0   0   0   0     0    0   0  ...          0   \n",
      "\n",
      "      zumba  óg  деньги  الخفجي  اليوم_الوطني  ध_य  य_ब  सत  アニメ  \n",
      "0         0   0       0       0             0    0    0   0    0  \n",
      "1         0   0       0       0             0    0    0   0    0  \n",
      "2         0   0       0       0             0    0    0   0    0  \n",
      "3         0   0       0       0             0    0    0   0    0  \n",
      "4         0   0       0       0             0    0    0   0    0  \n",
      "...     ...  ..     ...     ...           ...  ...  ...  ..  ...  \n",
      "3608      0   0       0       0             0    0    0   0    0  \n",
      "3609      0   0       0       0             0    0    0   0    0  \n",
      "3610      0   0       0       0             0    0    0   0    0  \n",
      "3611      0   0       0       0             0    0    0   0    0  \n",
      "3612      0   0       0       0             0    0    0   0    0  \n",
      "\n",
      "[3613 rows x 10115 columns]\n",
      "\n",
      "Test data BOW features:\n",
      "     00  000  00pm  00tiffanyr  01  02  03  0303  034  04  ...  zoolander  \\\n",
      "0     0    0     0           0   0   0   0     0    0   0  ...          0   \n",
      "1     0    0     0           0   0   0   0     0    0   0  ...          0   \n",
      "2     0    0     0           0   0   0   0     0    0   0  ...          0   \n",
      "3     0    0     0           0   0   0   0     0    0   0  ...          0   \n",
      "4     0    0     0           0   0   0   0     0    0   0  ...          0   \n",
      "..   ..  ...   ...         ...  ..  ..  ..   ...  ...  ..  ...        ...   \n",
      "342   0    0     0           0   0   0   0     0    0   0  ...          0   \n",
      "343   0    0     0           0   0   0   0     0    0   0  ...          0   \n",
      "344   0    0     0           0   0   0   0     0    0   0  ...          0   \n",
      "345   0    0     0           0   0   0   0     0    0   0  ...          0   \n",
      "346   0    0     0           0   0   0   0     0    0   0  ...          0   \n",
      "\n",
      "     zumba  óg  деньги  الخفجي  اليوم_الوطني  ध_य  य_ब  सत  アニメ  \n",
      "0        0   0       0       0             0    0    0   0    0  \n",
      "1        0   0       0       0             0    0    0   0    0  \n",
      "2        0   0       0       0             0    0    0   0    0  \n",
      "3        0   0       0       0             0    0    0   0    0  \n",
      "4        0   0       0       0             0    0    0   0    0  \n",
      "..     ...  ..     ...     ...           ...  ...  ...  ..  ...  \n",
      "342      0   0       0       0             0    0    0   0    0  \n",
      "343      0   0       0       0             0    0    0   0    0  \n",
      "344      0   0       0       0             0    0    0   0    0  \n",
      "345      0   0       0       0             0    0    0   0    0  \n",
      "346      0   0       0       0             0    0    0   0    0  \n",
      "\n",
      "[347 rows x 10115 columns]\n"
     ]
    }
   ],
   "source": [
    "# Print the vocabulary learned\n",
    "print(\"Vocabulary:\", feature_names)\n",
    "# Convert train data features to a dataframe to visualize\n",
    "print(\"\\nTrain data BOW features:\")\n",
    "print(pd.DataFrame(train_data_BOW_features.toarray(), columns=BOW_vectorizer.get_feature_names_out()))\n",
    "# Convert test data features to a dataframe to visualize\n",
    "print(\"\\nTest data BOW features:\")\n",
    "print(pd.DataFrame(test_data_BOW_features.toarray(), columns=BOW_vectorizer.get_feature_names_out()))"
   ]
  },
  {
   "cell_type": "markdown",
   "metadata": {},
   "source": [
    "The embedding is done. We can technically feed this into our model. However, depending on the embedding technique you use and your model, your accuracy might not be as high, because:\n",
    "\n",
    "* curse of dimensionality  (we have 10,115 dimension now)\n",
    "* some important features are ignored (for example, some models using emoticons yeld better performance than counterparts)"
   ]
  },
  {
   "cell_type": "code",
   "execution_count": 29,
   "metadata": {},
   "outputs": [
    {
     "data": {
      "text/plain": [
       "False"
      ]
     },
     "execution_count": 29,
     "metadata": {},
     "output_type": "execute_result"
    }
   ],
   "source": [
    "\"😂\" in feature_names"
   ]
  },
  {
   "cell_type": "markdown",
   "metadata": {},
   "source": [
    "Let's try using another tokenizer below."
   ]
  },
  {
   "cell_type": "code",
   "execution_count": 32,
   "metadata": {},
   "outputs": [
    {
     "data": {
      "text/plain": [
       "(3613, 500)"
      ]
     },
     "execution_count": 32,
     "metadata": {},
     "output_type": "execute_result"
    }
   ],
   "source": [
    "import nltk\n",
    "nltk.download('punkt')\n",
    "# build analyzers (bag-of-words)\n",
    "BOW_500 = CountVectorizer(max_features=500, tokenizer=nltk.word_tokenize, token_pattern=None)\n",
    "# apply analyzer to training data\n",
    "BOW_500.fit(train_df['text'])\n",
    "train_data_BOW_features_500 = BOW_500.transform(train_df['text'])\n",
    "## check dimension\n",
    "train_data_BOW_features_500.shape"
   ]
  },
  {
   "cell_type": "code",
   "execution_count": 33,
   "metadata": {},
   "outputs": [
    {
     "data": {
      "text/plain": [
       "array([[1, 0, 0, ..., 0, 0, 0],\n",
       "       [0, 6, 0, ..., 0, 0, 0],\n",
       "       [0, 0, 0, ..., 0, 0, 0],\n",
       "       ...,\n",
       "       [0, 0, 0, ..., 0, 0, 0],\n",
       "       [0, 0, 0, ..., 0, 0, 0],\n",
       "       [1, 0, 0, ..., 0, 0, 0]], dtype=int64)"
      ]
     },
     "execution_count": 33,
     "metadata": {},
     "output_type": "execute_result"
    }
   ],
   "source": [
    "train_data_BOW_features_500.toarray()"
   ]
  },
  {
   "cell_type": "code",
   "execution_count": 34,
   "metadata": {},
   "outputs": [
    {
     "data": {
      "text/plain": [
       "array(['change', 'cheer', 'cheerful', 'cheerfully', 'cheering', 'cheery',\n",
       "       'come', 'comes', 'could', 'country'], dtype=object)"
      ]
     },
     "execution_count": 34,
     "metadata": {},
     "output_type": "execute_result"
    }
   ],
   "source": [
    "# observe some feature names\n",
    "feature_names_500 = BOW_500.get_feature_names_out()\n",
    "feature_names_500[100:110]"
   ]
  },
  {
   "cell_type": "code",
   "execution_count": 35,
   "metadata": {},
   "outputs": [
    {
     "name": "stdout",
     "output_type": "stream",
     "text": [
      "\n",
      "Train data BOW features:\n",
      "      !  #  $  %  &  '  'd  'll  'm  're  ...  year  years  yet  you  your  \\\n",
      "0     1  0  0  0  0  0   0    0   0    0  ...     0      0    0    0     0   \n",
      "1     0  6  0  0  1  0   0    0   0    0  ...     0      0    0    0     0   \n",
      "2     0  0  0  0  0  0   0    0   0    0  ...     0      0    0    2     0   \n",
      "3     0  0  0  0  0  0   0    0   0    0  ...     0      0    0    0     0   \n",
      "4     0  0  0  0  0  0   0    1   0    0  ...     0      0    0    0     0   \n",
      "...  .. .. .. .. .. ..  ..  ...  ..  ...  ...   ...    ...  ...  ...   ...   \n",
      "3608  0  0  0  0  0  0   0    0   0    0  ...     0      0    0    0     0   \n",
      "3609  0  0  0  0  0  0   0    0   0    0  ...     0      0    0    0     0   \n",
      "3610  0  0  0  0  0  0   0    0   0    0  ...     0      0    0    0     0   \n",
      "3611  0  0  0  0  1  0   0    0   0    0  ...     0      0    0    0     0   \n",
      "3612  1  0  0  0  0  0   0    0   0    0  ...     0      0    0    1     0   \n",
      "\n",
      "      yourself  ’  “  ”  😂  \n",
      "0            0  0  0  0  0  \n",
      "1            0  0  0  0  0  \n",
      "2            0  0  0  0  0  \n",
      "3            1  0  0  0  0  \n",
      "4            0  0  0  0  0  \n",
      "...        ... .. .. .. ..  \n",
      "3608         0  0  0  0  0  \n",
      "3609         0  0  0  0  0  \n",
      "3610         0  0  0  0  0  \n",
      "3611         0  0  0  0  0  \n",
      "3612         0  0  0  0  0  \n",
      "\n",
      "[3613 rows x 500 columns]\n"
     ]
    }
   ],
   "source": [
    "# Convert train data features to a dataframe to visualize\n",
    "print(\"\\nTrain data BOW features:\")\n",
    "print(pd.DataFrame(train_data_BOW_features_500.toarray(), columns=BOW_500.get_feature_names_out()))"
   ]
  },
  {
   "cell_type": "code",
   "execution_count": 36,
   "metadata": {},
   "outputs": [
    {
     "data": {
      "text/plain": [
       "True"
      ]
     },
     "execution_count": 36,
     "metadata": {},
     "output_type": "execute_result"
    }
   ],
   "source": [
    "\"😂\" in feature_names_500"
   ]
  },
  {
   "cell_type": "markdown",
   "metadata": {},
   "source": [
    "---\n",
    "## 3. Model\n",
    "### 3.1 Decision Trees\n",
    "Using scikit-learn ```DecisionTreeClassifier``` performs word frequency and uses these as features to train a model.  \n",
    "http://scikit-learn.org/stable/modules/generated/sklearn.tree.DecisionTreeClassifier.html#sklearn.tree.DecisionTreeClassifier"
   ]
  },
  {
   "cell_type": "code",
   "execution_count": 37,
   "metadata": {},
   "outputs": [
    {
     "name": "stdout",
     "output_type": "stream",
     "text": [
      "X_train.shape:  (3613, 500)\n",
      "y_train.shape:  (3613,)\n",
      "X_test.shape:  (347, 500)\n",
      "y_test.shape:  (347,)\n"
     ]
    }
   ],
   "source": [
    "from sklearn.tree import DecisionTreeClassifier\n",
    "\n",
    "# for a classificaiton problem, you need to provide both training & testing data\n",
    "X_train_BOW_500 = BOW_500.transform(train_df['text'])\n",
    "y_train_BOW_500 = train_df['emotion']\n",
    "X_test_BOW_500 = BOW_500.transform(test_df['text'])\n",
    "y_test_BOW_500 = test_df['emotion']\n",
    "## take a look at data dimension is a good habit  :)\n",
    "print('X_train.shape: ', X_train_BOW_500.shape)\n",
    "print('y_train.shape: ', y_train_BOW_500.shape)\n",
    "print('X_test.shape: ', X_test_BOW_500.shape)\n",
    "print('y_test.shape: ', y_test_BOW_500.shape)"
   ]
  },
  {
   "cell_type": "code",
   "execution_count": 38,
   "metadata": {},
   "outputs": [
    {
     "data": {
      "text/plain": [
       "3375    sadness\n",
       "2155        joy\n",
       "1103       fear\n",
       "512       anger\n",
       "678       anger\n",
       "         ...   \n",
       "309       anger\n",
       "3333    sadness\n",
       "173       anger\n",
       "46        anger\n",
       "1932       fear\n",
       "Name: emotion, Length: 3613, dtype: object"
      ]
     },
     "metadata": {},
     "output_type": "display_data"
    }
   ],
   "source": [
    "display(y_train_BOW_500)"
   ]
  },
  {
   "cell_type": "code",
   "execution_count": 40,
   "metadata": {},
   "outputs": [
    {
     "name": "stdout",
     "output_type": "stream",
     "text": [
      "BOW_500: ['fear' 'anger' 'joy' 'fear' 'sadness' 'fear' 'fear' 'anger' 'fear' 'fear']\n"
     ]
    }
   ],
   "source": [
    "## build DecisionTree model\n",
    "DT_model = DecisionTreeClassifier(random_state=1)\n",
    "## training!\n",
    "DT_model = DT_model.fit(X_train_BOW_500, y_train_BOW_500)\n",
    "## predict!\n",
    "y_train_pred_BOW_500 = DT_model.predict(X_train_BOW_500)\n",
    "y_test_pred_BOW_500 = DT_model.predict(X_test_BOW_500)\n",
    "## so we get the pred result\n",
    "print(\"BOW_500:\",y_test_pred_BOW_500[:10])"
   ]
  },
  {
   "cell_type": "markdown",
   "metadata": {},
   "source": [
    "---\n",
    "## 4. Results Evaluation"
   ]
  },
  {
   "cell_type": "markdown",
   "metadata": {},
   "source": [
    "Now we will check the results of our model's performance"
   ]
  },
  {
   "cell_type": "code",
   "execution_count": 41,
   "metadata": {},
   "outputs": [
    {
     "name": "stdout",
     "output_type": "stream",
     "text": [
      "BOG_training accuracy: 0.986\n",
      "BOG_testing accuracy: 0.68\n"
     ]
    }
   ],
   "source": [
    "## accuracy\n",
    "from sklearn.metrics import accuracy_score\n",
    "\n",
    "acc_train = accuracy_score(y_true=y_train_BOW_500, y_pred=y_train_pred_BOW_500)\n",
    "acc_test = accuracy_score(y_true=y_test_BOW_500, y_pred=y_test_pred_BOW_500)\n",
    "print('BOG_training accuracy: {}'.format(round(acc_train, 3)))\n",
    "print('BOG_testing accuracy: {}'.format(round(acc_test, 3)))"
   ]
  },
  {
   "cell_type": "code",
   "execution_count": 42,
   "metadata": {},
   "outputs": [
    {
     "name": "stdout",
     "output_type": "stream",
     "text": [
      "BOW500\n",
      "              precision    recall  f1-score   support\n",
      "\n",
      "       anger       0.66      0.68      0.67        84\n",
      "        fear       0.66      0.69      0.67       110\n",
      "         joy       0.72      0.71      0.71        79\n",
      "     sadness       0.70      0.64      0.67        74\n",
      "\n",
      "    accuracy                           0.68       347\n",
      "   macro avg       0.68      0.68      0.68       347\n",
      "weighted avg       0.68      0.68      0.68       347\n",
      "\n"
     ]
    }
   ],
   "source": [
    "## precision, recall, f1-score,\n",
    "from sklearn.metrics import classification_report\n",
    "print(\"BOW500\")\n",
    "print(classification_report(y_true=y_test_BOW_500, y_pred=y_test_pred_BOW_500))"
   ]
  },
  {
   "cell_type": "code",
   "execution_count": 43,
   "metadata": {},
   "outputs": [
    {
     "name": "stdout",
     "output_type": "stream",
     "text": [
      "BOW500\n",
      "[[57 18  6  3]\n",
      " [16 76  9  9]\n",
      " [ 6  9 56  8]\n",
      " [ 7 13  7 47]]\n"
     ]
    }
   ],
   "source": [
    "## check by confusion matrix\n",
    "from sklearn.metrics import confusion_matrix\n",
    "\n",
    "cm = confusion_matrix(y_true=y_test_BOW_500, y_pred=y_test_pred_BOW_500)\n",
    "print(\"BOW500\")\n",
    "print(cm)"
   ]
  },
  {
   "cell_type": "code",
   "execution_count": 44,
   "metadata": {},
   "outputs": [],
   "source": [
    "# Funciton for visualizing confusion_matrix\n",
    "import matplotlib.pyplot as plt\n",
    "import seaborn as sns\n",
    "import numpy as np\n",
    "import itertools\n",
    "\n",
    "def plot_confusion_matrix(cm, classes, title='Confusion matrix',\n",
    "                          cmap=sns.cubehelix_palette(as_cmap=True)):\n",
    "    \"\"\"\n",
    "    This function is modified from:\n",
    "    http://scikit-learn.org/stable/auto_examples/model_selection/plot_confusion_matrix.html\n",
    "    \"\"\"\n",
    "    classes.sort()\n",
    "    tick_marks = np.arange(len(classes))\n",
    "\n",
    "    fig, ax = plt.subplots(figsize=(5,5))\n",
    "    im = ax.imshow(cm, interpolation='nearest', cmap=cmap)\n",
    "    ax.figure.colorbar(im, ax=ax)\n",
    "    ax.set(xticks=np.arange(cm.shape[1]),\n",
    "           yticks=np.arange(cm.shape[0]),\n",
    "           xticklabels = classes,\n",
    "           yticklabels = classes,\n",
    "           title = title,\n",
    "           xlabel = 'True label',\n",
    "           ylabel = 'Predicted label')\n",
    "\n",
    "    fmt = 'd'\n",
    "    thresh = cm.max() / 2.\n",
    "    for i, j in itertools.product(range(cm.shape[0]), range(cm.shape[1])):\n",
    "        plt.text(j, i, format(cm[i, j], fmt), horizontalalignment=\"center\", color=\"white\" if cm[i, j] > thresh else \"black\")\n",
    "    ylim_top = len(classes) - 0.5\n",
    "    plt.ylim([ylim_top, -.5])\n",
    "    plt.tight_layout()\n",
    "    plt.show()"
   ]
  },
  {
   "cell_type": "code",
   "execution_count": 45,
   "metadata": {},
   "outputs": [
    {
     "data": {
      "image/png": "[encoded data removed]",
      "text/plain": [
       "<Figure size 500x500 with 2 Axes>"
      ]
     },
     "metadata": {},
     "output_type": "display_data"
    }
   ],
   "source": [
    "# plot your confusion matrix\n",
    "my_tags = ['anger', 'fear', 'joy', 'sadness']\n",
    "plot_confusion_matrix(cm, classes=my_tags, title='BOW500_Confusion matrix')"
   ]
  },
  {
   "cell_type": "markdown",
   "metadata": {},
   "source": [
    "---\n",
    "### ** >>> Exercise 3 (Take home): **  \n",
    "Can you interpret the results above? What do they mean?"
   ]
  },
  {
   "cell_type": "markdown",
   "metadata": {},
   "source": [
    "#### Answer here\n",
    "* 從混淆矩陣和classification_report中可以發現，無論是預測標籤為fear,但正確標籤為anger，甚至雙方顛倒過來，皆有大部分的誤判，可以發現說當模型在這兩個標籤的對立面上，誤判比例皆為前二。其次預測標籤為sadness,但正確標籤為fear的結果，還有預測標籤為fear,但正確標籤為joy的結果,這兩種組合的誤判率也是我們須注意的地方。另外，這個模型在處理'fear'標籤時具有更高的精準度，因為它有最深的顏色和最高的分數:76。\n"
   ]
  },
  {
   "cell_type": "markdown",
   "metadata": {},
   "source": [
    "---\n",
    "### ** >>> Exercise 4 (Take home): **  \n",
    "Build a model using a ```Naive Bayes``` model and train it. What are the testing results?\n",
    "\n",
    "*Reference*: https://scikit-learn.org/stable/modules/generated/sklearn.naive_bayes.MultinomialNB.html"
   ]
  },
  {
   "cell_type": "code",
   "execution_count": 47,
   "metadata": {},
   "outputs": [
    {
     "name": "stdout",
     "output_type": "stream",
     "text": [
      "Naive Bayes_Tfidf: ['joy' 'anger' 'joy' 'fear' 'anger' 'fear' 'fear' 'anger' 'fear' 'fear']\n"
     ]
    }
   ],
   "source": [
    "#### Answer here\n",
    "from sklearn.naive_bayes import BernoulliNB\n",
    "\n",
    "## build model\n",
    "NB_model = BernoulliNB(alpha = 1.0)\n",
    "## training!\n",
    "NB_model.fit(X_train_BOW_500, y_train_BOW_500)\n",
    "## predict!\n",
    "y_train_pred = NB_model.predict(X_train_BOW_500)\n",
    "y_test_pred = NB_model.predict(X_test_BOW_500)\n",
    "## so we get the pred result\n",
    "print(\"Naive Bayes_Tfidf:\",y_test_pred[:10])"
   ]
  },
  {
   "cell_type": "code",
   "execution_count": 48,
   "metadata": {},
   "outputs": [
    {
     "name": "stdout",
     "output_type": "stream",
     "text": [
      "Naive Bayes_training accuracy: 0.794\n",
      "Naive Bayes_testing accuracy: 0.7\n"
     ]
    }
   ],
   "source": [
    "## accuracy and testing results\n",
    "from sklearn.metrics import accuracy_score\n",
    "\n",
    "acc_train = accuracy_score(y_true=y_train_BOW_500, y_pred=y_train_pred)\n",
    "acc_test = accuracy_score(y_true=y_test_BOW_500, y_pred=y_test_pred)\n",
    "print('Naive Bayes_training accuracy: {}'.format(round(acc_train, 3)))\n",
    "print('Naive Bayes_testing accuracy: {}'.format(round(acc_test, 3)))"
   ]
  },
  {
   "cell_type": "code",
   "execution_count": 49,
   "metadata": {},
   "outputs": [
    {
     "name": "stdout",
     "output_type": "stream",
     "text": [
      "              precision    recall  f1-score   support\n",
      "\n",
      "       anger       0.61      0.68      0.64        84\n",
      "        fear       0.74      0.76      0.75       110\n",
      "         joy       0.81      0.68      0.74        79\n",
      "     sadness       0.66      0.65      0.65        74\n",
      "\n",
      "    accuracy                           0.70       347\n",
      "   macro avg       0.70      0.69      0.70       347\n",
      "weighted avg       0.71      0.70      0.70       347\n",
      "\n"
     ]
    }
   ],
   "source": [
    "## precision, recall, f1-score,\n",
    "from sklearn.metrics import classification_report\n",
    "print(classification_report(y_true=y_test_BOW_500, y_pred=y_test_pred))"
   ]
  },
  {
   "cell_type": "code",
   "execution_count": 50,
   "metadata": {},
   "outputs": [
    {
     "name": "stdout",
     "output_type": "stream",
     "text": [
      "[[57 13  5  9]\n",
      " [15 84  3  8]\n",
      " [10  7 54  8]\n",
      " [11 10  5 48]]\n"
     ]
    },
    {
     "data": {
      "image/png": "[encoded data removed]",
      "text/plain": [
       "<Figure size 500x500 with 2 Axes>"
      ]
     },
     "metadata": {},
     "output_type": "display_data"
    }
   ],
   "source": [
    "## check by confusion matrix\n",
    "from sklearn.metrics import confusion_matrix\n",
    "\n",
    "cm = confusion_matrix(y_true=y_test_BOW_500, y_pred=y_test_pred)\n",
    "print(cm)\n",
    "# plot your confusion matrix\n",
    "my_tags = ['anger', 'fear', 'joy', 'sadness']\n",
    "plot_confusion_matrix(cm, classes=my_tags, title='Naive Bayes_Confusion matrix')"
   ]
  },
  {
   "cell_type": "markdown",
   "metadata": {},
   "source": [
    "---\n",
    "### ** >>> Exercise 5 (Take home): **  \n",
    "\n",
    "How do the results from the Naive Bayes model and the Decision Tree model compare? How do you interpret these differences? Use the theoretical background covered in class to try and explain these differences."
   ]
  },
  {
   "cell_type": "markdown",
   "metadata": {},
   "source": [
    "#### Answer here\n",
    "* 首先從 classification_report 中可以發現，Decision Tree的分類器對於訓練資料的精準度有明顯優勢。相對測試資料而言，Naive Bayes的分類器在於測試資料的精準度較高於訓練資料。從兩種分類器從我們可以發現，Naive Bayes 基於貝氏定理，假定特徵之間是獨立的，對於高度相關的特徵可能表現不佳。因此在訓練時對於大規模和高維數據通常表現得很好。而Decision Tree用樹狀結構來進行分類，通過根據特徵的不同值來分割數據。每個分割點都是基於某個條件，使得在樹的每個節點上都有一個決策。因此在處理非獨立特徵時，可以在樹的不同分支上會多次使用相同的特徵。\n",
    "* 在本次實驗，因為我們有限制只抓取前500個頻率相對較大的特徵，除了在維度部分有限制外，訓練資料不夠多的情形下，其在訓練的精準度上，Naive Bayes分數會低於決策樹的原因；相對決策樹因為善於處理非獨立特徵，可在樹的不同分支上使用相同特徵多次。但相對地決策樹遇到噪音非常敏感，在沒有數據清理的情況，雖然訓練資料的精準度上非常好，但在預測未知的測試資料，表現不甚理想，而Naive Bayes對於每個特徵之間是獨立的，在面對噪音或異常值得情境上相對優勢。\n",
    "* 因此在選擇使用哪一種模型通常取決於數據的特點以及問題的性質。"
   ]
  },
  {
   "cell_type": "markdown",
   "metadata": {},
   "source": [
    "## 5. Other things you can try"
   ]
  },
  {
   "cell_type": "markdown",
   "metadata": {},
   "source": [
    "Thus, there are several things you can try that will affect your results. In order to yield better results, you can experiment by:\n",
    "- Trying different features (Feature engineering)e.g Word2Vec, PCA, LDA, FastText, Clustering\n",
    "- Trying different models\n",
    "- Analyzing your results and interpret them to improve your feature engineering/model building process\n",
    "- Iterate through the steps above until finding a satisfying result\n",
    "\n",
    "Remember that you should also consider the task at hand and the model you'll feed the data to."
   ]
  },
  {
   "cell_type": "markdown",
   "metadata": {},
   "source": [
    "### Bonus: Compare fit -> transform and fit -> predict"
   ]
  },
  {
   "cell_type": "code",
   "execution_count": 51,
   "metadata": {},
   "outputs": [],
   "source": [
    "# 1. Learn a vocabulary dictionary of all tokens in the raw documents.\n",
    "BOW_vectorizer.fit(test_df['text'])\n",
    "\n",
    "# 2. Transform documents to document-term matrix\n",
    "train_data_BOW_features = BOW_vectorizer.transform(train_df['text'])\n",
    "test_data_BOW_features = BOW_vectorizer.transform(test_df['text'])"
   ]
  },
  {
   "cell_type": "code",
   "execution_count": 52,
   "metadata": {},
   "outputs": [],
   "source": [
    "# Training set and Testing set\n",
    "X_train = train_data_BOW_features\n",
    "y_train = train_df['emotion']\n",
    "\n",
    "X_test = test_data_BOW_features\n",
    "y_test = test_df['emotion']\n",
    "\n",
    "## build DecisionTree model\n",
    "DT_model = DecisionTreeClassifier(random_state=1)\n",
    "\n",
    "## training!\n",
    "DT_model = DT_model.fit(X_train, y_train)\n",
    "\n",
    "## predict!\n",
    "y_train_pred = DT_model.predict(X_train)\n",
    "y_test_pred = DT_model.predict(X_test)"
   ]
  },
  {
   "cell_type": "markdown",
   "metadata": {},
   "source": [
    "### Bonus: Randon Forest"
   ]
  },
  {
   "cell_type": "code",
   "execution_count": 53,
   "metadata": {},
   "outputs": [
    {
     "name": "stdout",
     "output_type": "stream",
     "text": [
      "training accuracy: 0.98\n",
      "testing accuracy: 0.82\n",
      "              precision    recall  f1-score   support\n",
      "\n",
      "       anger       0.77      0.86      0.81        84\n",
      "        fear       0.83      0.82      0.83       110\n",
      "         joy       0.85      0.81      0.83        79\n",
      "     sadness       0.84      0.80      0.82        74\n",
      "\n",
      "    accuracy                           0.82       347\n",
      "   macro avg       0.82      0.82      0.82       347\n",
      "weighted avg       0.82      0.82      0.82       347\n",
      "\n"
     ]
    },
    {
     "data": {
      "image/png": "[encoded data removed]",
      "text/plain": [
       "<Figure size 500x500 with 2 Axes>"
      ]
     },
     "metadata": {},
     "output_type": "display_data"
    }
   ],
   "source": [
    "from sklearn.ensemble import RandomForestClassifier\n",
    "from sklearn.metrics import accuracy_score\n",
    "from sklearn.metrics import classification_report\n",
    "\n",
    "## build RandomForest model\n",
    "RF_model = RandomForestClassifier(n_estimators=100, random_state=1) #100 trees in the forest\n",
    "\n",
    "## training!\n",
    "RF_model.fit(X_train, y_train)\n",
    "\n",
    "## predict!\n",
    "y_train_pred = RF_model.predict(X_train)\n",
    "y_test_pred = RF_model.predict(X_test)\n",
    "\n",
    "acc_train = accuracy_score(y_true=y_train, y_pred=y_train_pred)\n",
    "acc_test = accuracy_score(y_true=y_test, y_pred=y_test_pred)\n",
    "\n",
    "print('training accuracy: {}'.format(round(acc_train, 2)))\n",
    "print('testing accuracy: {}'.format(round(acc_test, 2)))\n",
    "\n",
    "print(classification_report(y_true=y_test, y_pred=y_test_pred))\n",
    "\n",
    "## check by confusion matrix\n",
    "from sklearn.metrics import confusion_matrix\n",
    "\n",
    "cm = confusion_matrix(y_true=y_test, y_pred=y_test_pred)\n",
    "# plot your confusion matrix\n",
    "my_tags = ['anger', 'fear', 'joy', 'sadness']\n",
    "plot_confusion_matrix(cm, classes=my_tags, title='RandomForest_Confusion matrix')"
   ]
  },
  {
   "cell_type": "markdown",
   "metadata": {},
   "source": [
    "#### Randon Forest output the pdf of graph"
   ]
  },
  {
   "cell_type": "code",
   "execution_count": 57,
   "metadata": {},
   "outputs": [],
   "source": [
    "# !pip install pydotplus\n",
    "# GraphViz'Link: https://www.graphviz.org/\n",
    "from sklearn.tree import export_graphviz\n",
    "import pydotplus\n",
    "\n",
    "### for instance, to visualize the first three trees from forest:\n",
    "for idx, tree in enumerate(RF_model.estimators_[:3]):\n",
    "    dot_data = export_graphviz(tree, out_file=None)\n",
    "    graph = pydotplus.graph_from_dot_data(dot_data)\n",
    "    graph.write_pdf(f\"random-forest-tree{idx}.pdf\")"
   ]
  },
  {
   "cell_type": "markdown",
   "metadata": {},
   "source": [
    "---\n",
    "## 6. Deep Learning\n",
    "\n",
    "We use [Keras](https://keras.io/) to be our deep learning framwork, and follow the [Model (functional API)](https://keras.io/models/model/) to build a Deep Neural Network (DNN) model. Keras runs with Tensorflow in the backend. It's a nice abstraction to start working with NN models.\n",
    "\n",
    "Because Deep Learning is a 1-semester course, we can't talk about each detail about it in the lab session. Here, we only provide a simple template about how to build & run a DL model successfully. You can follow this template to design your model.\n",
    "\n",
    "We will begin by building a fully connected network, which looks like this:\n",
    "\n",
    "<!-- ![Fully Connected Network](pics/pic1.png) -->\n",
    "![Fully Connected Network](https://drive.google.com/uc?id=1xiET6RSGzgvV4ipD6k7oZy3HtvQpvno4)\n",
    "\n",
    "(source: https://github.com/drewnoff/spark-notebook-ml-labs/tree/master/labs/DLFramework)"
   ]
  },
  {
   "cell_type": "markdown",
   "metadata": {},
   "source": [
    "### 6.1 Prepare data (X, y)"
   ]
  },
  {
   "cell_type": "code",
   "execution_count": 58,
   "metadata": {},
   "outputs": [
    {
     "name": "stdout",
     "output_type": "stream",
     "text": [
      "X_train.shape:  (3613, 500)\n",
      "y_train.shape:  (3613,)\n",
      "X_test.shape:  (347, 500)\n",
      "y_test.shape:  (347,)\n"
     ]
    }
   ],
   "source": [
    "import keras\n",
    "\n",
    "# standardize name (X, y)\n",
    "X_train = BOW_500.transform(train_df['text'])\n",
    "y_train = train_df['emotion']\n",
    "\n",
    "X_test = BOW_500.transform(test_df['text'])\n",
    "y_test = test_df['emotion']\n",
    "\n",
    "## check dimension is a good habbit\n",
    "print('X_train.shape: ', X_train.shape)\n",
    "print('y_train.shape: ', y_train.shape)\n",
    "print('X_test.shape: ', X_test.shape)\n",
    "print('y_test.shape: ', y_test.shape)"
   ]
  },
  {
   "cell_type": "markdown",
   "metadata": {},
   "source": [
    "### 6.2 Deal with categorical label (y)\n",
    "\n",
    "Rather than put your label `train_df['emotion']` directly into a model, we have to process these categorical (or say nominal) label by ourselves.\n",
    "\n",
    "Here, we use the basic method [one-hot encoding](https://en.wikipedia.org/wiki/One-hot) to transform our categorical  labels to numerical ones."
   ]
  },
  {
   "cell_type": "code",
   "execution_count": 59,
   "metadata": {},
   "outputs": [
    {
     "name": "stdout",
     "output_type": "stream",
     "text": [
      "check label:  ['anger' 'fear' 'joy' 'sadness']\n",
      "\n",
      "## Before convert\n",
      "y_train[0:4]:\n",
      " 3375    sadness\n",
      "2155        joy\n",
      "1103       fear\n",
      "512       anger\n",
      "Name: emotion, dtype: object\n",
      "\n",
      "y_train.shape:  (3613,)\n",
      "y_test.shape:  (347,)\n",
      "\n",
      "\n",
      "## After convert\n",
      "y_train[0:4]:\n",
      " [[0. 0. 0. 1.]\n",
      " [0. 0. 1. 0.]\n",
      " [0. 1. 0. 0.]\n",
      " [1. 0. 0. 0.]]\n",
      "\n",
      "y_train.shape:  (3613, 4)\n",
      "y_test.shape:  (347, 4)\n"
     ]
    }
   ],
   "source": [
    "## deal with label (string -> one-hot)\n",
    "\n",
    "from sklearn.preprocessing import LabelEncoder\n",
    "\n",
    "label_encoder = LabelEncoder()\n",
    "label_encoder.fit(y_train)\n",
    "print('check label: ', label_encoder.classes_)\n",
    "print('\\n## Before convert')\n",
    "print('y_train[0:4]:\\n', y_train[0:4])\n",
    "print('\\ny_train.shape: ', y_train.shape)\n",
    "print('y_test.shape: ', y_test.shape)\n",
    "\n",
    "def label_encode(le, labels):\n",
    "    enc = le.transform(labels)\n",
    "    return keras.utils.to_categorical(enc)\n",
    "\n",
    "def label_decode(le, one_hot_label):\n",
    "    dec = np.argmax(one_hot_label, axis=1)\n",
    "    return le.inverse_transform(dec)\n",
    "\n",
    "y_train = label_encode(label_encoder, y_train)\n",
    "y_test = label_encode(label_encoder, y_test)\n",
    "\n",
    "print('\\n\\n## After convert')\n",
    "print('y_train[0:4]:\\n', y_train[0:4])\n",
    "print('\\ny_train.shape: ', y_train.shape)\n",
    "print('y_test.shape: ', y_test.shape)"
   ]
  },
  {
   "cell_type": "markdown",
   "metadata": {},
   "source": [
    "### 6.3 Build model"
   ]
  },
  {
   "cell_type": "code",
   "execution_count": 60,
   "metadata": {},
   "outputs": [
    {
     "name": "stdout",
     "output_type": "stream",
     "text": [
      "input_shape:  500\n",
      "output_shape:  4\n"
     ]
    }
   ],
   "source": [
    "# I/O check\n",
    "input_shape = X_train.shape[1]\n",
    "print('input_shape: ', input_shape)\n",
    "\n",
    "output_shape = len(label_encoder.classes_)\n",
    "print('output_shape: ', output_shape)"
   ]
  },
  {
   "cell_type": "markdown",
   "metadata": {},
   "source": [
    "<!-- ![Imgur](pics/pic2.png) -->\n",
    "![Imgur](https://drive.google.com/uc?id=1xh_tPrNq9v-7xys0qcBzFEmOZejD4i4a)"
   ]
  },
  {
   "cell_type": "code",
   "execution_count": 61,
   "metadata": {},
   "outputs": [
    {
     "name": "stdout",
     "output_type": "stream",
     "text": [
      "Model: \"model\"\n",
      "_________________________________________________________________\n",
      " Layer (type)                Output Shape              Param #   \n",
      "=================================================================\n",
      " input_1 (InputLayer)        [(None, 500)]             0         \n",
      "                                                                 \n",
      " dense (Dense)               (None, 64)                32064     \n",
      "                                                                 \n",
      " re_lu (ReLU)                (None, 64)                0         \n",
      "                                                                 \n",
      " dense_1 (Dense)             (None, 64)                4160      \n",
      "                                                                 \n",
      " re_lu_1 (ReLU)              (None, 64)                0         \n",
      "                                                                 \n",
      " dense_2 (Dense)             (None, 4)                 260       \n",
      "                                                                 \n",
      " softmax (Softmax)           (None, 4)                 0         \n",
      "                                                                 \n",
      "=================================================================\n",
      "Total params: 36,484\n",
      "Trainable params: 36,484\n",
      "Non-trainable params: 0\n",
      "_________________________________________________________________\n"
     ]
    }
   ],
   "source": [
    "from keras.models import Model\n",
    "from keras.layers import Input, Dense\n",
    "from keras.layers import ReLU, Softmax\n",
    "\n",
    "# input layer\n",
    "model_input = Input(shape=(input_shape, ))  # 500\n",
    "X = model_input\n",
    "\n",
    "# 1st hidden layer\n",
    "X_W1 = Dense(units=64)(X)  # 64\n",
    "H1 = ReLU()(X_W1)\n",
    "\n",
    "# 2nd hidden layer\n",
    "H1_W2 = Dense(units=64)(H1)  # 64\n",
    "H2 = ReLU()(H1_W2)\n",
    "\n",
    "# output layer\n",
    "H2_W3 = Dense(units=output_shape)(H2)  # 4\n",
    "H3 = Softmax()(H2_W3)\n",
    "# train_500 -> 64 -> 64 -> [4] -> [0.6,0.3,0.1,0]\n",
    "model_output = H3\n",
    "\n",
    "# create model\n",
    "model = Model(inputs=[model_input], outputs=[model_output])\n",
    "\n",
    "# loss function & optimizer\n",
    "model.compile(optimizer='adam',\n",
    "              loss='categorical_crossentropy',\n",
    "              metrics=['accuracy'])\n",
    "\n",
    "# show model construction\n",
    "model.summary()"
   ]
  },
  {
   "cell_type": "markdown",
   "metadata": {},
   "source": [
    "### 6.4 Train"
   ]
  },
  {
   "cell_type": "code",
   "execution_count": 62,
   "metadata": {},
   "outputs": [
    {
     "name": "stdout",
     "output_type": "stream",
     "text": [
      "Epoch 1/25\n"
     ]
    },
    {
     "name": "stderr",
     "output_type": "stream",
     "text": [
      "C:\\Users\\Tsuchida\\.conda\\envs\\tensorflow\\lib\\site-packages\\tensorflow\\python\\framework\\indexed_slices.py:444: UserWarning:\n",
      "\n",
      "Converting sparse IndexedSlices(IndexedSlices(indices=Tensor(\"gradient_tape/model/dense/embedding_lookup_sparse/Reshape_1:0\", shape=(None,), dtype=int32), values=Tensor(\"gradient_tape/model/dense/embedding_lookup_sparse/Reshape:0\", shape=(None, 64), dtype=float32), dense_shape=Tensor(\"gradient_tape/model/dense/embedding_lookup_sparse/Cast:0\", shape=(2,), dtype=int32))) to a dense Tensor of unknown shape. This may consume a large amount of memory.\n",
      "\n"
     ]
    },
    {
     "name": "stdout",
     "output_type": "stream",
     "text": [
      "113/113 [==============================] - 3s 17ms/step - loss: 1.3158 - accuracy: 0.3814 - val_loss: 1.2504 - val_accuracy: 0.4467\n",
      "Epoch 2/25\n",
      "113/113 [==============================] - 1s 7ms/step - loss: 0.9380 - accuracy: 0.6626 - val_loss: 0.8882 - val_accuracy: 0.6888\n",
      "Epoch 3/25\n",
      "113/113 [==============================] - 1s 7ms/step - loss: 0.5550 - accuracy: 0.8007 - val_loss: 0.8031 - val_accuracy: 0.6916\n",
      "Epoch 4/25\n",
      "113/113 [==============================] - 1s 7ms/step - loss: 0.4086 - accuracy: 0.8458 - val_loss: 0.7863 - val_accuracy: 0.6974\n",
      "Epoch 5/25\n",
      "113/113 [==============================] - 1s 8ms/step - loss: 0.3211 - accuracy: 0.8832 - val_loss: 0.8180 - val_accuracy: 0.6686\n",
      "Epoch 6/25\n",
      "113/113 [==============================] - 1s 7ms/step - loss: 0.2572 - accuracy: 0.9128 - val_loss: 0.8823 - val_accuracy: 0.6772\n",
      "Epoch 7/25\n",
      "113/113 [==============================] - 1s 7ms/step - loss: 0.2150 - accuracy: 0.9267 - val_loss: 0.9057 - val_accuracy: 0.6744\n",
      "Epoch 8/25\n",
      "113/113 [==============================] - 1s 7ms/step - loss: 0.1776 - accuracy: 0.9452 - val_loss: 1.0118 - val_accuracy: 0.6801\n",
      "Epoch 9/25\n",
      "113/113 [==============================] - 1s 6ms/step - loss: 0.1558 - accuracy: 0.9554 - val_loss: 1.0288 - val_accuracy: 0.6599\n",
      "Epoch 10/25\n",
      "113/113 [==============================] - 1s 6ms/step - loss: 0.1372 - accuracy: 0.9577 - val_loss: 1.1264 - val_accuracy: 0.6830\n",
      "Epoch 11/25\n",
      "113/113 [==============================] - 1s 7ms/step - loss: 0.1228 - accuracy: 0.9646 - val_loss: 1.1439 - val_accuracy: 0.6830\n",
      "Epoch 12/25\n",
      "113/113 [==============================] - 1s 7ms/step - loss: 0.1080 - accuracy: 0.9679 - val_loss: 1.2201 - val_accuracy: 0.6772\n",
      "Epoch 13/25\n",
      "113/113 [==============================] - 1s 7ms/step - loss: 0.1011 - accuracy: 0.9709 - val_loss: 1.2427 - val_accuracy: 0.6715\n",
      "Epoch 14/25\n",
      "113/113 [==============================] - 1s 7ms/step - loss: 0.0948 - accuracy: 0.9723 - val_loss: 1.3304 - val_accuracy: 0.6715\n",
      "Epoch 15/25\n",
      "113/113 [==============================] - 1s 6ms/step - loss: 0.0833 - accuracy: 0.9732 - val_loss: 1.3612 - val_accuracy: 0.6599\n",
      "Epoch 16/25\n",
      "113/113 [==============================] - 1s 7ms/step - loss: 0.0836 - accuracy: 0.9740 - val_loss: 1.3963 - val_accuracy: 0.6686\n",
      "Epoch 17/25\n",
      "113/113 [==============================] - 1s 7ms/step - loss: 0.0860 - accuracy: 0.9745 - val_loss: 1.4871 - val_accuracy: 0.6599\n",
      "Epoch 18/25\n",
      "113/113 [==============================] - 1s 7ms/step - loss: 0.0777 - accuracy: 0.9740 - val_loss: 1.4460 - val_accuracy: 0.6715\n",
      "Epoch 19/25\n",
      "113/113 [==============================] - 1s 7ms/step - loss: 0.0742 - accuracy: 0.9770 - val_loss: 1.4862 - val_accuracy: 0.6599\n",
      "Epoch 20/25\n",
      "113/113 [==============================] - 1s 7ms/step - loss: 0.0729 - accuracy: 0.9759 - val_loss: 1.5338 - val_accuracy: 0.6628\n",
      "Epoch 21/25\n",
      "113/113 [==============================] - 1s 6ms/step - loss: 0.0664 - accuracy: 0.9768 - val_loss: 1.5226 - val_accuracy: 0.6542\n",
      "Epoch 22/25\n",
      "113/113 [==============================] - 1s 7ms/step - loss: 0.0640 - accuracy: 0.9790 - val_loss: 1.5222 - val_accuracy: 0.6542\n",
      "Epoch 23/25\n",
      "113/113 [==============================] - 1s 7ms/step - loss: 0.0604 - accuracy: 0.9781 - val_loss: 1.5799 - val_accuracy: 0.6599\n",
      "Epoch 24/25\n",
      "113/113 [==============================] - 1s 7ms/step - loss: 0.0642 - accuracy: 0.9765 - val_loss: 1.6047 - val_accuracy: 0.6686\n",
      "Epoch 25/25\n",
      "113/113 [==============================] - 1s 7ms/step - loss: 0.0611 - accuracy: 0.9776 - val_loss: 1.6384 - val_accuracy: 0.6657\n",
      "training finish\n"
     ]
    }
   ],
   "source": [
    "from keras.callbacks import CSVLogger\n",
    "\n",
    "csv_logger = CSVLogger(path + 'logs/training_log.csv')\n",
    "\n",
    "# training setting\n",
    "epochs = 25\n",
    "batch_size = 32 # 總共3613筆資料, 並非全部丟進去訓練，而是分32筆進行批次處理，等於每回合要處理113筆資料才會更新一次參數\n",
    "\n",
    "# training!\n",
    "history = model.fit(X_train, y_train,\n",
    "                    epochs=epochs,\n",
    "                    batch_size=batch_size,\n",
    "                    callbacks=[csv_logger],\n",
    "                    validation_data = (X_test, y_test))\n",
    "print('training finish')"
   ]
  },
  {
   "cell_type": "markdown",
   "metadata": {},
   "source": [
    "### 6.5 Predict on testing data"
   ]
  },
  {
   "cell_type": "code",
   "execution_count": 63,
   "metadata": {},
   "outputs": [
    {
     "name": "stdout",
     "output_type": "stream",
     "text": [
      "3/3 [==============================] - 0s 4ms/step\n"
     ]
    },
    {
     "data": {
      "text/plain": [
       "array([[1.39465910e-05, 3.50540310e-01, 6.28572106e-01, 2.08735950e-02],\n",
       "       [4.57837075e-01, 1.27665579e-01, 4.06889021e-01, 7.60833127e-03],\n",
       "       [1.13803466e-07, 4.18326096e-07, 9.99990940e-01, 8.56241331e-06],\n",
       "       [6.06758840e-06, 9.99665380e-01, 1.35787488e-07, 3.28365830e-04],\n",
       "       [1.02477320e-01, 2.59393808e-02, 2.53281761e-02, 8.46255124e-01]],\n",
       "      dtype=float32)"
      ]
     },
     "execution_count": 63,
     "metadata": {},
     "output_type": "execute_result"
    }
   ],
   "source": [
    "## predict\n",
    "pred_result = model.predict(X_test, batch_size=128) # 共347筆, 共處理三回合\n",
    "pred_result[:5]"
   ]
  },
  {
   "cell_type": "code",
   "execution_count": 64,
   "metadata": {},
   "outputs": [
    {
     "data": {
      "text/plain": [
       "array(['joy', 'anger', 'joy', 'fear', 'sadness'], dtype=object)"
      ]
     },
     "execution_count": 64,
     "metadata": {},
     "output_type": "execute_result"
    }
   ],
   "source": [
    "pred_result = label_decode(label_encoder, pred_result)\n",
    "pred_result[:5]"
   ]
  },
  {
   "cell_type": "code",
   "execution_count": 65,
   "metadata": {},
   "outputs": [
    {
     "name": "stdout",
     "output_type": "stream",
     "text": [
      "testing accuracy: 0.67\n"
     ]
    }
   ],
   "source": [
    "from sklearn.metrics import accuracy_score\n",
    "\n",
    "print('testing accuracy: {}'.format(round(accuracy_score(label_decode(label_encoder, y_test), pred_result), 2)))"
   ]
  },
  {
   "cell_type": "code",
   "execution_count": 66,
   "metadata": {},
   "outputs": [
    {
     "data": {
      "text/html": [
       "<div>\n",
       "<style scoped>\n",
       "    .dataframe tbody tr th:only-of-type {\n",
       "        vertical-align: middle;\n",
       "    }\n",
       "\n",
       "    .dataframe tbody tr th {\n",
       "        vertical-align: top;\n",
       "    }\n",
       "\n",
       "    .dataframe thead th {\n",
       "        text-align: right;\n",
       "    }\n",
       "</style>\n",
       "<table border=\"1\" class=\"dataframe\">\n",
       "  <thead>\n",
       "    <tr style=\"text-align: right;\">\n",
       "      <th></th>\n",
       "      <th>epoch</th>\n",
       "      <th>accuracy</th>\n",
       "      <th>loss</th>\n",
       "      <th>val_accuracy</th>\n",
       "      <th>val_loss</th>\n",
       "    </tr>\n",
       "  </thead>\n",
       "  <tbody>\n",
       "    <tr>\n",
       "      <th>0</th>\n",
       "      <td>0</td>\n",
       "      <td>0.381400</td>\n",
       "      <td>1.315811</td>\n",
       "      <td>0.446686</td>\n",
       "      <td>1.250437</td>\n",
       "    </tr>\n",
       "    <tr>\n",
       "      <th>1</th>\n",
       "      <td>1</td>\n",
       "      <td>0.662607</td>\n",
       "      <td>0.938034</td>\n",
       "      <td>0.688761</td>\n",
       "      <td>0.888168</td>\n",
       "    </tr>\n",
       "    <tr>\n",
       "      <th>2</th>\n",
       "      <td>2</td>\n",
       "      <td>0.800720</td>\n",
       "      <td>0.555005</td>\n",
       "      <td>0.691643</td>\n",
       "      <td>0.803103</td>\n",
       "    </tr>\n",
       "    <tr>\n",
       "      <th>3</th>\n",
       "      <td>3</td>\n",
       "      <td>0.845834</td>\n",
       "      <td>0.408598</td>\n",
       "      <td>0.697406</td>\n",
       "      <td>0.786339</td>\n",
       "    </tr>\n",
       "    <tr>\n",
       "      <th>4</th>\n",
       "      <td>4</td>\n",
       "      <td>0.883200</td>\n",
       "      <td>0.321124</td>\n",
       "      <td>0.668588</td>\n",
       "      <td>0.817974</td>\n",
       "    </tr>\n",
       "    <tr>\n",
       "      <th>5</th>\n",
       "      <td>5</td>\n",
       "      <td>0.912815</td>\n",
       "      <td>0.257180</td>\n",
       "      <td>0.677233</td>\n",
       "      <td>0.882301</td>\n",
       "    </tr>\n",
       "    <tr>\n",
       "      <th>6</th>\n",
       "      <td>6</td>\n",
       "      <td>0.926654</td>\n",
       "      <td>0.215014</td>\n",
       "      <td>0.674352</td>\n",
       "      <td>0.905742</td>\n",
       "    </tr>\n",
       "    <tr>\n",
       "      <th>7</th>\n",
       "      <td>7</td>\n",
       "      <td>0.945198</td>\n",
       "      <td>0.177551</td>\n",
       "      <td>0.680115</td>\n",
       "      <td>1.011773</td>\n",
       "    </tr>\n",
       "    <tr>\n",
       "      <th>8</th>\n",
       "      <td>8</td>\n",
       "      <td>0.955439</td>\n",
       "      <td>0.155759</td>\n",
       "      <td>0.659942</td>\n",
       "      <td>1.028790</td>\n",
       "    </tr>\n",
       "    <tr>\n",
       "      <th>9</th>\n",
       "      <td>9</td>\n",
       "      <td>0.957653</td>\n",
       "      <td>0.137168</td>\n",
       "      <td>0.682997</td>\n",
       "      <td>1.126388</td>\n",
       "    </tr>\n",
       "    <tr>\n",
       "      <th>10</th>\n",
       "      <td>10</td>\n",
       "      <td>0.964572</td>\n",
       "      <td>0.122767</td>\n",
       "      <td>0.682997</td>\n",
       "      <td>1.143925</td>\n",
       "    </tr>\n",
       "    <tr>\n",
       "      <th>11</th>\n",
       "      <td>11</td>\n",
       "      <td>0.967894</td>\n",
       "      <td>0.108024</td>\n",
       "      <td>0.677233</td>\n",
       "      <td>1.220129</td>\n",
       "    </tr>\n",
       "    <tr>\n",
       "      <th>12</th>\n",
       "      <td>12</td>\n",
       "      <td>0.970938</td>\n",
       "      <td>0.101097</td>\n",
       "      <td>0.671470</td>\n",
       "      <td>1.242749</td>\n",
       "    </tr>\n",
       "    <tr>\n",
       "      <th>13</th>\n",
       "      <td>13</td>\n",
       "      <td>0.972322</td>\n",
       "      <td>0.094805</td>\n",
       "      <td>0.671470</td>\n",
       "      <td>1.330359</td>\n",
       "    </tr>\n",
       "    <tr>\n",
       "      <th>14</th>\n",
       "      <td>14</td>\n",
       "      <td>0.973153</td>\n",
       "      <td>0.083284</td>\n",
       "      <td>0.659942</td>\n",
       "      <td>1.361176</td>\n",
       "    </tr>\n",
       "    <tr>\n",
       "      <th>15</th>\n",
       "      <td>15</td>\n",
       "      <td>0.973983</td>\n",
       "      <td>0.083553</td>\n",
       "      <td>0.668588</td>\n",
       "      <td>1.396271</td>\n",
       "    </tr>\n",
       "    <tr>\n",
       "      <th>16</th>\n",
       "      <td>16</td>\n",
       "      <td>0.974536</td>\n",
       "      <td>0.085989</td>\n",
       "      <td>0.659942</td>\n",
       "      <td>1.487130</td>\n",
       "    </tr>\n",
       "    <tr>\n",
       "      <th>17</th>\n",
       "      <td>17</td>\n",
       "      <td>0.973983</td>\n",
       "      <td>0.077665</td>\n",
       "      <td>0.671470</td>\n",
       "      <td>1.446026</td>\n",
       "    </tr>\n",
       "    <tr>\n",
       "      <th>18</th>\n",
       "      <td>18</td>\n",
       "      <td>0.977027</td>\n",
       "      <td>0.074216</td>\n",
       "      <td>0.659942</td>\n",
       "      <td>1.486220</td>\n",
       "    </tr>\n",
       "    <tr>\n",
       "      <th>19</th>\n",
       "      <td>19</td>\n",
       "      <td>0.975920</td>\n",
       "      <td>0.072877</td>\n",
       "      <td>0.662824</td>\n",
       "      <td>1.533826</td>\n",
       "    </tr>\n",
       "    <tr>\n",
       "      <th>20</th>\n",
       "      <td>20</td>\n",
       "      <td>0.976751</td>\n",
       "      <td>0.066380</td>\n",
       "      <td>0.654179</td>\n",
       "      <td>1.522610</td>\n",
       "    </tr>\n",
       "    <tr>\n",
       "      <th>21</th>\n",
       "      <td>21</td>\n",
       "      <td>0.978965</td>\n",
       "      <td>0.064028</td>\n",
       "      <td>0.654179</td>\n",
       "      <td>1.522168</td>\n",
       "    </tr>\n",
       "    <tr>\n",
       "      <th>22</th>\n",
       "      <td>22</td>\n",
       "      <td>0.978135</td>\n",
       "      <td>0.060401</td>\n",
       "      <td>0.659942</td>\n",
       "      <td>1.579909</td>\n",
       "    </tr>\n",
       "    <tr>\n",
       "      <th>23</th>\n",
       "      <td>23</td>\n",
       "      <td>0.976474</td>\n",
       "      <td>0.064237</td>\n",
       "      <td>0.668588</td>\n",
       "      <td>1.604688</td>\n",
       "    </tr>\n",
       "    <tr>\n",
       "      <th>24</th>\n",
       "      <td>24</td>\n",
       "      <td>0.977581</td>\n",
       "      <td>0.061115</td>\n",
       "      <td>0.665706</td>\n",
       "      <td>1.638377</td>\n",
       "    </tr>\n",
       "  </tbody>\n",
       "</table>\n",
       "</div>"
      ],
      "text/plain": [
       "    epoch  accuracy      loss  val_accuracy  val_loss\n",
       "0       0  0.381400  1.315811      0.446686  1.250437\n",
       "1       1  0.662607  0.938034      0.688761  0.888168\n",
       "2       2  0.800720  0.555005      0.691643  0.803103\n",
       "3       3  0.845834  0.408598      0.697406  0.786339\n",
       "4       4  0.883200  0.321124      0.668588  0.817974\n",
       "5       5  0.912815  0.257180      0.677233  0.882301\n",
       "6       6  0.926654  0.215014      0.674352  0.905742\n",
       "7       7  0.945198  0.177551      0.680115  1.011773\n",
       "8       8  0.955439  0.155759      0.659942  1.028790\n",
       "9       9  0.957653  0.137168      0.682997  1.126388\n",
       "10     10  0.964572  0.122767      0.682997  1.143925\n",
       "11     11  0.967894  0.108024      0.677233  1.220129\n",
       "12     12  0.970938  0.101097      0.671470  1.242749\n",
       "13     13  0.972322  0.094805      0.671470  1.330359\n",
       "14     14  0.973153  0.083284      0.659942  1.361176\n",
       "15     15  0.973983  0.083553      0.668588  1.396271\n",
       "16     16  0.974536  0.085989      0.659942  1.487130\n",
       "17     17  0.973983  0.077665      0.671470  1.446026\n",
       "18     18  0.977027  0.074216      0.659942  1.486220\n",
       "19     19  0.975920  0.072877      0.662824  1.533826\n",
       "20     20  0.976751  0.066380      0.654179  1.522610\n",
       "21     21  0.978965  0.064028      0.654179  1.522168\n",
       "22     22  0.978135  0.060401      0.659942  1.579909\n",
       "23     23  0.976474  0.064237      0.668588  1.604688\n",
       "24     24  0.977581  0.061115      0.665706  1.638377"
      ]
     },
     "execution_count": 66,
     "metadata": {},
     "output_type": "execute_result"
    }
   ],
   "source": [
    "#Let's take a look at the training log\n",
    "training_log = pd.DataFrame()\n",
    "training_log = pd.read_csv(path + \"logs/training_log.csv\")\n",
    "training_log"
   ]
  },
  {
   "cell_type": "markdown",
   "metadata": {},
   "source": [
    "---\n",
    "### ** >>> Exercise 6 (Take home): **  \n",
    "\n",
    "Plot the Training and Validation Accuracy and Loss (different plots), just like the images below.(Note: the pictures below are an example from a different model). How to interpret the graphs you got? How are they related to the concept of overfitting/underfitting covered in class?\n",
    "<table><tr>\n",
    "    <td><img src=\"https://drive.google.com/uc?id=1yyKQlYTdVmBTJw_9hYHzF1r6eFmmJEb2\" style=\"width: 300px;\"/> </td>\n",
    "    <td><img src=\"https://drive.google.com/uc?id=1yqTIlNjs1VtIpKwWaDbV37g70FqggwnY\" style=\"width: 300px;\"/> </td>\n",
    "</tr></table>"
   ]
  },
  {
   "cell_type": "code",
   "execution_count": 67,
   "metadata": {},
   "outputs": [
    {
     "data": {
      "image/png": "[encoded data removed]",
      "text/plain": [
       "<Figure size 640x480 with 1 Axes>"
      ]
     },
     "metadata": {},
     "output_type": "display_data"
    },
    {
     "data": {
      "image/png": "[encoded data removed]",
      "text/plain": [
       "<Figure size 640x480 with 1 Axes>"
      ]
     },
     "metadata": {},
     "output_type": "display_data"
    }
   ],
   "source": [
    "#### Answer here\n",
    "import matplotlib.pyplot as plt\n",
    "training_log\n",
    "# summarize history for accuracy\n",
    "plt.plot(training_log['accuracy'])\n",
    "plt.plot(training_log['val_accuracy'])\n",
    "plt.title('model accuracy')\n",
    "plt.ylabel('accuracy')\n",
    "plt.xlabel('epoch')\n",
    "plt.legend(['Train', 'Validation'], loc='upper left')\n",
    "plt.show()\n",
    "# summarize history for loss\n",
    "plt.plot(training_log['loss'])\n",
    "plt.plot(training_log['val_loss'])\n",
    "plt.title('model loss')\n",
    "plt.ylabel('loss')\n",
    "plt.xlabel('epoch')\n",
    "plt.legend(['Train', 'Validation'], loc='upper left')\n",
    "plt.show()"
   ]
  },
  {
   "cell_type": "markdown",
   "metadata": {},
   "source": [
    "* 我們從上圖模型的Loss學習曲線來解釋為何最終訓練發生的是 overfitting 。一個適合的模型的學習曲線在開始時雖會有較高的訓練或驗證的Loss，但隨著增加訓練範例逐漸降低並逐漸平坦，表明增加更多的訓練範例並不會改善模型在訓練數據上的性能，甚至不會改善模型對未見數據的性能。\n",
    "* 但從圖表中，training loss 一直在不斷地下降，而validation loss 在訓練不到5回合的請況不再下降反而開始上升，代表 model 已經過度迎合 training data 或甚至把噪音和隨機波動也學進來了。\n",
    "* 因此要降低overfitting有幾種方法\n",
    "    1. 增加 regularization\n",
    "    2. 收集更多 data\n",
    "    3. 精簡 features\n",
    "    4. 減低 model complexity"
   ]
  },
  {
   "cell_type": "markdown",
   "metadata": {},
   "source": [
    "### Note\n",
    "\n",
    "* 如果你沒有一個GPU（等級高於GTX 1060）或者你不擅長設定電腦的各種事物，我們建議你使用[kaggle kernel](https://www.kaggle.com/kernels)來進行深度學習模型的訓練。他們已經安裝了所有的庫並提供免費的GPU供您使用。\n",
    "* 但是請注意，您只能運行一個kernel 6小時。在6小時無活動後，您的Kaggle kernel將會關閉（意味著如果你的模型需要超過6小時來訓練，你不能一次性完成它）。\n",
    "### More Information for your reference\n",
    "* Keras document: https://keras.io/\n",
    "* Keras GitHub example: https://github.com/keras-team/keras/tree/master/examples\n",
    "* CS229: Machine Learning: http://cs229.stanford.edu/syllabus.html\n",
    "* Deep Learning cheatsheet: https://stanford.edu/~shervine/teaching/cs-229/cheatsheet-deep-learning\n",
    "* If you want to try TensorFlow or PyTorch: https://pytorch.org/tutorials/\n",
    "https://www.tensorflow.org/tutorials/quickstart/beginner"
   ]
  },
  {
   "cell_type": "markdown",
   "metadata": {},
   "source": [
    "---\n",
    "## 7. Word2Vector\n",
    "\n",
    "We will introduce how to use `gensim` to train your word2vec model and how to load a pre-trained model.\n",
    "\n",
    "https://radimrehurek.com/gensim/index.html"
   ]
  },
  {
   "cell_type": "markdown",
   "metadata": {},
   "source": [
    "### 7.1 Prepare training corpus"
   ]
  },
  {
   "cell_type": "code",
   "execution_count": 22,
   "metadata": {},
   "outputs": [
    {
     "data": {
      "text/html": [
       "<div>\n",
       "<style scoped>\n",
       "    .dataframe tbody tr th:only-of-type {\n",
       "        vertical-align: middle;\n",
       "    }\n",
       "\n",
       "    .dataframe tbody tr th {\n",
       "        vertical-align: top;\n",
       "    }\n",
       "\n",
       "    .dataframe thead th {\n",
       "        text-align: right;\n",
       "    }\n",
       "</style>\n",
       "<table border=\"1\" class=\"dataframe\">\n",
       "  <thead>\n",
       "    <tr style=\"text-align: right;\">\n",
       "      <th></th>\n",
       "      <th>id</th>\n",
       "      <th>text</th>\n",
       "      <th>text_tokenized</th>\n",
       "    </tr>\n",
       "  </thead>\n",
       "  <tbody>\n",
       "    <tr>\n",
       "      <th>2537</th>\n",
       "      <td>30533</td>\n",
       "      <td>Watch this amazing live.ly broadcast by @matt....</td>\n",
       "      <td>[Watch, this, amazing, live.ly, broadcast, by,...</td>\n",
       "    </tr>\n",
       "    <tr>\n",
       "      <th>1943</th>\n",
       "      <td>21086</td>\n",
       "      <td>My mind always seems to work its best at night</td>\n",
       "      <td>[My, mind, always, seems, to, work, its, best,...</td>\n",
       "    </tr>\n",
       "    <tr>\n",
       "      <th>2155</th>\n",
       "      <td>30151</td>\n",
       "      <td>#ContentwiththeLordsPortion:O satisfy us early...</td>\n",
       "      <td>[#, ContentwiththeLordsPortion, :, O, satisfy,...</td>\n",
       "    </tr>\n",
       "    <tr>\n",
       "      <th>3438</th>\n",
       "      <td>40611</td>\n",
       "      <td>Has anyone noticed that @npr stories in recent...</td>\n",
       "      <td>[Has, anyone, noticed, that, @, npr, stories, ...</td>\n",
       "    </tr>\n",
       "    <tr>\n",
       "      <th>2787</th>\n",
       "      <td>30783</td>\n",
       "      <td>@faithstrust @TheeCurrentYear imagine being th...</td>\n",
       "      <td>[@, faithstrust, @, TheeCurrentYear, imagine, ...</td>\n",
       "    </tr>\n",
       "  </tbody>\n",
       "</table>\n",
       "</div>"
      ],
      "text/plain": [
       "         id                                               text  \\\n",
       "2537  30533  Watch this amazing live.ly broadcast by @matt....   \n",
       "1943  21086    My mind always seems to work its best at night    \n",
       "2155  30151  #ContentwiththeLordsPortion:O satisfy us early...   \n",
       "3438  40611  Has anyone noticed that @npr stories in recent...   \n",
       "2787  30783  @faithstrust @TheeCurrentYear imagine being th...   \n",
       "\n",
       "                                         text_tokenized  \n",
       "2537  [Watch, this, amazing, live.ly, broadcast, by,...  \n",
       "1943  [My, mind, always, seems, to, work, its, best,...  \n",
       "2155  [#, ContentwiththeLordsPortion, :, O, satisfy,...  \n",
       "3438  [Has, anyone, noticed, that, @, npr, stories, ...  \n",
       "2787  [@, faithstrust, @, TheeCurrentYear, imagine, ...  "
      ]
     },
     "execution_count": 22,
     "metadata": {},
     "output_type": "execute_result"
    }
   ],
   "source": [
    "## check library\n",
    "import gensim\n",
    "\n",
    "## ignore warnings\n",
    "import warnings\n",
    "warnings.filterwarnings('ignore')\n",
    "\n",
    "# # if you want to see the training messages, you can use it\n",
    "# import logging\n",
    "# logging.basicConfig(format='%(asctime)s : %(levelname)s : %(message)s', level=logging.INFO)\n",
    "\n",
    "## the input type\n",
    "train_df['text_tokenized'] = train_df['text'].apply(lambda x: nltk.word_tokenize(x))\n",
    "train_df[['id', 'text', 'text_tokenized']].head()"
   ]
  },
  {
   "cell_type": "code",
   "execution_count": 23,
   "metadata": {},
   "outputs": [
    {
     "data": {
      "text/plain": [
       "array([list(['Watch', 'this', 'amazing', 'live.ly', 'broadcast', 'by', '@', 'matt.boss', '#', 'musicallyjh']),\n",
       "       list(['My', 'mind', 'always', 'seems', 'to', 'work', 'its', 'best', 'at', 'night']),\n",
       "       list(['#', 'ContentwiththeLordsPortion', ':', 'O', 'satisfy', 'us', 'early', 'with', 'thy', '#', 'mercy', ';', 'that', 'we', 'may', '#', 'rejoice', '&', 'amp', ';', 'be', 'glad', 'all', 'our', 'days.', '#', 'Ps', '90:14', '#', 'gladness', '#', 'joy'])],\n",
       "      dtype=object)"
      ]
     },
     "execution_count": 23,
     "metadata": {},
     "output_type": "execute_result"
    }
   ],
   "source": [
    "## create the training corpus\n",
    "training_corpus = train_df['text_tokenized'].values\n",
    "training_corpus[:3]"
   ]
  },
  {
   "cell_type": "markdown",
   "metadata": {},
   "source": [
    "### 7.2 Training our model\n",
    "\n",
    "You can try to train your own model. More details: https://radimrehurek.com/gensim/models/word2vec.html"
   ]
  },
  {
   "cell_type": "code",
   "execution_count": 24,
   "metadata": {},
   "outputs": [],
   "source": [
    "from gensim.models import Word2Vec\n",
    "\n",
    "## setting\n",
    "vector_dim = 100\n",
    "window_size = 5 # sliding window\n",
    "min_count = 1\n",
    "training_epochs = 20\n",
    "\n",
    "## model\n",
    "word2vec_model = Word2Vec(sentences=training_corpus,\n",
    "                          vector_size=vector_dim, window=window_size,\n",
    "                          min_count=min_count, epochs=training_epochs)"
   ]
  },
  {
   "cell_type": "markdown",
   "metadata": {},
   "source": [
    "### 7.3 Generating word vector (embeddings)"
   ]
  },
  {
   "cell_type": "code",
   "execution_count": 25,
   "metadata": {},
   "outputs": [
    {
     "data": {
      "text/plain": [
       "(100,)"
      ]
     },
     "metadata": {},
     "output_type": "display_data"
    },
    {
     "data": {
      "text/plain": [
       "array([ 0.18723819,  0.09626177, -0.02904237,  0.20364784,  0.12896404,\n",
       "       -1.2950101 ,  0.6717279 ,  1.3212498 , -0.63312   , -0.7809572 ,\n",
       "       -0.59009856, -0.3059993 , -0.23561856,  0.4837991 , -0.07717734,\n",
       "       -0.11093172,  0.30009535, -0.7719779 ,  0.48447844, -1.630931  ,\n",
       "        0.8273186 ,  0.8223338 ,  0.64853597,  0.12366063,  0.02545575,\n",
       "        0.04430988, -0.6240264 ,  1.0628684 , -0.43741006,  0.07974507,\n",
       "        0.8626714 ,  0.2564391 ,  0.5015582 , -0.5411534 , -0.33453006,\n",
       "        0.7138559 , -0.0375627 , -0.2239973 , -0.18548517, -0.25421175,\n",
       "        0.2370412 , -0.08342534, -0.22057192,  0.57177967,  0.7689672 ,\n",
       "       -0.18063359, -0.5721034 , -0.10704278,  0.20189324,  0.45540667,\n",
       "        0.26875374,  0.1259258 ,  0.2308815 , -0.0915096 , -0.37801313,\n",
       "       -0.26839557,  0.04781114, -0.07466151, -0.27348867, -0.61246693,\n",
       "       -0.05228074,  0.05682725,  0.35191998,  0.09911203, -0.7487974 ,\n",
       "        0.89173675,  0.4553454 ,  0.25673357, -1.4209992 ,  0.6074068 ,\n",
       "        0.01153325,  0.3239548 ,  0.10168194, -0.32661307,  0.752763  ,\n",
       "       -0.43465683,  0.5819706 ,  0.35546818, -0.34893966,  0.10788856,\n",
       "       -0.40517467, -0.22721575, -1.0877513 ,  0.8519638 , -0.10554601,\n",
       "       -0.6676603 ,  0.7831304 ,  0.5078418 ,  0.25831252,  0.5452282 ,\n",
       "        1.0155662 , -0.12779415,  0.12455992,  0.264687  ,  1.1778641 ,\n",
       "       -0.08216095,  0.12638159, -0.16165836,  0.29835883, -0.14469129],\n",
       "      dtype=float32)"
      ]
     },
     "execution_count": 25,
     "metadata": {},
     "output_type": "execute_result"
    }
   ],
   "source": [
    "# get the corresponding vector of a word\n",
    "word_vec = word2vec_model.wv['happy'] # 將文字轉向量\n",
    "display(word_vec.shape)\n",
    "word_vec"
   ]
  },
  {
   "cell_type": "code",
   "execution_count": 26,
   "metadata": {},
   "outputs": [
    {
     "data": {
      "text/plain": [
       "[('birthday', 0.9297583103179932),\n",
       " ('blessed', 0.9092535376548767),\n",
       " ('Be', 0.9082258343696594),\n",
       " ('help', 0.9041695594787598),\n",
       " ('PUSSY\\\\nP', 0.8981004953384399),\n",
       " ('smile', 0.8969538807868958),\n",
       " ('right', 0.8961185216903687),\n",
       " ('bday', 0.8921496868133545),\n",
       " ('keeping', 0.8920034170150757),\n",
       " ('memories😊', 0.8915759325027466)]"
      ]
     },
     "execution_count": 26,
     "metadata": {},
     "output_type": "execute_result"
    }
   ],
   "source": [
    "# 確定這個向量是否能代表該字且與該字相似的單字\n",
    "# Get the most similar words\n",
    "word = 'happy'\n",
    "topn = 10\n",
    "word2vec_model.wv.most_similar(word, topn=topn)"
   ]
  },
  {
   "cell_type": "markdown",
   "metadata": {},
   "source": [
    "### 7.4 Using a pre-trained w2v model\n",
    "\n",
    "Instead of training your own model ,you can use a model that has already been trained. Here, we see 2 ways of doing that:\n",
    "\n",
    "\n",
    "#### (1) Download model by yourself\n",
    "\n",
    "source: [GoogleNews-vectors-negative300](https://drive.google.com/file/d/0B7XkCwpI5KDYNlNUTTlSS21pQmM/view?resourcekey=0-wjGZdNAUop6WykTtMip30g)\n",
    "\n",
    "more details: https://radimrehurek.com/gensim/models/keyedvectors.html"
   ]
  },
  {
   "cell_type": "code",
   "execution_count": 27,
   "metadata": {},
   "outputs": [
    {
     "name": "stdout",
     "output_type": "stream",
     "text": [
      "load ok\n"
     ]
    },
    {
     "data": {
      "text/plain": [
       "[('glad', 0.7408890724182129),\n",
       " ('pleased', 0.6632170677185059),\n",
       " ('ecstatic', 0.6626912355422974),\n",
       " ('overjoyed', 0.6599286794662476),\n",
       " ('thrilled', 0.6514049172401428),\n",
       " ('satisfied', 0.6437949538230896),\n",
       " ('proud', 0.636042058467865),\n",
       " ('delighted', 0.627237856388092),\n",
       " ('disappointed', 0.6269949674606323),\n",
       " ('excited', 0.6247665286064148)]"
      ]
     },
     "execution_count": 27,
     "metadata": {},
     "output_type": "execute_result"
    }
   ],
   "source": [
    "from gensim.models import KeyedVectors\n",
    "\n",
    "## Note: this model is very huge, this will take some time ...\n",
    "model_path = path + \"GoogleNews/GoogleNews-vectors-negative300.bin.gz\"\n",
    "#解壓縮取的模型\n",
    "w2v_google_model = KeyedVectors.load_word2vec_format(model_path, binary=True)\n",
    "print('load ok')\n",
    "\n",
    "w2v_google_model.most_similar('happy', topn=10)"
   ]
  },
  {
   "cell_type": "markdown",
   "metadata": {},
   "source": [
    "#### (2) Using gensim api\n",
    "\n",
    "Other pretrained models are available here: https://github.com/RaRe-Technologies/gensim-data"
   ]
  },
  {
   "cell_type": "code",
   "execution_count": 7,
   "metadata": {},
   "outputs": [
    {
     "name": "stdout",
     "output_type": "stream",
     "text": [
      "[==================================================] 100.0% 104.8/104.8MB downloaded\n",
      "load ok\n"
     ]
    },
    {
     "data": {
      "text/plain": [
       "[('birthday', 0.9577818512916565),\n",
       " ('thank', 0.937666654586792),\n",
       " ('welcome', 0.93361496925354),\n",
       " ('love', 0.9176183342933655),\n",
       " ('miss', 0.9164500832557678),\n",
       " ('hello', 0.9158351421356201),\n",
       " ('thanks', 0.915008544921875),\n",
       " ('merry', 0.9053249359130859),\n",
       " ('bless', 0.902732253074646),\n",
       " ('wish', 0.9013164043426514)]"
      ]
     },
     "execution_count": 7,
     "metadata": {},
     "output_type": "execute_result"
    }
   ],
   "source": [
    "import gensim.downloader as api\n",
    "\n",
    "# 使用其他模型 :glove-twitter-25\n",
    "## If you see `SSL: CERTIFICATE_VERIFY_FAILED` error, use this:\n",
    "import ssl\n",
    "import urllib.request\n",
    "ssl._create_default_https_context = ssl._create_unverified_context\n",
    "\n",
    "glove_twitter_25_model = api.load(\"glove-twitter-25\")\n",
    "print('load ok')\n",
    "\n",
    "glove_twitter_25_model.most_similar('happy', topn=10)"
   ]
  },
  {
   "cell_type": "markdown",
   "metadata": {},
   "source": [
    "### 7.5 king + woman - man = ?\n",
    "* Let's run one of the most famous examples for Word2Vec and compute the similarity between these 3 words:"
   ]
  },
  {
   "cell_type": "code",
   "execution_count": 8,
   "metadata": {},
   "outputs": [
    {
     "data": {
      "text/plain": [
       "[('queen', 0.7118193507194519),\n",
       " ('monarch', 0.6189674139022827),\n",
       " ('princess', 0.5902431011199951),\n",
       " ('crown_prince', 0.5499460697174072),\n",
       " ('prince', 0.5377321839332581),\n",
       " ('kings', 0.5236844420433044),\n",
       " ('Queen_Consort', 0.5235945582389832),\n",
       " ('queens', 0.5181134343147278),\n",
       " ('sultan', 0.5098593831062317),\n",
       " ('monarchy', 0.5087411999702454)]"
      ]
     },
     "execution_count": 8,
     "metadata": {},
     "output_type": "execute_result"
    }
   ],
   "source": [
    "w2v_google_model.most_similar(positive=['king', 'woman'], negative=['man'])"
   ]
  },
  {
   "cell_type": "markdown",
   "metadata": {},
   "source": [
    "---\n",
    "### ** >>> Exercise 7 (Take home): **  \n",
    "\n",
    "Now, we have the word vectors, but our input data is a sequence of words (or say sentence).\n",
    "How can we utilize these \"word\" vectors to represent the sentence data and train our model?\n",
    "* [Migrating from Gensim 3.x to 4](https://github.com/piskvorky/gensim/wiki/Migrating-from-Gensim-3.x-to-4)\n",
    "* [Doc2VEC]( https://radimrehurek.com/gensim/auto_examples/tutorials/run_doc2vec_lee.html)\n",
    "* [reference](https://spotintelligence.com/2023/09/06/doc2vec/)"
   ]
  },
  {
   "cell_type": "code",
   "execution_count": 20,
   "metadata": {},
   "outputs": [
    {
     "name": "stdout",
     "output_type": "stream",
     "text": [
      "['we', 'have', 'the', 'word', 'vectors']\n",
      "(300, 5)\n",
      "(300,)\n"
     ]
    },
    {
     "data": {
      "text/plain": [
       "array([ 0.5230713 ,  0.26220703,  0.34423828,  0.69311523, -0.8947754 ,\n",
       "       -0.26257324, -0.1177063 , -0.34033203,  0.17822266,  0.4824829 ,\n",
       "       -0.07836914, -0.91796875, -0.19671631,  0.06832886, -0.4883423 ,\n",
       "        0.21514893,  0.04925537,  0.16101074, -0.23510742, -0.4491577 ,\n",
       "       -0.371521  ,  0.4588623 ,  0.48526   , -0.24106598,  0.19213867,\n",
       "        0.2902832 , -0.3602295 , -0.04199219,  0.25105286, -0.02891922,\n",
       "       -0.30288696,  0.09558105,  0.01831055, -0.02163696,  0.12390137,\n",
       "        0.48272705,  0.10934448, -0.16015625,  0.4794922 ,  0.04943848,\n",
       "        0.28479004,  0.25952148,  0.33820343,  0.38134766,  0.03912354,\n",
       "       -0.11094666,  0.16955566, -0.10766602,  0.21557617,  0.46276855,\n",
       "       -0.06835938,  0.05670166, -0.5039673 , -0.19921875,  0.00830078,\n",
       "        0.2685547 , -0.18847656, -0.67529297,  0.36517334, -0.04125977,\n",
       "       -0.00512695,  0.45178223, -0.25097656, -0.02453613,  0.00219727,\n",
       "       -0.3154297 ,  0.09924316,  0.93359375, -0.7883606 ,  0.5998535 ,\n",
       "       -0.23743922,  0.15344238,  0.29208374, -0.36450195, -0.46411133,\n",
       "       -0.45983887,  0.375     ,  0.34761047,  0.2845459 ,  0.51123047,\n",
       "       -0.10498047, -0.43041992,  0.48486328,  0.13122559,  0.5031128 ,\n",
       "       -0.17358398, -0.589859  ,  0.6154785 , -0.1706543 ,  0.3302002 ,\n",
       "        0.39031982, -0.23706055, -0.70425415, -0.12939453, -0.05322266,\n",
       "       -0.09692383, -0.12011719,  0.08422852,  0.21325684, -0.27941895,\n",
       "       -0.26469612, -0.8977051 , -0.11437988, -0.01171875, -0.45458984,\n",
       "        0.03125   , -0.76342773, -0.01226807,  0.23950195, -0.24829102,\n",
       "       -1.1428223 , -0.11181641,  0.17993164, -0.06845093,  0.3137207 ,\n",
       "        0.10070801,  0.475708  , -0.5761719 ,  0.41748047, -0.11352539,\n",
       "       -0.78686523, -0.5991211 , -0.5668335 ,  0.33666992, -0.13891602,\n",
       "        0.10559082, -0.46032715,  0.01123047,  0.0322876 , -0.1048584 ,\n",
       "        0.2838745 , -0.81933594, -0.7232666 , -0.10400391, -0.18804932,\n",
       "       -0.3182373 ,  0.34570312,  0.29882812,  0.6699219 ,  0.6105957 ,\n",
       "        0.24108887, -0.3031006 ,  0.21685791, -0.05438232,  0.24987793,\n",
       "        0.06835938, -0.00854492, -0.41223145, -0.65963745, -0.42315674,\n",
       "        0.26834106,  0.16809082, -0.8222656 , -0.29370117, -0.22216797,\n",
       "        0.09619141, -0.7282715 , -0.2088623 , -0.20626831, -0.06932068,\n",
       "        0.03509521,  0.42980957, -0.21203613,  0.14257812, -0.03442383,\n",
       "       -0.42236328, -0.40063477, -0.0335083 , -0.31601715, -0.07989502,\n",
       "       -0.109375  ,  0.22753906, -0.72106934, -0.5258789 ,  0.6434784 ,\n",
       "       -0.05883789,  0.46740723, -0.98828125, -0.02478027, -0.13903809,\n",
       "        0.00585938,  0.03771973,  0.44142914, -0.10742188,  0.31921387,\n",
       "       -0.08374023, -0.01708984, -0.08673096,  0.7558594 ,  0.83569336,\n",
       "       -0.0045166 ,  0.27075195, -0.23022461, -0.01501465, -0.4897461 ,\n",
       "       -0.11779785, -0.23851776, -0.032547  , -0.18237305, -0.3230896 ,\n",
       "        0.42285156,  0.51538086, -0.1862793 ,  0.22140503, -0.09451294,\n",
       "        0.21191406, -0.22363281,  0.00708008,  0.02615356,  0.07373047,\n",
       "       -0.02709961,  0.19372559, -0.7189026 ,  0.24264526, -0.5800781 ,\n",
       "       -0.01966858,  0.697876  ,  0.13208008, -0.25146484,  0.1899414 ,\n",
       "        0.04052734, -0.05728149,  0.1739502 , -0.2902832 ,  0.27197266,\n",
       "       -0.3203125 ,  0.3651123 ,  0.56085205,  0.35620117, -0.11779785,\n",
       "       -0.42370605, -0.04614258,  0.6035156 ,  0.04052734,  0.06134796,\n",
       "       -0.4552002 ,  0.01342773, -0.21435547,  0.9814453 , -0.14981079,\n",
       "       -0.153656  ,  0.5620117 ,  0.36740112, -0.30246162,  0.24584961,\n",
       "       -0.15246582,  0.24060059,  0.515625  , -0.00524902,  0.17993164,\n",
       "        0.03613281,  0.10571289,  0.12255859,  0.05419922,  0.00970459,\n",
       "       -0.90216064, -0.09448242,  0.23925781, -0.31274414, -0.95874023,\n",
       "        0.01916504, -0.22998047, -0.3526001 , -0.07617188,  0.25317383,\n",
       "        0.44677734,  0.2720642 , -0.10461426, -0.5891113 ,  0.21081543,\n",
       "        0.05200195,  0.87353516,  0.2906494 ,  0.28564453,  0.23730469,\n",
       "        0.24560547, -0.38104248, -0.5415039 ,  0.22607422,  0.28710938,\n",
       "       -0.4880371 ,  0.13832092,  0.41436768, -0.08110046,  0.18017578,\n",
       "        0.26953506,  0.1229248 ,  0.11767578, -0.2023468 ,  0.30603027,\n",
       "       -0.3614502 ,  0.27941895, -0.08477783, -0.11442947,  0.31079102,\n",
       "       -0.06256104, -0.29162598, -0.34179688, -0.04469299, -0.14331055],\n",
       "      dtype=float32)"
      ]
     },
     "execution_count": 20,
     "metadata": {},
     "output_type": "execute_result"
    }
   ],
   "source": [
    "####Answer\n",
    "# 將單詞向量相加以創建一個代表句子的新向量\n",
    "import numpy as np\n",
    "\n",
    "sentence = \"we have the word vectors\"\n",
    "words_vec = np.array([])\n",
    "words = nltk.word_tokenize(sentence)\n",
    "print(words)\n",
    "\n",
    "for w in words:\n",
    "    wv = w2v_google_model[w]\n",
    "    # 拓展维度 expand_dims\n",
    "    wv = np.expand_dims(wv, axis=1)\n",
    "    if len(words_vec) == 0:\n",
    "        words_vec = wv\n",
    "    else:\n",
    "        words_vec = np.concatenate((words_vec, wv), axis=1)\n",
    "        \n",
    "print(words_vec.shape)\n",
    "sent_v = words_vec.sum(axis=1)\n",
    "print(sent_v.shape)\n",
    "sent_v"
   ]
  },
  {
   "cell_type": "markdown",
   "metadata": {},
   "source": [
    "### 8. Clustering: k-means\n",
    "\n",
    "Here we introduce how to use `sklearn` to do the basic **unsupervised learning** approach, k-means.    \n",
    "\n",
    "more details: http://scikit-learn.org/stable/modules/generated/sklearn.cluster.KMeans.html"
   ]
  },
  {
   "cell_type": "markdown",
   "metadata": {},
   "source": [
    "#### Basic concept\n",
    "\n",
    "![Image](https://i.imgur.com/PEdUf54.png)\n",
    "\n",
    "(img source: https://towardsdatascience.com/k-means-clustering-identifying-f-r-i-e-n-d-s-in-the-world-of-strangers-695537505d)"
   ]
  },
  {
   "cell_type": "code",
   "execution_count": 28,
   "metadata": {},
   "outputs": [
    {
     "name": "stdout",
     "output_type": "stream",
     "text": [
      "target words:  ['happy', 'fear', 'angry', 'car', 'teacher', 'computer']\n",
      "[ 0.18723819  0.09626177 -0.02904237  0.20364784  0.12896404 -1.2950101\n",
      "  0.6717279   1.3212498  -0.63312    -0.7809572  -0.59009856 -0.3059993\n",
      " -0.23561856  0.4837991  -0.07717734 -0.11093172  0.30009535 -0.7719779\n",
      "  0.48447844 -1.630931    0.8273186   0.8223338   0.64853597  0.12366063\n",
      "  0.02545575  0.04430988 -0.6240264   1.0628684  -0.43741006  0.07974507\n",
      "  0.8626714   0.2564391   0.5015582  -0.5411534  -0.33453006  0.7138559\n",
      " -0.0375627  -0.2239973  -0.18548517 -0.25421175  0.2370412  -0.08342534\n",
      " -0.22057192  0.57177967  0.7689672  -0.18063359 -0.5721034  -0.10704278\n",
      "  0.20189324  0.45540667  0.26875374  0.1259258   0.2308815  -0.0915096\n",
      " -0.37801313 -0.26839557  0.04781114 -0.07466151 -0.27348867 -0.61246693\n",
      " -0.05228074  0.05682725  0.35191998  0.09911203 -0.7487974   0.89173675\n",
      "  0.4553454   0.25673357 -1.4209992   0.6074068   0.01153325  0.3239548\n",
      "  0.10168194 -0.32661307  0.752763   -0.43465683  0.5819706   0.35546818\n",
      " -0.34893966  0.10788856 -0.40517467 -0.22721575 -1.0877513   0.8519638\n",
      " -0.10554601 -0.6676603   0.7831304   0.5078418   0.25831252  0.5452282\n",
      "  1.0155662  -0.12779415  0.12455992  0.264687    1.1778641  -0.08216095\n",
      "  0.12638159 -0.16165836  0.29835883 -0.14469129]\n"
     ]
    }
   ],
   "source": [
    "# clustering target\n",
    "target_list = ['happy', 'fear', 'angry', 'car', 'teacher', 'computer']\n",
    "print('target words: ', target_list)\n",
    "\n",
    "# convert to word vector\n",
    "X = [word2vec_model.wv[word] for word in target_list]\n",
    "print(X[0])"
   ]
  },
  {
   "cell_type": "code",
   "execution_count": 29,
   "metadata": {},
   "outputs": [
    {
     "name": "stdout",
     "output_type": "stream",
     "text": [
      "[1 1 1 0 0 0]\n",
      "word: happy \t cluster: 1\n",
      "word: fear \t cluster: 1\n",
      "word: angry \t cluster: 1\n",
      "word: car \t cluster: 0\n",
      "word: teacher \t cluster: 0\n",
      "word: computer \t cluster: 0\n"
     ]
    }
   ],
   "source": [
    "from sklearn.cluster import KMeans\n",
    "\n",
    "# we have to decide how many cluster (k) we want\n",
    "k = 2\n",
    "\n",
    "# k-means model\n",
    "kmeans_model = KMeans(n_clusters=k)\n",
    "kmeans_model.fit(X)\n",
    "\n",
    "# cluster result\n",
    "cluster_result = kmeans_model.labels_\n",
    "print(cluster_result )\n",
    "# show\n",
    "for i in range(len(target_list)):\n",
    "    print('word: {} \\t cluster: {}'.format(target_list[i], cluster_result[i]))"
   ]
  },
  {
   "cell_type": "markdown",
   "metadata": {},
   "source": [
    "<!-- ![Imgur](pics/pic6.png) -->\n",
    "![Imgur](https://drive.google.com/uc?id=1yf3LVoq-5PM66lm6GJVyckYvPJfw0-Wb)"
   ]
  },
  {
   "cell_type": "code",
   "execution_count": 30,
   "metadata": {},
   "outputs": [
    {
     "data": {
      "text/plain": [
       "array([0])"
      ]
     },
     "execution_count": 30,
     "metadata": {},
     "output_type": "execute_result"
    }
   ],
   "source": [
    "#check cluster membership\n",
    "word = 'student'\n",
    "word_vec = word2vec_model.wv[word]\n",
    "kmeans_model.predict([word_vec])"
   ]
  },
  {
   "cell_type": "code",
   "execution_count": 31,
   "metadata": {},
   "outputs": [
    {
     "data": {
      "text/plain": [
       "array([1])"
      ]
     },
     "execution_count": 31,
     "metadata": {},
     "output_type": "execute_result"
    }
   ],
   "source": [
    "#check cluster membership\n",
    "word = 'sad'\n",
    "word_vec = word2vec_model.wv[word]\n",
    "kmeans_model.predict([word_vec])"
   ]
  },
  {
   "cell_type": "markdown",
   "metadata": {},
   "source": [
    "## 9. High-dimension Visualization: t-SNE\n",
    "* 目標利用t-SNE來降維(與PCA相似)\n",
    "* No matter if you use the Bag-of-words, TF-IDF, or Word2Vec, it's very hard to see the embedding result, because the dimension is larger than 3.  \n",
    "\n",
    "* In Lab 1, we already talked about PCA. We can use PCA to reduce the dimension of our data, then visualize it. However, if you dig deeper into the result, you'd find it is insufficient.\n",
    "\n",
    "* Our aim will be to create a visualization similar to the one below:"
   ]
  },
  {
   "cell_type": "markdown",
   "metadata": {},
   "source": [
    "<!--#![Image](pics/pic7.png)-->\n",
    "![Imgur](https://drive.google.com/uc?id=1yTtnM9ePzkUTeMwTeZ3DLIuD3OU_GB3o)\n",
    "source: https://www.fabian-keller.de/research/high-dimensional-data-visualization\n",
    "\n",
    "Here we would like to introduce another visualization method called t-SNE.  \n",
    "http://scikit-learn.org/stable/modules/generated/sklearn.manifold.TSNE.html"
   ]
  },
  {
   "cell_type": "markdown",
   "metadata": {},
   "source": [
    "### 9.1 Prepare visualizing target"
   ]
  },
  {
   "cell_type": "markdown",
   "metadata": {},
   "source": [
    "Let's prepare data lists like:\n",
    "- happy words\n",
    "- angry words\n",
    "- data words\n",
    "- mining words"
   ]
  },
  {
   "cell_type": "code",
   "execution_count": 32,
   "metadata": {},
   "outputs": [
    {
     "name": "stdout",
     "output_type": "stream",
     "text": [
      "happy_words:  ['happy', 'glad', 'pleased', 'ecstatic', 'overjoyed', 'thrilled']\n",
      "angry_words:  ['angry', 'irate', 'enraged', 'indignant', 'incensed', 'annoyed']\n",
      "data_words:  ['data', 'Data', 'datasets', 'dataset', 'databases', 'statistics']\n",
      "mining_words:  ['mining', 'Mining', 'mines', 'coal_mining', 'mine', 'miner']\n",
      "\n",
      "target words: \n",
      "['happy', 'glad', 'pleased', 'ecstatic', 'overjoyed', 'thrilled', 'angry', 'irate', 'enraged', 'indignant', 'incensed', 'annoyed', 'data', 'Data', 'datasets', 'dataset', 'databases', 'statistics', 'mining', 'Mining', 'mines', 'coal_mining', 'mine', 'miner']\n",
      "\n",
      "color list:\n",
      "['b', 'b', 'b', 'b', 'b', 'b', 'g', 'g', 'g', 'g', 'g', 'g', 'r', 'r', 'r', 'r', 'r', 'r', 'y', 'y', 'y', 'y', 'y', 'y']\n"
     ]
    }
   ],
   "source": [
    "word_list = ['happy', 'angry', 'data', 'mining']\n",
    "\n",
    "topn = 5 #前五名 , 共24個單字\n",
    "happy_words = ['happy'] + [word_ for word_, sim_ in w2v_google_model.most_similar('happy', topn=topn)]\n",
    "angry_words = ['angry'] + [word_ for word_, sim_ in w2v_google_model.most_similar('angry', topn=topn)]\n",
    "data_words = ['data'] + [word_ for word_, sim_ in w2v_google_model.most_similar('data', topn=topn)]\n",
    "mining_words = ['mining'] + [word_ for word_, sim_ in w2v_google_model.most_similar('mining', topn=topn)]\n",
    "\n",
    "print('happy_words: ', happy_words)\n",
    "print('angry_words: ', angry_words)\n",
    "print('data_words: ', data_words)\n",
    "print('mining_words: ', mining_words)\n",
    "\n",
    "target_words = happy_words + angry_words + data_words + mining_words\n",
    "print('\\ntarget words: ')\n",
    "print(target_words)\n",
    "\n",
    "print('\\ncolor list:')\n",
    "cn = topn + 1\n",
    "color = ['b'] * cn + ['g'] * cn + ['r'] * cn + ['y'] * cn #利用顏色可視化\n",
    "print(color)"
   ]
  },
  {
   "cell_type": "markdown",
   "metadata": {},
   "source": [
    "### 9.2 Plot using t-SNE (2-dimension)"
   ]
  },
  {
   "cell_type": "code",
   "execution_count": 33,
   "metadata": {},
   "outputs": [
    {
     "name": "stdout",
     "output_type": "stream",
     "text": [
      "(224, 300)\n",
      "(224, 2)\n"
     ]
    },
    {
     "data": {
      "image/png": "[encoded data removed]",
      "text/plain": [
       "<Figure size 862.5x862.5 with 1 Axes>"
      ]
     },
     "metadata": {},
     "output_type": "display_data"
    }
   ],
   "source": [
    "%matplotlib inline\n",
    "import matplotlib.pyplot as plt\n",
    "from sklearn.manifold import TSNE\n",
    "\n",
    "## w2v model\n",
    "model = w2v_google_model\n",
    "\n",
    "## prepare training word vectors\n",
    "size = 200\n",
    "target_size = len(target_words) #24\n",
    "all_word = list(model.index_to_key) # google_model所有文字200\n",
    "word_train = target_words + all_word[:size] # 24+200\n",
    "X_train = model[word_train]\n",
    "print(X_train.shape)\n",
    "\n",
    "## t-SNE model\n",
    "tsne = TSNE(n_components=2, metric='cosine', random_state=28) #將維度降到2\n",
    "\n",
    "## training\n",
    "X_tsne = tsne.fit_transform(X_train)\n",
    "print(X_tsne.shape)\n",
    "## plot the result 顯示僅這24個單字\n",
    "plt.figure(figsize=(7.5, 7.5), dpi=115)\n",
    "plt.scatter(X_tsne[:target_size, 0], X_tsne[:target_size, 1], c=color)\n",
    "for label, x, y in zip(target_words, X_tsne[:target_size, 0], X_tsne[:target_size, 1]):\n",
    "    plt.annotate(label, xy=(x,y), xytext=(0,0),  textcoords='offset points')\n",
    "plt.show()"
   ]
  },
  {
   "cell_type": "markdown",
   "metadata": {},
   "source": [
    "---\n",
    "### ** >>> Exercise 8 (Take home): **  \n",
    "\n",
    "Generate a t-SNE visualization to show the 15 words most related to the words \"angry\", \"happy\", \"sad\", \"fear\" (60 words total)."
   ]
  },
  {
   "cell_type": "code",
   "execution_count": 34,
   "metadata": {},
   "outputs": [
    {
     "name": "stdout",
     "output_type": "stream",
     "text": [
      "angry_words:  ['irate', 'enraged', 'indignant', 'incensed', 'annoyed', 'agitated', 'frustrated', 'furious', 'unhappy', 'outraged', 'livid', 'irritated', 'exasperated', 'angrier', 'Angry']\n",
      "happy_words:  ['glad', 'pleased', 'ecstatic', 'overjoyed', 'thrilled', 'satisfied', 'proud', 'delighted', 'disappointed', 'excited', 'happier', 'Said_Hirschbeck', 'elated', 'thankful', 'unhappy']\n",
      "sad_words:  ['saddening', 'Sad', 'saddened', 'heartbreaking', 'disheartening', 'Meny_Friedman', 'parishioner_Pat_Patello', 'saddens_me', 'distressing', 'reminders_bobbing', 'Turkoman_Shiites', 'saddest', 'unfortunate', 'sorry', 'bittersweet']\n",
      "fear_words:  ['fearful', 'fears', 'Fear', 'fearing', 'worry', 'dread', 'feared', 'anxiety', 'apprehension', 'afraid', 'worries', 'concern', 'distrust', 'worried', 'Fearful']\n",
      "\n",
      "target words: \n",
      "['glad', 'pleased', 'ecstatic', 'overjoyed', 'thrilled', 'satisfied', 'proud', 'delighted', 'disappointed', 'excited', 'happier', 'Said_Hirschbeck', 'elated', 'thankful', 'unhappy', 'irate', 'enraged', 'indignant', 'incensed', 'annoyed', 'agitated', 'frustrated', 'furious', 'unhappy', 'outraged', 'livid', 'irritated', 'exasperated', 'angrier', 'Angry', 'saddening', 'Sad', 'saddened', 'heartbreaking', 'disheartening', 'Meny_Friedman', 'parishioner_Pat_Patello', 'saddens_me', 'distressing', 'reminders_bobbing', 'Turkoman_Shiites', 'saddest', 'unfortunate', 'sorry', 'bittersweet', 'fearful', 'fears', 'Fear', 'fearing', 'worry', 'dread', 'feared', 'anxiety', 'apprehension', 'afraid', 'worries', 'concern', 'distrust', 'worried', 'Fearful']\n",
      "\n",
      "color list:\n",
      "['b', 'b', 'b', 'b', 'b', 'b', 'b', 'b', 'b', 'b', 'b', 'b', 'b', 'b', 'b', 'g', 'g', 'g', 'g', 'g', 'g', 'g', 'g', 'g', 'g', 'g', 'g', 'g', 'g', 'g', 'r', 'r', 'r', 'r', 'r', 'r', 'r', 'r', 'r', 'r', 'r', 'r', 'r', 'r', 'r', 'y', 'y', 'y', 'y', 'y', 'y', 'y', 'y', 'y', 'y', 'y', 'y', 'y', 'y', 'y']\n"
     ]
    }
   ],
   "source": [
    "# Answer here\n",
    "word_list = ['angry', 'happy', 'sad', 'fear']\n",
    "\n",
    "topn = 15 #前十五名 , 共60個單字\n",
    "angry_words = [word_ for word_, sim_ in w2v_google_model.most_similar('angry', topn=topn)]\n",
    "happy_words = [word_ for word_, sim_ in w2v_google_model.most_similar('happy', topn=topn)]\n",
    "sad_words = [word_ for word_, sim_ in w2v_google_model.most_similar('sad', topn=topn)]\n",
    "fear_words = [word_ for word_, sim_ in w2v_google_model.most_similar('fear', topn=topn)]\n",
    "\n",
    "print('angry_words: ', angry_words)\n",
    "print('happy_words: ', happy_words)\n",
    "print('sad_words: ', sad_words)\n",
    "print('fear_words: ', fear_words)\n",
    "\n",
    "target_words = happy_words + angry_words + sad_words + fear_words #60\n",
    "print('\\ntarget words: ')\n",
    "print(target_words)\n",
    "\n",
    "print('\\ncolor list:')\n",
    "cn = topn\n",
    "color = ['b'] * cn + ['g'] * cn + ['r'] * cn + ['y'] * cn #利用顏色可視化\n",
    "print(color)"
   ]
  },
  {
   "cell_type": "code",
   "execution_count": 36,
   "metadata": {},
   "outputs": [
    {
     "name": "stdout",
     "output_type": "stream",
     "text": [
      "(60, 300)\n",
      "(60, 2)\n"
     ]
    },
    {
     "data": {
      "image/png": "[encoded data removed]",
      "text/plain": [
       "<Figure size 862.5x862.5 with 1 Axes>"
      ]
     },
     "metadata": {},
     "output_type": "display_data"
    }
   ],
   "source": [
    "%matplotlib inline\n",
    "import matplotlib.pyplot as plt\n",
    "from sklearn.manifold import TSNE\n",
    "\n",
    "## w2v model\n",
    "model = w2v_google_model\n",
    "\n",
    "## prepare training word vectors\n",
    "# size = 200\n",
    "target_size = len(target_words) #60\n",
    "# all_word = list(model.index_to_key) # google_model所有文字200\n",
    "# word_train = target_words + all_word[:size] # 24+200\n",
    "word_train = target_words\n",
    "X_train = model[word_train]\n",
    "print(X_train.shape)\n",
    "\n",
    "## t-SNE model\n",
    "tsne = TSNE(n_components=2, metric='cosine', random_state=28) #將維度降到2\n",
    "\n",
    "## training\n",
    "X_tsne = tsne.fit_transform(X_train)\n",
    "print(X_tsne.shape)\n",
    "## plot the result 顯示僅這24個單字\n",
    "plt.figure(figsize=(7.5, 7.5), dpi=115)\n",
    "plt.scatter(X_tsne[:target_size, 0], X_tsne[:target_size, 1], c=color)\n",
    "for label, x, y in zip(target_words, X_tsne[:target_size, 0], X_tsne[:target_size, 1]):\n",
    "    plt.annotate(label, xy=(x,y), xytext=(0,0),  textcoords='offset points')\n",
    "plt.show()"
   ]
  },
  {
   "cell_type": "markdown",
   "metadata": {},
   "source": [
    "# Kaggle Competition\n",
    "* Third: This part is worth 30% of your grade. A report of your work developping the model for the competition (You can use code and comment it). This report should include what your preprocessing steps, the feature engineering steps and an explanation of your model. You can also mention different things you tried and insights you gained.\n",
    "## 1. Data Preprocessing\n",
    "### 1.1 Import model"
   ]
  },
  {
   "cell_type": "code",
   "execution_count": 37,
   "metadata": {},
   "outputs": [],
   "source": [
    "import pandas as pd\n",
    "import json\n",
    "from tqdm import tqdm\n",
    "from pprint import pprint\n",
    "\n",
    "import nltk\n",
    "\n",
    "# ignore warnings\n",
    "import warnings\n",
    "warnings.filterwarnings('ignore')"
   ]
  },
  {
   "cell_type": "markdown",
   "metadata": {},
   "source": [
    "### raw tweet data"
   ]
  },
  {
   "cell_type": "code",
   "execution_count": 38,
   "metadata": {},
   "outputs": [],
   "source": [
    "root =\"../kaggle/\"\n",
    "tweets_DM = root + \"tweets_DM.json\"\n",
    "emotion = root +\"emotion.csv\"\n",
    "data_identification = root +\"data_identification.csv\""
   ]
  },
  {
   "cell_type": "code",
   "execution_count": 42,
   "metadata": {},
   "outputs": [
    {
     "data": {
      "text/html": [
       "<div>\n",
       "<style scoped>\n",
       "    .dataframe tbody tr th:only-of-type {\n",
       "        vertical-align: middle;\n",
       "    }\n",
       "\n",
       "    .dataframe tbody tr th {\n",
       "        vertical-align: top;\n",
       "    }\n",
       "\n",
       "    .dataframe thead th {\n",
       "        text-align: right;\n",
       "    }\n",
       "</style>\n",
       "<table border=\"1\" class=\"dataframe\">\n",
       "  <thead>\n",
       "    <tr style=\"text-align: right;\">\n",
       "      <th></th>\n",
       "      <th>_score</th>\n",
       "      <th>_index</th>\n",
       "      <th>_crawldate</th>\n",
       "      <th>_type</th>\n",
       "      <th>_source.tweet.hashtags</th>\n",
       "      <th>_source.tweet.tweet_id</th>\n",
       "      <th>_source.tweet.text</th>\n",
       "    </tr>\n",
       "  </thead>\n",
       "  <tbody>\n",
       "    <tr>\n",
       "      <th>0</th>\n",
       "      <td>391</td>\n",
       "      <td>hashtag_tweets</td>\n",
       "      <td>2015-05-23 11:42:47</td>\n",
       "      <td>tweets</td>\n",
       "      <td>[Snapchat]</td>\n",
       "      <td>0x376b20</td>\n",
       "      <td>People who post \"add me on #Snapchat\" must be ...</td>\n",
       "    </tr>\n",
       "    <tr>\n",
       "      <th>1</th>\n",
       "      <td>433</td>\n",
       "      <td>hashtag_tweets</td>\n",
       "      <td>2016-01-28 04:52:09</td>\n",
       "      <td>tweets</td>\n",
       "      <td>[freepress, TrumpLegacy, CNN]</td>\n",
       "      <td>0x2d5350</td>\n",
       "      <td>@brianklaas As we see, Trump is dangerous to #...</td>\n",
       "    </tr>\n",
       "    <tr>\n",
       "      <th>2</th>\n",
       "      <td>232</td>\n",
       "      <td>hashtag_tweets</td>\n",
       "      <td>2017-12-25 04:39:20</td>\n",
       "      <td>tweets</td>\n",
       "      <td>[bibleverse]</td>\n",
       "      <td>0x28b412</td>\n",
       "      <td>Confident of your obedience, I write to you, k...</td>\n",
       "    </tr>\n",
       "    <tr>\n",
       "      <th>3</th>\n",
       "      <td>376</td>\n",
       "      <td>hashtag_tweets</td>\n",
       "      <td>2016-01-24 23:53:05</td>\n",
       "      <td>tweets</td>\n",
       "      <td>[]</td>\n",
       "      <td>0x1cd5b0</td>\n",
       "      <td>Now ISSA is stalking Tasha 😂😂😂 &lt;LH&gt;</td>\n",
       "    </tr>\n",
       "    <tr>\n",
       "      <th>4</th>\n",
       "      <td>989</td>\n",
       "      <td>hashtag_tweets</td>\n",
       "      <td>2016-01-08 17:18:59</td>\n",
       "      <td>tweets</td>\n",
       "      <td>[]</td>\n",
       "      <td>0x2de201</td>\n",
       "      <td>\"Trust is not the same as faith. A friend is s...</td>\n",
       "    </tr>\n",
       "  </tbody>\n",
       "</table>\n",
       "</div>"
      ],
      "text/plain": [
       "   _score          _index           _crawldate   _type  \\\n",
       "0     391  hashtag_tweets  2015-05-23 11:42:47  tweets   \n",
       "1     433  hashtag_tweets  2016-01-28 04:52:09  tweets   \n",
       "2     232  hashtag_tweets  2017-12-25 04:39:20  tweets   \n",
       "3     376  hashtag_tweets  2016-01-24 23:53:05  tweets   \n",
       "4     989  hashtag_tweets  2016-01-08 17:18:59  tweets   \n",
       "\n",
       "          _source.tweet.hashtags _source.tweet.tweet_id  \\\n",
       "0                     [Snapchat]               0x376b20   \n",
       "1  [freepress, TrumpLegacy, CNN]               0x2d5350   \n",
       "2                   [bibleverse]               0x28b412   \n",
       "3                             []               0x1cd5b0   \n",
       "4                             []               0x2de201   \n",
       "\n",
       "                                  _source.tweet.text  \n",
       "0  People who post \"add me on #Snapchat\" must be ...  \n",
       "1  @brianklaas As we see, Trump is dangerous to #...  \n",
       "2  Confident of your obedience, I write to you, k...  \n",
       "3                Now ISSA is stalking Tasha 😂😂😂 <LH>  \n",
       "4  \"Trust is not the same as faith. A friend is s...  "
      ]
     },
     "execution_count": 42,
     "metadata": {},
     "output_type": "execute_result"
    }
   ],
   "source": [
    "# Import json file(tweets_DM.json)\n",
    "tweets = []\n",
    "for line in open(tweets_DM, 'r'):\n",
    "    tweets.append(json.loads(line))\n",
    "\n",
    "df_raw = pd.json_normalize(tweets)\n",
    "df_raw.head()"
   ]
  },
  {
   "cell_type": "code",
   "execution_count": 43,
   "metadata": {},
   "outputs": [
    {
     "data": {
      "text/html": [
       "<div>\n",
       "<style scoped>\n",
       "    .dataframe tbody tr th:only-of-type {\n",
       "        vertical-align: middle;\n",
       "    }\n",
       "\n",
       "    .dataframe tbody tr th {\n",
       "        vertical-align: top;\n",
       "    }\n",
       "\n",
       "    .dataframe thead th {\n",
       "        text-align: right;\n",
       "    }\n",
       "</style>\n",
       "<table border=\"1\" class=\"dataframe\">\n",
       "  <thead>\n",
       "    <tr style=\"text-align: right;\">\n",
       "      <th></th>\n",
       "      <th>_score</th>\n",
       "      <th>text</th>\n",
       "      <th>tweet_id</th>\n",
       "    </tr>\n",
       "  </thead>\n",
       "  <tbody>\n",
       "    <tr>\n",
       "      <th>0</th>\n",
       "      <td>391</td>\n",
       "      <td>People who post \"add me on #Snapchat\" must be ...</td>\n",
       "      <td>0x376b20</td>\n",
       "    </tr>\n",
       "    <tr>\n",
       "      <th>1</th>\n",
       "      <td>433</td>\n",
       "      <td>@brianklaas As we see, Trump is dangerous to #...</td>\n",
       "      <td>0x2d5350</td>\n",
       "    </tr>\n",
       "    <tr>\n",
       "      <th>2</th>\n",
       "      <td>232</td>\n",
       "      <td>Confident of your obedience, I write to you, k...</td>\n",
       "      <td>0x28b412</td>\n",
       "    </tr>\n",
       "    <tr>\n",
       "      <th>3</th>\n",
       "      <td>376</td>\n",
       "      <td>Now ISSA is stalking Tasha 😂😂😂 &lt;LH&gt;</td>\n",
       "      <td>0x1cd5b0</td>\n",
       "    </tr>\n",
       "    <tr>\n",
       "      <th>4</th>\n",
       "      <td>989</td>\n",
       "      <td>\"Trust is not the same as faith. A friend is s...</td>\n",
       "      <td>0x2de201</td>\n",
       "    </tr>\n",
       "    <tr>\n",
       "      <th>...</th>\n",
       "      <td>...</td>\n",
       "      <td>...</td>\n",
       "      <td>...</td>\n",
       "    </tr>\n",
       "    <tr>\n",
       "      <th>1867530</th>\n",
       "      <td>827</td>\n",
       "      <td>When you buy the last 2 tickets remaining for ...</td>\n",
       "      <td>0x316b80</td>\n",
       "    </tr>\n",
       "    <tr>\n",
       "      <th>1867531</th>\n",
       "      <td>368</td>\n",
       "      <td>I swear all this hard work gone pay off one da...</td>\n",
       "      <td>0x29d0cb</td>\n",
       "    </tr>\n",
       "    <tr>\n",
       "      <th>1867532</th>\n",
       "      <td>498</td>\n",
       "      <td>@Parcel2Go no card left when I wasn't in so I ...</td>\n",
       "      <td>0x2a6a4f</td>\n",
       "    </tr>\n",
       "    <tr>\n",
       "      <th>1867533</th>\n",
       "      <td>840</td>\n",
       "      <td>Ah, corporate life, where you can date &lt;LH&gt; us...</td>\n",
       "      <td>0x24faed</td>\n",
       "    </tr>\n",
       "    <tr>\n",
       "      <th>1867534</th>\n",
       "      <td>360</td>\n",
       "      <td>Blessed to be living #Sundayvibes &lt;LH&gt;</td>\n",
       "      <td>0x34be8c</td>\n",
       "    </tr>\n",
       "  </tbody>\n",
       "</table>\n",
       "<p>1867535 rows × 3 columns</p>\n",
       "</div>"
      ],
      "text/plain": [
       "         _score                                               text  tweet_id\n",
       "0           391  People who post \"add me on #Snapchat\" must be ...  0x376b20\n",
       "1           433  @brianklaas As we see, Trump is dangerous to #...  0x2d5350\n",
       "2           232  Confident of your obedience, I write to you, k...  0x28b412\n",
       "3           376                Now ISSA is stalking Tasha 😂😂😂 <LH>  0x1cd5b0\n",
       "4           989  \"Trust is not the same as faith. A friend is s...  0x2de201\n",
       "...         ...                                                ...       ...\n",
       "1867530     827  When you buy the last 2 tickets remaining for ...  0x316b80\n",
       "1867531     368  I swear all this hard work gone pay off one da...  0x29d0cb\n",
       "1867532     498  @Parcel2Go no card left when I wasn't in so I ...  0x2a6a4f\n",
       "1867533     840  Ah, corporate life, where you can date <LH> us...  0x24faed\n",
       "1867534     360             Blessed to be living #Sundayvibes <LH>  0x34be8c\n",
       "\n",
       "[1867535 rows x 3 columns]"
      ]
     },
     "execution_count": 43,
     "metadata": {},
     "output_type": "execute_result"
    }
   ],
   "source": [
    "# 擷取文章和ID\n",
    "df_raw = df_raw.rename({'_source.tweet.tweet_id': 'tweet_id', '_source.tweet.text': 'text'}, axis='columns')\n",
    "df_raw = df_raw[[\"_score\", \"text\", \"tweet_id\"]]\n",
    "df_raw"
   ]
  },
  {
   "cell_type": "markdown",
   "metadata": {},
   "source": [
    "### sentiment label\n"
   ]
  },
  {
   "cell_type": "code",
   "execution_count": 41,
   "metadata": {},
   "outputs": [
    {
     "data": {
      "text/html": [
       "<div>\n",
       "<style scoped>\n",
       "    .dataframe tbody tr th:only-of-type {\n",
       "        vertical-align: middle;\n",
       "    }\n",
       "\n",
       "    .dataframe tbody tr th {\n",
       "        vertical-align: top;\n",
       "    }\n",
       "\n",
       "    .dataframe thead th {\n",
       "        text-align: right;\n",
       "    }\n",
       "</style>\n",
       "<table border=\"1\" class=\"dataframe\">\n",
       "  <thead>\n",
       "    <tr style=\"text-align: right;\">\n",
       "      <th></th>\n",
       "      <th>tweet_id</th>\n",
       "      <th>emotion</th>\n",
       "    </tr>\n",
       "  </thead>\n",
       "  <tbody>\n",
       "    <tr>\n",
       "      <th>0</th>\n",
       "      <td>0x3140b1</td>\n",
       "      <td>sadness</td>\n",
       "    </tr>\n",
       "    <tr>\n",
       "      <th>1</th>\n",
       "      <td>0x368b73</td>\n",
       "      <td>disgust</td>\n",
       "    </tr>\n",
       "    <tr>\n",
       "      <th>2</th>\n",
       "      <td>0x296183</td>\n",
       "      <td>anticipation</td>\n",
       "    </tr>\n",
       "    <tr>\n",
       "      <th>3</th>\n",
       "      <td>0x2bd6e1</td>\n",
       "      <td>joy</td>\n",
       "    </tr>\n",
       "    <tr>\n",
       "      <th>4</th>\n",
       "      <td>0x2ee1dd</td>\n",
       "      <td>anticipation</td>\n",
       "    </tr>\n",
       "  </tbody>\n",
       "</table>\n",
       "</div>"
      ],
      "text/plain": [
       "   tweet_id       emotion\n",
       "0  0x3140b1       sadness\n",
       "1  0x368b73       disgust\n",
       "2  0x296183  anticipation\n",
       "3  0x2bd6e1           joy\n",
       "4  0x2ee1dd  anticipation"
      ]
     },
     "execution_count": 41,
     "metadata": {},
     "output_type": "execute_result"
    }
   ],
   "source": [
    "# 載入emotion.csv\n",
    "df_sentiment = pd.read_csv(emotion)\n",
    "df_sentiment.head()"
   ]
  },
  {
   "cell_type": "code",
   "execution_count": 55,
   "metadata": {},
   "outputs": [
    {
     "data": {
      "text/plain": [
       "'joy'"
      ]
     },
     "execution_count": 55,
     "metadata": {},
     "output_type": "execute_result"
    }
   ],
   "source": [
    "# 測試\n",
    "emotion = df_sentiment[df_sentiment.tweet_id == \"0x34be8c\"].emotion.item()\n",
    "emotion"
   ]
  },
  {
   "cell_type": "markdown",
   "metadata": {},
   "source": [
    "### train-test label"
   ]
  },
  {
   "cell_type": "code",
   "execution_count": 56,
   "metadata": {},
   "outputs": [
    {
     "data": {
      "text/html": [
       "<div>\n",
       "<style scoped>\n",
       "    .dataframe tbody tr th:only-of-type {\n",
       "        vertical-align: middle;\n",
       "    }\n",
       "\n",
       "    .dataframe tbody tr th {\n",
       "        vertical-align: top;\n",
       "    }\n",
       "\n",
       "    .dataframe thead th {\n",
       "        text-align: right;\n",
       "    }\n",
       "</style>\n",
       "<table border=\"1\" class=\"dataframe\">\n",
       "  <thead>\n",
       "    <tr style=\"text-align: right;\">\n",
       "      <th></th>\n",
       "      <th>tweet_id</th>\n",
       "      <th>identification</th>\n",
       "    </tr>\n",
       "  </thead>\n",
       "  <tbody>\n",
       "    <tr>\n",
       "      <th>0</th>\n",
       "      <td>0x28cc61</td>\n",
       "      <td>test</td>\n",
       "    </tr>\n",
       "    <tr>\n",
       "      <th>1</th>\n",
       "      <td>0x29e452</td>\n",
       "      <td>train</td>\n",
       "    </tr>\n",
       "    <tr>\n",
       "      <th>2</th>\n",
       "      <td>0x2b3819</td>\n",
       "      <td>train</td>\n",
       "    </tr>\n",
       "    <tr>\n",
       "      <th>3</th>\n",
       "      <td>0x2db41f</td>\n",
       "      <td>test</td>\n",
       "    </tr>\n",
       "    <tr>\n",
       "      <th>4</th>\n",
       "      <td>0x2a2acc</td>\n",
       "      <td>train</td>\n",
       "    </tr>\n",
       "  </tbody>\n",
       "</table>\n",
       "</div>"
      ],
      "text/plain": [
       "   tweet_id identification\n",
       "0  0x28cc61           test\n",
       "1  0x29e452          train\n",
       "2  0x2b3819          train\n",
       "3  0x2db41f           test\n",
       "4  0x2a2acc          train"
      ]
     },
     "execution_count": 56,
     "metadata": {},
     "output_type": "execute_result"
    }
   ],
   "source": [
    "# 載入data_identification\n",
    "df_identify = pd.read_csv(data_identification)\n",
    "df_identify.head()"
   ]
  },
  {
   "cell_type": "code",
   "execution_count": 57,
   "metadata": {},
   "outputs": [
    {
     "data": {
      "text/html": [
       "<div>\n",
       "<style scoped>\n",
       "    .dataframe tbody tr th:only-of-type {\n",
       "        vertical-align: middle;\n",
       "    }\n",
       "\n",
       "    .dataframe tbody tr th {\n",
       "        vertical-align: top;\n",
       "    }\n",
       "\n",
       "    .dataframe thead th {\n",
       "        text-align: right;\n",
       "    }\n",
       "</style>\n",
       "<table border=\"1\" class=\"dataframe\">\n",
       "  <thead>\n",
       "    <tr style=\"text-align: right;\">\n",
       "      <th></th>\n",
       "      <th>tweet_id</th>\n",
       "      <th>identification</th>\n",
       "      <th>emotion</th>\n",
       "    </tr>\n",
       "  </thead>\n",
       "  <tbody>\n",
       "    <tr>\n",
       "      <th>0</th>\n",
       "      <td>0x28cc61</td>\n",
       "      <td>test</td>\n",
       "      <td>NaN</td>\n",
       "    </tr>\n",
       "    <tr>\n",
       "      <th>1</th>\n",
       "      <td>0x29e452</td>\n",
       "      <td>train</td>\n",
       "      <td>joy</td>\n",
       "    </tr>\n",
       "    <tr>\n",
       "      <th>2</th>\n",
       "      <td>0x2b3819</td>\n",
       "      <td>train</td>\n",
       "      <td>joy</td>\n",
       "    </tr>\n",
       "    <tr>\n",
       "      <th>3</th>\n",
       "      <td>0x2db41f</td>\n",
       "      <td>test</td>\n",
       "      <td>NaN</td>\n",
       "    </tr>\n",
       "    <tr>\n",
       "      <th>4</th>\n",
       "      <td>0x2a2acc</td>\n",
       "      <td>train</td>\n",
       "      <td>trust</td>\n",
       "    </tr>\n",
       "  </tbody>\n",
       "</table>\n",
       "</div>"
      ],
      "text/plain": [
       "   tweet_id identification emotion\n",
       "0  0x28cc61           test     NaN\n",
       "1  0x29e452          train     joy\n",
       "2  0x2b3819          train     joy\n",
       "3  0x2db41f           test     NaN\n",
       "4  0x2a2acc          train   trust"
      ]
     },
     "execution_count": 57,
     "metadata": {},
     "output_type": "execute_result"
    }
   ],
   "source": [
    "# df_identify與 df_sentiment 左結合, 以 tweet_id 為獨立編號\n",
    "df_merge = pd.merge(df_identify, df_sentiment, how=\"left\", on='tweet_id')\n",
    "df_merge.head()"
   ]
  },
  {
   "cell_type": "code",
   "execution_count": 58,
   "metadata": {},
   "outputs": [
    {
     "data": {
      "text/html": [
       "<div>\n",
       "<style scoped>\n",
       "    .dataframe tbody tr th:only-of-type {\n",
       "        vertical-align: middle;\n",
       "    }\n",
       "\n",
       "    .dataframe tbody tr th {\n",
       "        vertical-align: top;\n",
       "    }\n",
       "\n",
       "    .dataframe thead th {\n",
       "        text-align: right;\n",
       "    }\n",
       "</style>\n",
       "<table border=\"1\" class=\"dataframe\">\n",
       "  <thead>\n",
       "    <tr style=\"text-align: right;\">\n",
       "      <th></th>\n",
       "      <th>_score</th>\n",
       "      <th>text</th>\n",
       "      <th>tweet_id</th>\n",
       "      <th>identification</th>\n",
       "      <th>emotion</th>\n",
       "    </tr>\n",
       "  </thead>\n",
       "  <tbody>\n",
       "    <tr>\n",
       "      <th>0</th>\n",
       "      <td>391</td>\n",
       "      <td>People who post \"add me on #Snapchat\" must be ...</td>\n",
       "      <td>0x376b20</td>\n",
       "      <td>train</td>\n",
       "      <td>anticipation</td>\n",
       "    </tr>\n",
       "    <tr>\n",
       "      <th>1</th>\n",
       "      <td>433</td>\n",
       "      <td>@brianklaas As we see, Trump is dangerous to #...</td>\n",
       "      <td>0x2d5350</td>\n",
       "      <td>train</td>\n",
       "      <td>sadness</td>\n",
       "    </tr>\n",
       "    <tr>\n",
       "      <th>2</th>\n",
       "      <td>232</td>\n",
       "      <td>Confident of your obedience, I write to you, k...</td>\n",
       "      <td>0x28b412</td>\n",
       "      <td>test</td>\n",
       "      <td>NaN</td>\n",
       "    </tr>\n",
       "    <tr>\n",
       "      <th>3</th>\n",
       "      <td>376</td>\n",
       "      <td>Now ISSA is stalking Tasha 😂😂😂 &lt;LH&gt;</td>\n",
       "      <td>0x1cd5b0</td>\n",
       "      <td>train</td>\n",
       "      <td>fear</td>\n",
       "    </tr>\n",
       "    <tr>\n",
       "      <th>4</th>\n",
       "      <td>989</td>\n",
       "      <td>\"Trust is not the same as faith. A friend is s...</td>\n",
       "      <td>0x2de201</td>\n",
       "      <td>test</td>\n",
       "      <td>NaN</td>\n",
       "    </tr>\n",
       "  </tbody>\n",
       "</table>\n",
       "</div>"
      ],
      "text/plain": [
       "   _score                                               text  tweet_id  \\\n",
       "0     391  People who post \"add me on #Snapchat\" must be ...  0x376b20   \n",
       "1     433  @brianklaas As we see, Trump is dangerous to #...  0x2d5350   \n",
       "2     232  Confident of your obedience, I write to you, k...  0x28b412   \n",
       "3     376                Now ISSA is stalking Tasha 😂😂😂 <LH>  0x1cd5b0   \n",
       "4     989  \"Trust is not the same as faith. A friend is s...  0x2de201   \n",
       "\n",
       "  identification       emotion  \n",
       "0          train  anticipation  \n",
       "1          train       sadness  \n",
       "2           test           NaN  \n",
       "3          train          fear  \n",
       "4           test           NaN  "
      ]
     },
     "execution_count": 58,
     "metadata": {},
     "output_type": "execute_result"
    }
   ],
   "source": [
    "# 在與文章表格做結合\n",
    "df_all = pd.merge(df_raw, df_merge, how=\"left\", on='tweet_id')\n",
    "df_all.head()"
   ]
  },
  {
   "cell_type": "code",
   "execution_count": 59,
   "metadata": {},
   "outputs": [
    {
     "data": {
      "text/html": [
       "<div>\n",
       "<style scoped>\n",
       "    .dataframe tbody tr th:only-of-type {\n",
       "        vertical-align: middle;\n",
       "    }\n",
       "\n",
       "    .dataframe tbody tr th {\n",
       "        vertical-align: top;\n",
       "    }\n",
       "\n",
       "    .dataframe thead th {\n",
       "        text-align: right;\n",
       "    }\n",
       "</style>\n",
       "<table border=\"1\" class=\"dataframe\">\n",
       "  <thead>\n",
       "    <tr style=\"text-align: right;\">\n",
       "      <th></th>\n",
       "      <th>_score</th>\n",
       "      <th>text</th>\n",
       "      <th>tweet_id</th>\n",
       "      <th>identification</th>\n",
       "      <th>emotion</th>\n",
       "    </tr>\n",
       "  </thead>\n",
       "  <tbody>\n",
       "    <tr>\n",
       "      <th>0</th>\n",
       "      <td>391</td>\n",
       "      <td>People who post \"add me on #Snapchat\" must be ...</td>\n",
       "      <td>0x376b20</td>\n",
       "      <td>train</td>\n",
       "      <td>anticipation</td>\n",
       "    </tr>\n",
       "    <tr>\n",
       "      <th>1</th>\n",
       "      <td>433</td>\n",
       "      <td>@brianklaas As we see, Trump is dangerous to #...</td>\n",
       "      <td>0x2d5350</td>\n",
       "      <td>train</td>\n",
       "      <td>sadness</td>\n",
       "    </tr>\n",
       "    <tr>\n",
       "      <th>3</th>\n",
       "      <td>376</td>\n",
       "      <td>Now ISSA is stalking Tasha 😂😂😂 &lt;LH&gt;</td>\n",
       "      <td>0x1cd5b0</td>\n",
       "      <td>train</td>\n",
       "      <td>fear</td>\n",
       "    </tr>\n",
       "    <tr>\n",
       "      <th>5</th>\n",
       "      <td>120</td>\n",
       "      <td>@RISKshow @TheKevinAllison Thx for the BEST TI...</td>\n",
       "      <td>0x1d755c</td>\n",
       "      <td>train</td>\n",
       "      <td>joy</td>\n",
       "    </tr>\n",
       "    <tr>\n",
       "      <th>6</th>\n",
       "      <td>1021</td>\n",
       "      <td>Still waiting on those supplies Liscus. &lt;LH&gt;</td>\n",
       "      <td>0x2c91a8</td>\n",
       "      <td>train</td>\n",
       "      <td>anticipation</td>\n",
       "    </tr>\n",
       "  </tbody>\n",
       "</table>\n",
       "</div>"
      ],
      "text/plain": [
       "   _score                                               text  tweet_id  \\\n",
       "0     391  People who post \"add me on #Snapchat\" must be ...  0x376b20   \n",
       "1     433  @brianklaas As we see, Trump is dangerous to #...  0x2d5350   \n",
       "3     376                Now ISSA is stalking Tasha 😂😂😂 <LH>  0x1cd5b0   \n",
       "5     120  @RISKshow @TheKevinAllison Thx for the BEST TI...  0x1d755c   \n",
       "6    1021       Still waiting on those supplies Liscus. <LH>  0x2c91a8   \n",
       "\n",
       "  identification       emotion  \n",
       "0          train  anticipation  \n",
       "1          train       sadness  \n",
       "3          train          fear  \n",
       "5          train           joy  \n",
       "6          train  anticipation  "
      ]
     },
     "execution_count": 59,
     "metadata": {},
     "output_type": "execute_result"
    }
   ],
   "source": [
    "# 將標籤為訓練資料獨立出來\n",
    "df_train = df_all[df_all[\"identification\"] == \"train\"]\n",
    "df_train.head()"
   ]
  },
  {
   "cell_type": "code",
   "execution_count": 61,
   "metadata": {},
   "outputs": [
    {
     "data": {
      "text/html": [
       "<div>\n",
       "<style scoped>\n",
       "    .dataframe tbody tr th:only-of-type {\n",
       "        vertical-align: middle;\n",
       "    }\n",
       "\n",
       "    .dataframe tbody tr th {\n",
       "        vertical-align: top;\n",
       "    }\n",
       "\n",
       "    .dataframe thead th {\n",
       "        text-align: right;\n",
       "    }\n",
       "</style>\n",
       "<table border=\"1\" class=\"dataframe\">\n",
       "  <thead>\n",
       "    <tr style=\"text-align: right;\">\n",
       "      <th></th>\n",
       "      <th>text</th>\n",
       "      <th>tweet_id</th>\n",
       "      <th>identification</th>\n",
       "      <th>emotion</th>\n",
       "    </tr>\n",
       "  </thead>\n",
       "  <tbody>\n",
       "    <tr>\n",
       "      <th>2</th>\n",
       "      <td>Confident of your obedience, I write to you, k...</td>\n",
       "      <td>0x28b412</td>\n",
       "      <td>test</td>\n",
       "      <td>NaN</td>\n",
       "    </tr>\n",
       "    <tr>\n",
       "      <th>4</th>\n",
       "      <td>\"Trust is not the same as faith. A friend is s...</td>\n",
       "      <td>0x2de201</td>\n",
       "      <td>test</td>\n",
       "      <td>NaN</td>\n",
       "    </tr>\n",
       "    <tr>\n",
       "      <th>9</th>\n",
       "      <td>When do you have enough ? When are you satisfi...</td>\n",
       "      <td>0x218443</td>\n",
       "      <td>test</td>\n",
       "      <td>NaN</td>\n",
       "    </tr>\n",
       "    <tr>\n",
       "      <th>30</th>\n",
       "      <td>God woke you up, now chase the day #GodsPlan #...</td>\n",
       "      <td>0x2939d5</td>\n",
       "      <td>test</td>\n",
       "      <td>NaN</td>\n",
       "    </tr>\n",
       "    <tr>\n",
       "      <th>33</th>\n",
       "      <td>In these tough times, who do YOU turn to as yo...</td>\n",
       "      <td>0x26289a</td>\n",
       "      <td>test</td>\n",
       "      <td>NaN</td>\n",
       "    </tr>\n",
       "  </tbody>\n",
       "</table>\n",
       "</div>"
      ],
      "text/plain": [
       "                                                 text  tweet_id  \\\n",
       "2   Confident of your obedience, I write to you, k...  0x28b412   \n",
       "4   \"Trust is not the same as faith. A friend is s...  0x2de201   \n",
       "9   When do you have enough ? When are you satisfi...  0x218443   \n",
       "30  God woke you up, now chase the day #GodsPlan #...  0x2939d5   \n",
       "33  In these tough times, who do YOU turn to as yo...  0x26289a   \n",
       "\n",
       "   identification emotion  \n",
       "2            test     NaN  \n",
       "4            test     NaN  \n",
       "9            test     NaN  \n",
       "30           test     NaN  \n",
       "33           test     NaN  "
      ]
     },
     "execution_count": 61,
     "metadata": {},
     "output_type": "execute_result"
    }
   ],
   "source": [
    "# 將標籤為訓練資料獨立出來\n",
    "df_test = df_all[df_all[\"identification\"] == \"test\"].drop([\"_score\"], axis=1)\n",
    "df_test.head()"
   ]
  },
  {
   "cell_type": "markdown",
   "metadata": {},
   "source": [
    "### Save data"
   ]
  },
  {
   "cell_type": "code",
   "execution_count": 62,
   "metadata": {},
   "outputs": [],
   "source": [
    "## save to pickle file\n",
    "df_all.to_pickle(\"all_df.pkl\")\n",
    "df_train.to_pickle(\"train_df.pkl\") \n",
    "df_test.to_pickle(\"test_df.pkl\")"
   ]
  },
  {
   "cell_type": "markdown",
   "metadata": {},
   "source": [
    "### Load data"
   ]
  },
  {
   "cell_type": "code",
   "execution_count": 24,
   "metadata": {},
   "outputs": [],
   "source": [
    "import pandas as pd\n",
    "\n",
    "## load a pickle file\n",
    "# df_all = pd.read_pickle(\"all_df.pkl\")\n",
    "df_train = pd.read_pickle(\"train_df.pkl\")\n",
    "df_test = pd.read_pickle(\"test_df.pkl\")"
   ]
  },
  {
   "cell_type": "markdown",
   "metadata": {},
   "source": [
    "## 2.Data exploration\n",
    "* understand the distribution"
   ]
  },
  {
   "cell_type": "code",
   "execution_count": 63,
   "metadata": {},
   "outputs": [
    {
     "data": {
      "text/plain": [
       "identification\n",
       "test      411972\n",
       "train    1455563\n",
       "Name: tweet_id, dtype: int64"
      ]
     },
     "execution_count": 63,
     "metadata": {},
     "output_type": "execute_result"
    }
   ],
   "source": [
    "# 訓練集與測試集統計\n",
    "df_all.groupby(['identification']).count()[\"tweet_id\"]"
   ]
  },
  {
   "cell_type": "code",
   "execution_count": 64,
   "metadata": {},
   "outputs": [],
   "source": [
    "df = df_train"
   ]
  },
  {
   "cell_type": "code",
   "execution_count": 68,
   "metadata": {},
   "outputs": [
    {
     "data": {
      "text/plain": [
       "emotion\n",
       "anger            39867\n",
       "anticipation    248935\n",
       "disgust         139101\n",
       "fear             63999\n",
       "joy             516017\n",
       "sadness         193437\n",
       "surprise         48729\n",
       "trust           205478\n",
       "Name: tweet_id, dtype: int64"
      ]
     },
     "execution_count": 68,
     "metadata": {},
     "output_type": "execute_result"
    }
   ],
   "source": [
    "# label統計\n",
    "df.groupby(['emotion']).count()[\"tweet_id\"]"
   ]
  },
  {
   "cell_type": "code",
   "execution_count": 67,
   "metadata": {},
   "outputs": [
    {
     "data": {
      "text/plain": [
       "emotion\n",
       "anger            2.739\n",
       "anticipation    17.102\n",
       "disgust          9.557\n",
       "fear             4.397\n",
       "joy             35.451\n",
       "sadness         13.289\n",
       "surprise         3.348\n",
       "trust           14.117\n",
       "Name: tweet_id, dtype: float64"
      ]
     },
     "execution_count": 67,
     "metadata": {},
     "output_type": "execute_result"
    }
   ],
   "source": [
    "# 比例化\n",
    "labels = df['emotion'].unique()\n",
    "post_total = len(df)\n",
    "df1 = df.groupby(['emotion']).count()['tweet_id']\n",
    "df1 = df1.apply(lambda x: round(x*100/post_total,3))\n",
    "df1"
   ]
  },
  {
   "cell_type": "code",
   "execution_count": 69,
   "metadata": {},
   "outputs": [
    {
     "data": {
      "image/png": "[encoded data removed]",
      "text/plain": [
       "<Figure size 1000x300 with 1 Axes>"
      ]
     },
     "metadata": {},
     "output_type": "display_data"
    }
   ],
   "source": [
    "#show distribution in graph\n",
    "%matplotlib inline\n",
    "import numpy as np\n",
    "import matplotlib.pyplot as plt\n",
    "\n",
    "# the histogram of the data\n",
    "labels = df['emotion'].unique()\n",
    "post_total = len(df)\n",
    "df1 = df.groupby(['emotion']).count()['tweet_id']\n",
    "df1 = df1.apply(lambda x: round(x*100/post_total,3))\n",
    "\n",
    "#plot\n",
    "fig, ax = plt.subplots(figsize=(10,3))\n",
    "plt.bar(df1.index,df1.values)\n",
    "\n",
    "#arrange\n",
    "plt.ylabel('% of instances')\n",
    "plt.xlabel('Emotion')\n",
    "plt.title('Emotion distribution')\n",
    "plt.grid(True)\n",
    "plt.show()"
   ]
  },
  {
   "cell_type": "markdown",
   "metadata": {},
   "source": [
    "## 3.Feature engineering"
   ]
  },
  {
   "cell_type": "code",
   "execution_count": 2,
   "metadata": {},
   "outputs": [
    {
     "name": "stdout",
     "output_type": "stream",
     "text": [
      "該分數平均: 512.3755536517485\n"
     ]
    },
    {
     "data": {
      "text/plain": [
       "emotion\n",
       "anger            2.731\n",
       "anticipation    17.060\n",
       "disgust          9.556\n",
       "fear             4.411\n",
       "joy             35.509\n",
       "sadness         13.235\n",
       "surprise         3.351\n",
       "trust           14.148\n",
       "Name: tweet_id, dtype: float64"
      ]
     },
     "execution_count": 2,
     "metadata": {},
     "output_type": "execute_result"
    }
   ],
   "source": [
    "import numpy as np\n",
    "import matplotlib.pyplot as plt\n",
    "\n",
    "# df_raw.loc[:,\"_score\"].mean()\n",
    "print(\"該分數平均:\", df_train.loc[:,\"_score\"].mean())\n",
    "# 僅取分數大於512的資料\n",
    "df_train = df_train[df_train[\"_score\"] > 512]\n",
    "# 類別統計\n",
    "df_train.groupby(['emotion']).count()[\"tweet_id\"]\n",
    "# 比例化\n",
    "labels = df_train['emotion'].unique()\n",
    "post_total = len(df_train)\n",
    "df1 = df_train.groupby(['emotion']).count()['tweet_id']\n",
    "df1 = df1.apply(lambda x: round(x*100/post_total,3))\n",
    "df1"
   ]
  },
  {
   "cell_type": "code",
   "execution_count": 3,
   "metadata": {},
   "outputs": [
    {
     "data": {
      "image/png": "[encoded data removed]",
      "text/plain": [
       "<Figure size 1000x300 with 1 Axes>"
      ]
     },
     "metadata": {},
     "output_type": "display_data"
    }
   ],
   "source": [
    "#show distribution in graph\n",
    "%matplotlib inline\n",
    "\n",
    "# the histogram of the data\n",
    "labels = df_train['emotion'].unique()\n",
    "post_total = len(df_train)\n",
    "df1 = df_train.groupby(['emotion']).count()['tweet_id']\n",
    "df1 = df1.apply(lambda x: round(x*100/post_total,3))\n",
    "\n",
    "#plot\n",
    "fig, ax = plt.subplots(figsize=(10,3))\n",
    "plt.bar(df1.index,df1.values)\n",
    "\n",
    "#arrange\n",
    "plt.ylabel('% of instances')\n",
    "plt.xlabel('Emotion')\n",
    "plt.title('Score > 512 of Emotion distribution')\n",
    "plt.grid(True)\n",
    "plt.show()"
   ]
  },
  {
   "cell_type": "markdown",
   "metadata": {},
   "source": [
    "### SentenceTransformer"
   ]
  },
  {
   "cell_type": "code",
   "execution_count": 2,
   "metadata": {},
   "outputs": [
    {
     "name": "stderr",
     "output_type": "stream",
     "text": [
      "C:\\Users\\Tsuchidaken\\anaconda3\\envs\\tensor_1221\\lib\\site-packages\\tqdm\\auto.py:21: TqdmWarning: IProgress not found. Please update jupyter and ipywidgets. See https://ipywidgets.readthedocs.io/en/stable/user_install.html\n",
      "  from .autonotebook import tqdm as notebook_tqdm\n"
     ]
    }
   ],
   "source": [
    "# Setup modules \n",
    "# !pip install --quiet sentence-transformers\n",
    "# !pip install lime --quiet\n",
    "# !pip install --quiet seaborn\n",
    "\n",
    "# Load modules \n",
    "from sentence_transformers import SentenceTransformer\n",
    "from sklearn.model_selection import train_test_split\n",
    "\n",
    "import gensim\n",
    "import nltk\n",
    "nltk.download('punkt') "
   ]
  },
  {
   "cell_type": "code",
   "execution_count": 26,
   "metadata": {},
   "outputs": [],
   "source": [
    "# Modeling - Using a Sentence Transformer\n",
    "model = SentenceTransformer('paraphrase-mpnet-base-v2')"
   ]
  },
  {
   "cell_type": "code",
   "execution_count": 7,
   "metadata": {},
   "outputs": [],
   "source": [
    "# training 資料預處理\n",
    "df_train_na = df_train.dropna().reset_index(drop=True)\n",
    "train_id = df_train_na['tweet_id']\n",
    "\n",
    "# Training embeddings\n",
    "train_embeddings = model.encode(df_train_na['text'])\n",
    "train_embeddings_dataframe = pd.DataFrame(train_embeddings)\n",
    "train_embeddings_dataframe['tweet_id'] = train_id\n",
    "train_embeddings_dataframe['emotion'] = df_train_na['emotion']\n",
    "train_embeddings_dataframe"
   ]
  },
  {
   "cell_type": "code",
   "execution_count": 10,
   "metadata": {},
   "outputs": [],
   "source": [
    "# training Dataset 輸出\n",
    "train_embeddings_dataframe.to_pickle(\"embeddings_train_df.pkl\")"
   ]
  },
  {
   "cell_type": "code",
   "execution_count": 27,
   "metadata": {},
   "outputs": [
    {
     "data": {
      "text/html": [
       "<div>\n",
       "<style scoped>\n",
       "    .dataframe tbody tr th:only-of-type {\n",
       "        vertical-align: middle;\n",
       "    }\n",
       "\n",
       "    .dataframe tbody tr th {\n",
       "        vertical-align: top;\n",
       "    }\n",
       "\n",
       "    .dataframe thead th {\n",
       "        text-align: right;\n",
       "    }\n",
       "</style>\n",
       "<table border=\"1\" class=\"dataframe\">\n",
       "  <thead>\n",
       "    <tr style=\"text-align: right;\">\n",
       "      <th></th>\n",
       "      <th>0</th>\n",
       "      <th>1</th>\n",
       "      <th>2</th>\n",
       "      <th>3</th>\n",
       "      <th>4</th>\n",
       "      <th>5</th>\n",
       "      <th>6</th>\n",
       "      <th>7</th>\n",
       "      <th>8</th>\n",
       "      <th>9</th>\n",
       "      <th>...</th>\n",
       "      <th>759</th>\n",
       "      <th>760</th>\n",
       "      <th>761</th>\n",
       "      <th>762</th>\n",
       "      <th>763</th>\n",
       "      <th>764</th>\n",
       "      <th>765</th>\n",
       "      <th>766</th>\n",
       "      <th>767</th>\n",
       "      <th>tweet_id</th>\n",
       "    </tr>\n",
       "  </thead>\n",
       "  <tbody>\n",
       "    <tr>\n",
       "      <th>0</th>\n",
       "      <td>0.022685</td>\n",
       "      <td>0.092329</td>\n",
       "      <td>-0.005738</td>\n",
       "      <td>0.058587</td>\n",
       "      <td>0.072496</td>\n",
       "      <td>-0.043568</td>\n",
       "      <td>-0.161728</td>\n",
       "      <td>0.062479</td>\n",
       "      <td>0.142324</td>\n",
       "      <td>0.155198</td>\n",
       "      <td>...</td>\n",
       "      <td>0.005442</td>\n",
       "      <td>0.055207</td>\n",
       "      <td>0.123785</td>\n",
       "      <td>0.006869</td>\n",
       "      <td>-0.069393</td>\n",
       "      <td>-0.011549</td>\n",
       "      <td>0.077658</td>\n",
       "      <td>-0.082954</td>\n",
       "      <td>-0.111531</td>\n",
       "      <td>0x28b412</td>\n",
       "    </tr>\n",
       "    <tr>\n",
       "      <th>1</th>\n",
       "      <td>0.157975</td>\n",
       "      <td>0.097607</td>\n",
       "      <td>0.042909</td>\n",
       "      <td>0.142935</td>\n",
       "      <td>-0.066175</td>\n",
       "      <td>-0.048943</td>\n",
       "      <td>-0.019566</td>\n",
       "      <td>0.017619</td>\n",
       "      <td>0.296960</td>\n",
       "      <td>0.063106</td>\n",
       "      <td>...</td>\n",
       "      <td>0.017533</td>\n",
       "      <td>-0.090742</td>\n",
       "      <td>0.111285</td>\n",
       "      <td>-0.023540</td>\n",
       "      <td>0.238490</td>\n",
       "      <td>0.023788</td>\n",
       "      <td>0.049356</td>\n",
       "      <td>0.064402</td>\n",
       "      <td>0.038076</td>\n",
       "      <td>0x2de201</td>\n",
       "    </tr>\n",
       "    <tr>\n",
       "      <th>2</th>\n",
       "      <td>-0.048615</td>\n",
       "      <td>0.288452</td>\n",
       "      <td>0.149379</td>\n",
       "      <td>-0.038663</td>\n",
       "      <td>0.084482</td>\n",
       "      <td>-0.066496</td>\n",
       "      <td>-0.284200</td>\n",
       "      <td>0.065906</td>\n",
       "      <td>-0.000828</td>\n",
       "      <td>0.103797</td>\n",
       "      <td>...</td>\n",
       "      <td>-0.143857</td>\n",
       "      <td>-0.156438</td>\n",
       "      <td>0.151451</td>\n",
       "      <td>0.033344</td>\n",
       "      <td>-0.034106</td>\n",
       "      <td>-0.022977</td>\n",
       "      <td>0.090636</td>\n",
       "      <td>0.012425</td>\n",
       "      <td>-0.109962</td>\n",
       "      <td>0x218443</td>\n",
       "    </tr>\n",
       "    <tr>\n",
       "      <th>3</th>\n",
       "      <td>-0.074775</td>\n",
       "      <td>0.279185</td>\n",
       "      <td>-0.066582</td>\n",
       "      <td>-0.025440</td>\n",
       "      <td>-0.003644</td>\n",
       "      <td>-0.014643</td>\n",
       "      <td>0.199948</td>\n",
       "      <td>0.060919</td>\n",
       "      <td>0.112351</td>\n",
       "      <td>0.057102</td>\n",
       "      <td>...</td>\n",
       "      <td>0.063033</td>\n",
       "      <td>0.159637</td>\n",
       "      <td>0.034571</td>\n",
       "      <td>0.022197</td>\n",
       "      <td>0.034739</td>\n",
       "      <td>-0.063595</td>\n",
       "      <td>-0.050794</td>\n",
       "      <td>-0.143279</td>\n",
       "      <td>-0.065068</td>\n",
       "      <td>0x2939d5</td>\n",
       "    </tr>\n",
       "    <tr>\n",
       "      <th>4</th>\n",
       "      <td>0.018467</td>\n",
       "      <td>0.257763</td>\n",
       "      <td>0.030885</td>\n",
       "      <td>-0.085107</td>\n",
       "      <td>0.109644</td>\n",
       "      <td>-0.005322</td>\n",
       "      <td>0.046763</td>\n",
       "      <td>0.005586</td>\n",
       "      <td>0.291635</td>\n",
       "      <td>0.043000</td>\n",
       "      <td>...</td>\n",
       "      <td>-0.080490</td>\n",
       "      <td>0.069900</td>\n",
       "      <td>0.122277</td>\n",
       "      <td>-0.062018</td>\n",
       "      <td>-0.139353</td>\n",
       "      <td>-0.010073</td>\n",
       "      <td>0.045629</td>\n",
       "      <td>-0.013647</td>\n",
       "      <td>-0.070441</td>\n",
       "      <td>0x26289a</td>\n",
       "    </tr>\n",
       "    <tr>\n",
       "      <th>...</th>\n",
       "      <td>...</td>\n",
       "      <td>...</td>\n",
       "      <td>...</td>\n",
       "      <td>...</td>\n",
       "      <td>...</td>\n",
       "      <td>...</td>\n",
       "      <td>...</td>\n",
       "      <td>...</td>\n",
       "      <td>...</td>\n",
       "      <td>...</td>\n",
       "      <td>...</td>\n",
       "      <td>...</td>\n",
       "      <td>...</td>\n",
       "      <td>...</td>\n",
       "      <td>...</td>\n",
       "      <td>...</td>\n",
       "      <td>...</td>\n",
       "      <td>...</td>\n",
       "      <td>...</td>\n",
       "      <td>...</td>\n",
       "      <td>...</td>\n",
       "    </tr>\n",
       "    <tr>\n",
       "      <th>411967</th>\n",
       "      <td>0.120808</td>\n",
       "      <td>-0.133235</td>\n",
       "      <td>0.073419</td>\n",
       "      <td>0.027997</td>\n",
       "      <td>0.072607</td>\n",
       "      <td>0.013692</td>\n",
       "      <td>-0.250106</td>\n",
       "      <td>0.033591</td>\n",
       "      <td>-0.000973</td>\n",
       "      <td>0.031419</td>\n",
       "      <td>...</td>\n",
       "      <td>0.004757</td>\n",
       "      <td>0.048786</td>\n",
       "      <td>0.107976</td>\n",
       "      <td>-0.084272</td>\n",
       "      <td>-0.136682</td>\n",
       "      <td>0.015488</td>\n",
       "      <td>0.021368</td>\n",
       "      <td>-0.010942</td>\n",
       "      <td>-0.091318</td>\n",
       "      <td>0x2913b4</td>\n",
       "    </tr>\n",
       "    <tr>\n",
       "      <th>411968</th>\n",
       "      <td>0.098719</td>\n",
       "      <td>-0.018339</td>\n",
       "      <td>-0.115317</td>\n",
       "      <td>0.151983</td>\n",
       "      <td>0.109499</td>\n",
       "      <td>-0.053804</td>\n",
       "      <td>0.052738</td>\n",
       "      <td>0.175585</td>\n",
       "      <td>0.159266</td>\n",
       "      <td>0.087735</td>\n",
       "      <td>...</td>\n",
       "      <td>-0.006549</td>\n",
       "      <td>0.154968</td>\n",
       "      <td>0.053729</td>\n",
       "      <td>-0.095755</td>\n",
       "      <td>-0.059725</td>\n",
       "      <td>0.002030</td>\n",
       "      <td>0.140695</td>\n",
       "      <td>-0.034266</td>\n",
       "      <td>-0.014913</td>\n",
       "      <td>0x2a980e</td>\n",
       "    </tr>\n",
       "    <tr>\n",
       "      <th>411969</th>\n",
       "      <td>0.064327</td>\n",
       "      <td>0.152697</td>\n",
       "      <td>0.029311</td>\n",
       "      <td>0.140272</td>\n",
       "      <td>-0.106460</td>\n",
       "      <td>0.089240</td>\n",
       "      <td>0.056431</td>\n",
       "      <td>0.141138</td>\n",
       "      <td>0.089897</td>\n",
       "      <td>0.020344</td>\n",
       "      <td>...</td>\n",
       "      <td>0.031518</td>\n",
       "      <td>-0.147748</td>\n",
       "      <td>0.056868</td>\n",
       "      <td>-0.091354</td>\n",
       "      <td>-0.069582</td>\n",
       "      <td>-0.018699</td>\n",
       "      <td>-0.045930</td>\n",
       "      <td>0.047286</td>\n",
       "      <td>-0.153172</td>\n",
       "      <td>0x316b80</td>\n",
       "    </tr>\n",
       "    <tr>\n",
       "      <th>411970</th>\n",
       "      <td>-0.084189</td>\n",
       "      <td>0.251039</td>\n",
       "      <td>-0.015387</td>\n",
       "      <td>0.018006</td>\n",
       "      <td>0.094678</td>\n",
       "      <td>-0.000172</td>\n",
       "      <td>0.127296</td>\n",
       "      <td>0.167974</td>\n",
       "      <td>0.048930</td>\n",
       "      <td>0.135401</td>\n",
       "      <td>...</td>\n",
       "      <td>-0.021815</td>\n",
       "      <td>0.125306</td>\n",
       "      <td>0.226445</td>\n",
       "      <td>0.020862</td>\n",
       "      <td>0.038686</td>\n",
       "      <td>-0.000204</td>\n",
       "      <td>0.002970</td>\n",
       "      <td>-0.029433</td>\n",
       "      <td>-0.163473</td>\n",
       "      <td>0x29d0cb</td>\n",
       "    </tr>\n",
       "    <tr>\n",
       "      <th>411971</th>\n",
       "      <td>0.079337</td>\n",
       "      <td>-0.012918</td>\n",
       "      <td>-0.004986</td>\n",
       "      <td>0.059588</td>\n",
       "      <td>0.079648</td>\n",
       "      <td>0.115958</td>\n",
       "      <td>0.144649</td>\n",
       "      <td>0.155252</td>\n",
       "      <td>0.229825</td>\n",
       "      <td>0.145932</td>\n",
       "      <td>...</td>\n",
       "      <td>0.103689</td>\n",
       "      <td>0.049596</td>\n",
       "      <td>0.152483</td>\n",
       "      <td>-0.054147</td>\n",
       "      <td>0.261154</td>\n",
       "      <td>0.020300</td>\n",
       "      <td>0.061332</td>\n",
       "      <td>-0.149093</td>\n",
       "      <td>-0.016999</td>\n",
       "      <td>0x2a6a4f</td>\n",
       "    </tr>\n",
       "  </tbody>\n",
       "</table>\n",
       "<p>411972 rows × 769 columns</p>\n",
       "</div>"
      ],
      "text/plain": [
       "               0         1         2         3         4         5         6  \\\n",
       "0       0.022685  0.092329 -0.005738  0.058587  0.072496 -0.043568 -0.161728   \n",
       "1       0.157975  0.097607  0.042909  0.142935 -0.066175 -0.048943 -0.019566   \n",
       "2      -0.048615  0.288452  0.149379 -0.038663  0.084482 -0.066496 -0.284200   \n",
       "3      -0.074775  0.279185 -0.066582 -0.025440 -0.003644 -0.014643  0.199948   \n",
       "4       0.018467  0.257763  0.030885 -0.085107  0.109644 -0.005322  0.046763   \n",
       "...          ...       ...       ...       ...       ...       ...       ...   \n",
       "411967  0.120808 -0.133235  0.073419  0.027997  0.072607  0.013692 -0.250106   \n",
       "411968  0.098719 -0.018339 -0.115317  0.151983  0.109499 -0.053804  0.052738   \n",
       "411969  0.064327  0.152697  0.029311  0.140272 -0.106460  0.089240  0.056431   \n",
       "411970 -0.084189  0.251039 -0.015387  0.018006  0.094678 -0.000172  0.127296   \n",
       "411971  0.079337 -0.012918 -0.004986  0.059588  0.079648  0.115958  0.144649   \n",
       "\n",
       "               7         8         9  ...       759       760       761  \\\n",
       "0       0.062479  0.142324  0.155198  ...  0.005442  0.055207  0.123785   \n",
       "1       0.017619  0.296960  0.063106  ...  0.017533 -0.090742  0.111285   \n",
       "2       0.065906 -0.000828  0.103797  ... -0.143857 -0.156438  0.151451   \n",
       "3       0.060919  0.112351  0.057102  ...  0.063033  0.159637  0.034571   \n",
       "4       0.005586  0.291635  0.043000  ... -0.080490  0.069900  0.122277   \n",
       "...          ...       ...       ...  ...       ...       ...       ...   \n",
       "411967  0.033591 -0.000973  0.031419  ...  0.004757  0.048786  0.107976   \n",
       "411968  0.175585  0.159266  0.087735  ... -0.006549  0.154968  0.053729   \n",
       "411969  0.141138  0.089897  0.020344  ...  0.031518 -0.147748  0.056868   \n",
       "411970  0.167974  0.048930  0.135401  ... -0.021815  0.125306  0.226445   \n",
       "411971  0.155252  0.229825  0.145932  ...  0.103689  0.049596  0.152483   \n",
       "\n",
       "             762       763       764       765       766       767  tweet_id  \n",
       "0       0.006869 -0.069393 -0.011549  0.077658 -0.082954 -0.111531  0x28b412  \n",
       "1      -0.023540  0.238490  0.023788  0.049356  0.064402  0.038076  0x2de201  \n",
       "2       0.033344 -0.034106 -0.022977  0.090636  0.012425 -0.109962  0x218443  \n",
       "3       0.022197  0.034739 -0.063595 -0.050794 -0.143279 -0.065068  0x2939d5  \n",
       "4      -0.062018 -0.139353 -0.010073  0.045629 -0.013647 -0.070441  0x26289a  \n",
       "...          ...       ...       ...       ...       ...       ...       ...  \n",
       "411967 -0.084272 -0.136682  0.015488  0.021368 -0.010942 -0.091318  0x2913b4  \n",
       "411968 -0.095755 -0.059725  0.002030  0.140695 -0.034266 -0.014913  0x2a980e  \n",
       "411969 -0.091354 -0.069582 -0.018699 -0.045930  0.047286 -0.153172  0x316b80  \n",
       "411970  0.020862  0.038686 -0.000204  0.002970 -0.029433 -0.163473  0x29d0cb  \n",
       "411971 -0.054147  0.261154  0.020300  0.061332 -0.149093 -0.016999  0x2a6a4f  \n",
       "\n",
       "[411972 rows x 769 columns]"
      ]
     },
     "execution_count": 27,
     "metadata": {},
     "output_type": "execute_result"
    }
   ],
   "source": [
    "# testing 資料預處理\n",
    "df_test = df_test.reset_index(drop=True)\n",
    "test_id = df_test['tweet_id']\n",
    "\n",
    "# test embeddings\n",
    "test_embeddings = model.encode(df_test['text'])\n",
    "test_embeddings_dataframe = pd.DataFrame(test_embeddings)\n",
    "test_embeddings_dataframe['tweet_id'] = test_id\n",
    "test_embeddings_dataframe"
   ]
  },
  {
   "cell_type": "code",
   "execution_count": 28,
   "metadata": {},
   "outputs": [],
   "source": [
    "# testing Dataset 輸出\n",
    "# test_embeddings_dataframe.to_csv(\"D:\\\\test_embedding_1225.csv\", index=False)\n",
    "test_embeddings_dataframe.to_pickle(\"embeddings_test_df.pkl\")"
   ]
  },
  {
   "cell_type": "markdown",
   "metadata": {},
   "source": [
    "#### Load embeddings"
   ]
  },
  {
   "cell_type": "code",
   "execution_count": 1,
   "metadata": {},
   "outputs": [],
   "source": [
    "import pandas as pd\n",
    "import numpy as np\n",
    "\n",
    "df_train = pd.read_pickle(\"embeddings_train_df.pkl\")"
   ]
  },
  {
   "cell_type": "code",
   "execution_count": 2,
   "metadata": {},
   "outputs": [],
   "source": [
    "X_train = df_train.drop([\"tweet_id\",\"emotion\"], axis=1)\n",
    "y_train = df_train[\"emotion\"]"
   ]
  },
  {
   "cell_type": "code",
   "execution_count": 3,
   "metadata": {},
   "outputs": [
    {
     "data": {
      "text/html": [
       "<div>\n",
       "<style scoped>\n",
       "    .dataframe tbody tr th:only-of-type {\n",
       "        vertical-align: middle;\n",
       "    }\n",
       "\n",
       "    .dataframe tbody tr th {\n",
       "        vertical-align: top;\n",
       "    }\n",
       "\n",
       "    .dataframe thead th {\n",
       "        text-align: right;\n",
       "    }\n",
       "</style>\n",
       "<table border=\"1\" class=\"dataframe\">\n",
       "  <thead>\n",
       "    <tr style=\"text-align: right;\">\n",
       "      <th></th>\n",
       "      <th>0</th>\n",
       "      <th>1</th>\n",
       "      <th>2</th>\n",
       "      <th>3</th>\n",
       "      <th>4</th>\n",
       "      <th>5</th>\n",
       "      <th>6</th>\n",
       "      <th>7</th>\n",
       "      <th>8</th>\n",
       "      <th>9</th>\n",
       "      <th>...</th>\n",
       "      <th>758</th>\n",
       "      <th>759</th>\n",
       "      <th>760</th>\n",
       "      <th>761</th>\n",
       "      <th>762</th>\n",
       "      <th>763</th>\n",
       "      <th>764</th>\n",
       "      <th>765</th>\n",
       "      <th>766</th>\n",
       "      <th>767</th>\n",
       "    </tr>\n",
       "  </thead>\n",
       "  <tbody>\n",
       "    <tr>\n",
       "      <th>0</th>\n",
       "      <td>0.071505</td>\n",
       "      <td>0.082234</td>\n",
       "      <td>0.006219</td>\n",
       "      <td>0.179718</td>\n",
       "      <td>0.050084</td>\n",
       "      <td>0.015053</td>\n",
       "      <td>-0.045154</td>\n",
       "      <td>0.007039</td>\n",
       "      <td>0.107571</td>\n",
       "      <td>-0.020500</td>\n",
       "      <td>...</td>\n",
       "      <td>0.099861</td>\n",
       "      <td>0.073715</td>\n",
       "      <td>0.291002</td>\n",
       "      <td>0.154707</td>\n",
       "      <td>-0.028720</td>\n",
       "      <td>-0.237552</td>\n",
       "      <td>-0.017405</td>\n",
       "      <td>0.050074</td>\n",
       "      <td>-0.268313</td>\n",
       "      <td>-0.123757</td>\n",
       "    </tr>\n",
       "    <tr>\n",
       "      <th>1</th>\n",
       "      <td>-0.149611</td>\n",
       "      <td>-0.057241</td>\n",
       "      <td>-0.016519</td>\n",
       "      <td>0.207302</td>\n",
       "      <td>-0.007577</td>\n",
       "      <td>0.082262</td>\n",
       "      <td>0.104181</td>\n",
       "      <td>0.110682</td>\n",
       "      <td>-0.001886</td>\n",
       "      <td>-0.155466</td>\n",
       "      <td>...</td>\n",
       "      <td>0.195987</td>\n",
       "      <td>0.036947</td>\n",
       "      <td>0.043960</td>\n",
       "      <td>-0.133954</td>\n",
       "      <td>-0.030627</td>\n",
       "      <td>-0.043590</td>\n",
       "      <td>0.032295</td>\n",
       "      <td>0.295588</td>\n",
       "      <td>0.008567</td>\n",
       "      <td>-0.054312</td>\n",
       "    </tr>\n",
       "    <tr>\n",
       "      <th>2</th>\n",
       "      <td>-0.015062</td>\n",
       "      <td>0.094321</td>\n",
       "      <td>0.011047</td>\n",
       "      <td>-0.027385</td>\n",
       "      <td>-0.026644</td>\n",
       "      <td>0.047842</td>\n",
       "      <td>0.154043</td>\n",
       "      <td>-0.036735</td>\n",
       "      <td>0.221649</td>\n",
       "      <td>-0.097123</td>\n",
       "      <td>...</td>\n",
       "      <td>0.180617</td>\n",
       "      <td>0.083779</td>\n",
       "      <td>-0.092948</td>\n",
       "      <td>-0.043562</td>\n",
       "      <td>-0.009789</td>\n",
       "      <td>-0.122638</td>\n",
       "      <td>0.038186</td>\n",
       "      <td>0.079922</td>\n",
       "      <td>-0.024520</td>\n",
       "      <td>-0.043199</td>\n",
       "    </tr>\n",
       "    <tr>\n",
       "      <th>3</th>\n",
       "      <td>0.018235</td>\n",
       "      <td>-0.007158</td>\n",
       "      <td>0.011930</td>\n",
       "      <td>-0.038978</td>\n",
       "      <td>-0.005200</td>\n",
       "      <td>0.120120</td>\n",
       "      <td>-0.203243</td>\n",
       "      <td>-0.028562</td>\n",
       "      <td>0.231159</td>\n",
       "      <td>0.040486</td>\n",
       "      <td>...</td>\n",
       "      <td>0.020029</td>\n",
       "      <td>-0.014056</td>\n",
       "      <td>0.135839</td>\n",
       "      <td>0.017561</td>\n",
       "      <td>-0.019912</td>\n",
       "      <td>-0.174624</td>\n",
       "      <td>0.050747</td>\n",
       "      <td>0.133593</td>\n",
       "      <td>0.101685</td>\n",
       "      <td>-0.128139</td>\n",
       "    </tr>\n",
       "    <tr>\n",
       "      <th>4</th>\n",
       "      <td>0.053294</td>\n",
       "      <td>-0.001053</td>\n",
       "      <td>-0.033030</td>\n",
       "      <td>0.040617</td>\n",
       "      <td>0.048796</td>\n",
       "      <td>0.075704</td>\n",
       "      <td>0.108563</td>\n",
       "      <td>0.093851</td>\n",
       "      <td>0.049091</td>\n",
       "      <td>0.079122</td>\n",
       "      <td>...</td>\n",
       "      <td>0.077107</td>\n",
       "      <td>0.144386</td>\n",
       "      <td>-0.030578</td>\n",
       "      <td>-0.048551</td>\n",
       "      <td>0.021410</td>\n",
       "      <td>0.043118</td>\n",
       "      <td>0.167517</td>\n",
       "      <td>0.156225</td>\n",
       "      <td>-0.149218</td>\n",
       "      <td>-0.066900</td>\n",
       "    </tr>\n",
       "    <tr>\n",
       "      <th>...</th>\n",
       "      <td>...</td>\n",
       "      <td>...</td>\n",
       "      <td>...</td>\n",
       "      <td>...</td>\n",
       "      <td>...</td>\n",
       "      <td>...</td>\n",
       "      <td>...</td>\n",
       "      <td>...</td>\n",
       "      <td>...</td>\n",
       "      <td>...</td>\n",
       "      <td>...</td>\n",
       "      <td>...</td>\n",
       "      <td>...</td>\n",
       "      <td>...</td>\n",
       "      <td>...</td>\n",
       "      <td>...</td>\n",
       "      <td>...</td>\n",
       "      <td>...</td>\n",
       "      <td>...</td>\n",
       "      <td>...</td>\n",
       "      <td>...</td>\n",
       "    </tr>\n",
       "    <tr>\n",
       "      <th>727475</th>\n",
       "      <td>-0.136122</td>\n",
       "      <td>-0.007053</td>\n",
       "      <td>0.063562</td>\n",
       "      <td>0.063390</td>\n",
       "      <td>0.092964</td>\n",
       "      <td>-0.055489</td>\n",
       "      <td>-0.075488</td>\n",
       "      <td>-0.068356</td>\n",
       "      <td>0.089761</td>\n",
       "      <td>0.117443</td>\n",
       "      <td>...</td>\n",
       "      <td>0.083258</td>\n",
       "      <td>-0.039116</td>\n",
       "      <td>0.205411</td>\n",
       "      <td>0.042820</td>\n",
       "      <td>-0.040615</td>\n",
       "      <td>0.087163</td>\n",
       "      <td>0.115445</td>\n",
       "      <td>0.117018</td>\n",
       "      <td>-0.001733</td>\n",
       "      <td>-0.082757</td>\n",
       "    </tr>\n",
       "    <tr>\n",
       "      <th>727476</th>\n",
       "      <td>0.030776</td>\n",
       "      <td>0.073034</td>\n",
       "      <td>0.031466</td>\n",
       "      <td>-0.041477</td>\n",
       "      <td>0.134020</td>\n",
       "      <td>0.050078</td>\n",
       "      <td>0.127361</td>\n",
       "      <td>-0.025879</td>\n",
       "      <td>0.202094</td>\n",
       "      <td>0.060499</td>\n",
       "      <td>...</td>\n",
       "      <td>0.204478</td>\n",
       "      <td>0.125362</td>\n",
       "      <td>-0.026996</td>\n",
       "      <td>0.155876</td>\n",
       "      <td>0.077316</td>\n",
       "      <td>-0.000049</td>\n",
       "      <td>0.127443</td>\n",
       "      <td>0.043445</td>\n",
       "      <td>-0.035854</td>\n",
       "      <td>-0.018258</td>\n",
       "    </tr>\n",
       "    <tr>\n",
       "      <th>727477</th>\n",
       "      <td>-0.076485</td>\n",
       "      <td>0.076775</td>\n",
       "      <td>-0.051061</td>\n",
       "      <td>-0.034280</td>\n",
       "      <td>0.082154</td>\n",
       "      <td>-0.075866</td>\n",
       "      <td>-0.089871</td>\n",
       "      <td>-0.070091</td>\n",
       "      <td>-0.123885</td>\n",
       "      <td>0.031334</td>\n",
       "      <td>...</td>\n",
       "      <td>0.199984</td>\n",
       "      <td>-0.042322</td>\n",
       "      <td>0.042933</td>\n",
       "      <td>0.130142</td>\n",
       "      <td>-0.123966</td>\n",
       "      <td>-0.135091</td>\n",
       "      <td>-0.062703</td>\n",
       "      <td>-0.093124</td>\n",
       "      <td>-0.190357</td>\n",
       "      <td>-0.095173</td>\n",
       "    </tr>\n",
       "    <tr>\n",
       "      <th>727478</th>\n",
       "      <td>-0.028859</td>\n",
       "      <td>-0.073108</td>\n",
       "      <td>-0.021582</td>\n",
       "      <td>0.069924</td>\n",
       "      <td>0.066146</td>\n",
       "      <td>0.002339</td>\n",
       "      <td>-0.201103</td>\n",
       "      <td>-0.057229</td>\n",
       "      <td>0.148111</td>\n",
       "      <td>0.086186</td>\n",
       "      <td>...</td>\n",
       "      <td>0.095224</td>\n",
       "      <td>0.048773</td>\n",
       "      <td>0.134343</td>\n",
       "      <td>0.247403</td>\n",
       "      <td>-0.022225</td>\n",
       "      <td>0.074793</td>\n",
       "      <td>-0.039442</td>\n",
       "      <td>-0.107981</td>\n",
       "      <td>-0.030009</td>\n",
       "      <td>-0.152163</td>\n",
       "    </tr>\n",
       "    <tr>\n",
       "      <th>727479</th>\n",
       "      <td>0.073122</td>\n",
       "      <td>0.253190</td>\n",
       "      <td>0.003063</td>\n",
       "      <td>-0.133857</td>\n",
       "      <td>-0.071332</td>\n",
       "      <td>0.028729</td>\n",
       "      <td>0.050772</td>\n",
       "      <td>0.126267</td>\n",
       "      <td>0.189122</td>\n",
       "      <td>-0.091919</td>\n",
       "      <td>...</td>\n",
       "      <td>0.148346</td>\n",
       "      <td>-0.086420</td>\n",
       "      <td>0.042659</td>\n",
       "      <td>0.121592</td>\n",
       "      <td>-0.006343</td>\n",
       "      <td>-0.012383</td>\n",
       "      <td>0.120493</td>\n",
       "      <td>0.084884</td>\n",
       "      <td>-0.119695</td>\n",
       "      <td>-0.122401</td>\n",
       "    </tr>\n",
       "  </tbody>\n",
       "</table>\n",
       "<p>727480 rows × 768 columns</p>\n",
       "</div>"
      ],
      "text/plain": [
       "             0         1         2         3         4         5         6    \\\n",
       "0       0.071505  0.082234  0.006219  0.179718  0.050084  0.015053 -0.045154   \n",
       "1      -0.149611 -0.057241 -0.016519  0.207302 -0.007577  0.082262  0.104181   \n",
       "2      -0.015062  0.094321  0.011047 -0.027385 -0.026644  0.047842  0.154043   \n",
       "3       0.018235 -0.007158  0.011930 -0.038978 -0.005200  0.120120 -0.203243   \n",
       "4       0.053294 -0.001053 -0.033030  0.040617  0.048796  0.075704  0.108563   \n",
       "...          ...       ...       ...       ...       ...       ...       ...   \n",
       "727475 -0.136122 -0.007053  0.063562  0.063390  0.092964 -0.055489 -0.075488   \n",
       "727476  0.030776  0.073034  0.031466 -0.041477  0.134020  0.050078  0.127361   \n",
       "727477 -0.076485  0.076775 -0.051061 -0.034280  0.082154 -0.075866 -0.089871   \n",
       "727478 -0.028859 -0.073108 -0.021582  0.069924  0.066146  0.002339 -0.201103   \n",
       "727479  0.073122  0.253190  0.003063 -0.133857 -0.071332  0.028729  0.050772   \n",
       "\n",
       "             7         8         9    ...       758       759       760  \\\n",
       "0       0.007039  0.107571 -0.020500  ...  0.099861  0.073715  0.291002   \n",
       "1       0.110682 -0.001886 -0.155466  ...  0.195987  0.036947  0.043960   \n",
       "2      -0.036735  0.221649 -0.097123  ...  0.180617  0.083779 -0.092948   \n",
       "3      -0.028562  0.231159  0.040486  ...  0.020029 -0.014056  0.135839   \n",
       "4       0.093851  0.049091  0.079122  ...  0.077107  0.144386 -0.030578   \n",
       "...          ...       ...       ...  ...       ...       ...       ...   \n",
       "727475 -0.068356  0.089761  0.117443  ...  0.083258 -0.039116  0.205411   \n",
       "727476 -0.025879  0.202094  0.060499  ...  0.204478  0.125362 -0.026996   \n",
       "727477 -0.070091 -0.123885  0.031334  ...  0.199984 -0.042322  0.042933   \n",
       "727478 -0.057229  0.148111  0.086186  ...  0.095224  0.048773  0.134343   \n",
       "727479  0.126267  0.189122 -0.091919  ...  0.148346 -0.086420  0.042659   \n",
       "\n",
       "             761       762       763       764       765       766       767  \n",
       "0       0.154707 -0.028720 -0.237552 -0.017405  0.050074 -0.268313 -0.123757  \n",
       "1      -0.133954 -0.030627 -0.043590  0.032295  0.295588  0.008567 -0.054312  \n",
       "2      -0.043562 -0.009789 -0.122638  0.038186  0.079922 -0.024520 -0.043199  \n",
       "3       0.017561 -0.019912 -0.174624  0.050747  0.133593  0.101685 -0.128139  \n",
       "4      -0.048551  0.021410  0.043118  0.167517  0.156225 -0.149218 -0.066900  \n",
       "...          ...       ...       ...       ...       ...       ...       ...  \n",
       "727475  0.042820 -0.040615  0.087163  0.115445  0.117018 -0.001733 -0.082757  \n",
       "727476  0.155876  0.077316 -0.000049  0.127443  0.043445 -0.035854 -0.018258  \n",
       "727477  0.130142 -0.123966 -0.135091 -0.062703 -0.093124 -0.190357 -0.095173  \n",
       "727478  0.247403 -0.022225  0.074793 -0.039442 -0.107981 -0.030009 -0.152163  \n",
       "727479  0.121592 -0.006343 -0.012383  0.120493  0.084884 -0.119695 -0.122401  \n",
       "\n",
       "[727480 rows x 768 columns]"
      ]
     },
     "execution_count": 3,
     "metadata": {},
     "output_type": "execute_result"
    }
   ],
   "source": [
    "X_train"
   ]
  },
  {
   "cell_type": "code",
   "execution_count": 4,
   "metadata": {},
   "outputs": [
    {
     "data": {
      "text/plain": [
       "0         anticipation\n",
       "1              sadness\n",
       "2         anticipation\n",
       "3                  joy\n",
       "4                anger\n",
       "              ...     \n",
       "727475    anticipation\n",
       "727476            fear\n",
       "727477             joy\n",
       "727478             joy\n",
       "727479             joy\n",
       "Name: emotion, Length: 727480, dtype: object"
      ]
     },
     "execution_count": 4,
     "metadata": {},
     "output_type": "execute_result"
    }
   ],
   "source": [
    "y_train"
   ]
  },
  {
   "cell_type": "code",
   "execution_count": 5,
   "metadata": {},
   "outputs": [],
   "source": [
    "from sklearn.model_selection import train_test_split\n",
    "# 訓練和驗證資料 \n",
    "X_train, X_test, y_train_0, y_test_0 = train_test_split(X_train, y_train, test_size=0.2, random_state=42)\n",
    "# the name y_train_0 helps distinguish it from the form that is already processed (y_train)\n",
    "# Also can better avoid data pollution where the data is accidentally encoded more than once"
   ]
  },
  {
   "cell_type": "code",
   "execution_count": 6,
   "metadata": {},
   "outputs": [
    {
     "data": {
      "text/plain": [
       "(             0         1         2         3         4         5         6    \\\n",
       " 454546  0.005408  0.457806 -0.097943 -0.015187  0.120382  0.047242 -0.057516   \n",
       " 511601 -0.070281 -0.077112  0.017932  0.090834 -0.055320  0.070480 -0.050340   \n",
       " 707293 -0.087390  0.072044 -0.057890 -0.028285 -0.003782 -0.025984 -0.092211   \n",
       " \n",
       "              7         8         9    ...       758       759       760  \\\n",
       " 454546  0.181719  0.001346 -0.105351  ... -0.039551  0.048221  0.047201   \n",
       " 511601  0.066162  0.126147  0.111289  ... -0.078807 -0.062672  0.070593   \n",
       " 707293 -0.005447  0.062591  0.207041  ...  0.022572  0.014452  0.114537   \n",
       " \n",
       "              761       762       763       764       765       766       767  \n",
       " 454546  0.013563  0.024418 -0.328221 -0.087986 -0.023862  0.010977  0.010861  \n",
       " 511601 -0.031983 -0.020042  0.039305  0.002352  0.185396 -0.045230  0.032552  \n",
       " 707293  0.046353  0.000316 -0.106452 -0.005397 -0.049235 -0.179569 -0.070973  \n",
       " \n",
       " [3 rows x 768 columns],\n",
       " 454546           trust\n",
       " 511601             joy\n",
       " 707293    anticipation\n",
       " Name: emotion, dtype: object)"
      ]
     },
     "execution_count": 6,
     "metadata": {},
     "output_type": "execute_result"
    }
   ],
   "source": [
    "# 觀看資料\n",
    "X_train[:3], y_train_0[:3]"
   ]
  },
  {
   "cell_type": "markdown",
   "metadata": {},
   "source": [
    "## 4.Training\n",
    "### Prepare data"
   ]
  },
  {
   "cell_type": "code",
   "execution_count": 7,
   "metadata": {},
   "outputs": [
    {
     "name": "stdout",
     "output_type": "stream",
     "text": [
      "X_train.shape:  (581984, 768)\n",
      "y_train.shape:  (581984,)\n",
      "X_test.shape:  (145496, 768)\n",
      "y_test.shape:  (145496,)\n"
     ]
    }
   ],
   "source": [
    "import keras\n",
    "# 檢查維度以確保一切正常運作\n",
    "print('X_train.shape: ', X_train.shape)\n",
    "print('y_train.shape: ', y_train_0.shape)\n",
    "print('X_test.shape: ', X_test.shape)\n",
    "print('y_test.shape: ', y_test_0.shape)"
   ]
  },
  {
   "cell_type": "code",
   "execution_count": 8,
   "metadata": {},
   "outputs": [
    {
     "name": "stdout",
     "output_type": "stream",
     "text": [
      "check label:  ['anger' 'anticipation' 'disgust' 'fear' 'joy' 'sadness' 'surprise'\n",
      " 'trust']\n",
      "\n",
      "## Before convert\n",
      "y_train_0[0:4]:\n",
      " 454546           trust\n",
      "511601             joy\n",
      "707293    anticipation\n",
      "459204             joy\n",
      "Name: emotion, dtype: object\n",
      "\n",
      "y_train_0.shape:  (581984,)\n",
      "y_test_0.shape:  (145496,)\n"
     ]
    }
   ],
   "source": [
    "# 處理標籤 (字串 -> one-hot)\n",
    "from sklearn.preprocessing import LabelEncoder\n",
    "import tensorflow #new line\n",
    "# from keras.utils import np_utils\n",
    "import numpy as np\n",
    "\n",
    "label_encoder = LabelEncoder()\n",
    "label_encoder.fit(y_train_0) \n",
    "print('check label: ', label_encoder.classes_)\n",
    "print('\\n## Before convert')\n",
    "print('y_train_0[0:4]:\\n', y_train_0[0:4])\n",
    "print('\\ny_train_0.shape: ', y_train_0.shape)\n",
    "print('y_test_0.shape: ', y_test_0.shape)\n",
    "\n",
    "def label_encode(le, labels):\n",
    "    enc = le.transform(labels)\n",
    "    return keras.utils.to_categorical(enc)\n",
    "\n",
    "def label_decode(le, one_hot_label):\n",
    "    dec = np.argmax(one_hot_label, axis=1) \n",
    "    return le.inverse_transform(dec)\n",
    "    \n",
    "# 讓編碼後的數據與未編碽的數據有不同的名稱，以避免問題\n",
    "y_train = label_encode(label_encoder, y_train_0) \n",
    "y_test = label_encode(label_encoder, y_test_0)\n"
   ]
  },
  {
   "cell_type": "code",
   "execution_count": 9,
   "metadata": {},
   "outputs": [
    {
     "name": "stdout",
     "output_type": "stream",
     "text": [
      "\n",
      "\n",
      "## After convert\n",
      "y_train[0:4]:\n",
      " [[0. 0. 0. 0. 0. 0. 0. 1.]\n",
      " [0. 0. 0. 0. 1. 0. 0. 0.]\n",
      " [0. 1. 0. 0. 0. 0. 0. 0.]\n",
      " [0. 0. 0. 0. 1. 0. 0. 0.]]\n",
      "\n",
      "y_train.shape:  (581984, 8)\n",
      "y_test.shape:  (145496, 8)\n"
     ]
    }
   ],
   "source": [
    "# 結果檢查\n",
    "print('\\n\\n## After convert')\n",
    "print('y_train[0:4]:\\n', y_train[0:4])\n",
    "print('\\ny_train.shape: ', y_train.shape)\n",
    "print('y_test.shape: ', y_test.shape)"
   ]
  },
  {
   "cell_type": "markdown",
   "metadata": {},
   "source": [
    "### Build Model"
   ]
  },
  {
   "cell_type": "code",
   "execution_count": 10,
   "metadata": {},
   "outputs": [
    {
     "name": "stdout",
     "output_type": "stream",
     "text": [
      "input_shape:  768\n",
      "output_shape:  8\n"
     ]
    }
   ],
   "source": [
    "# I/O 檢查\n",
    "input_shape = X_train.shape[1]\n",
    "print('input_shape: ', input_shape)\n",
    "\n",
    "output_shape = len(label_encoder.classes_)\n",
    "print('output_shape: ', output_shape)"
   ]
  },
  {
   "cell_type": "code",
   "execution_count": 11,
   "metadata": {},
   "outputs": [
    {
     "name": "stdout",
     "output_type": "stream",
     "text": [
      "Model: \"model\"\n",
      "_________________________________________________________________\n",
      " Layer (type)                Output Shape              Param #   \n",
      "=================================================================\n",
      " input_1 (InputLayer)        [(None, 768)]             0         \n",
      "                                                                 \n",
      " dense (Dense)               (None, 512)               393728    \n",
      "                                                                 \n",
      " re_lu (ReLU)                (None, 512)               0         \n",
      "                                                                 \n",
      " dense_1 (Dense)             (None, 512)               262656    \n",
      "                                                                 \n",
      " re_lu_1 (ReLU)              (None, 512)               0         \n",
      "                                                                 \n",
      " dense_2 (Dense)             (None, 512)               262656    \n",
      "                                                                 \n",
      " re_lu_2 (ReLU)              (None, 512)               0         \n",
      "                                                                 \n",
      " dense_3 (Dense)             (None, 8)                 4104      \n",
      "                                                                 \n",
      " softmax (Softmax)           (None, 8)                 0         \n",
      "                                                                 \n",
      "=================================================================\n",
      "Total params: 923,144\n",
      "Trainable params: 923,144\n",
      "Non-trainable params: 0\n",
      "_________________________________________________________________\n"
     ]
    },
    {
     "name": "stderr",
     "output_type": "stream",
     "text": [
      "C:\\Users\\Tsuchidaken\\anaconda3\\envs\\tensor_1221\\lib\\site-packages\\keras\\optimizers\\optimizer_v2\\adam.py:114: UserWarning: The `lr` argument is deprecated, use `learning_rate` instead.\n",
      "  super().__init__(name, **kwargs)\n"
     ]
    }
   ],
   "source": [
    "from keras.models import Model\n",
    "from keras.layers import Input, Dense\n",
    "from keras.layers import ReLU, Softmax\n",
    "from keras import optimizers\n",
    "import tensorflow as tf\n",
    "\n",
    "# 輸入層\n",
    "model_input = Input(shape=(input_shape, ))  # 500\n",
    "X = model_input\n",
    "\n",
    "# 第1個 hidden layer\n",
    "X_W1 = Dense(units=512)(X)  # 256\n",
    "H1 = ReLU()(X_W1)\n",
    "\n",
    "# 第2個 hidden layer\n",
    "H1_W2 = Dense(units=512)(H1)  # 512\n",
    "H2 = ReLU()(H1_W2)\n",
    "\n",
    "# 第三個 hidden layer\n",
    "H2_W3 = Dense(units=512)(H2)  # 256\n",
    "H3 = ReLU()(H2_W3)\n",
    "\n",
    "# 輸出層\n",
    "H3_W4 = Dense(units=output_shape)(H3)  # 4\n",
    "H4 = Softmax()(H3_W4)\n",
    "\n",
    "model_output = H4\n",
    "\n",
    "# 建立模型\n",
    "model = Model(inputs=[model_input], outputs=[model_output])\n",
    "# 使用Adam最佳化\n",
    "# 嘗試不同的學習速率以找出最佳的一種(0.01, 0.001, 0.05, 0.005, 0.1)\n",
    "opt = tf.keras.optimizers.Adam(lr=0.001) #0.001\n",
    "\n",
    "# loss function & optimizer  \n",
    "# evaluate the model\n",
    "model.compile(optimizer=opt,\n",
    "              loss='categorical_crossentropy',\n",
    "              metrics=['accuracy'])\n",
    "\n",
    "# 顯示模型建構\n",
    "model.summary()"
   ]
  },
  {
   "cell_type": "code",
   "execution_count": 12,
   "metadata": {},
   "outputs": [
    {
     "name": "stdout",
     "output_type": "stream",
     "text": [
      "Epoch 1/5\n",
      "18187/18187 [==============================] - 53s 3ms/step - loss: 1.2557 - accuracy: 0.5429 - val_loss: 1.2026 - val_accuracy: 0.5613\n",
      "Epoch 2/5\n",
      "18187/18187 [==============================] - 43s 2ms/step - loss: 1.1741 - accuracy: 0.5736 - val_loss: 1.1857 - val_accuracy: 0.5713\n",
      "Epoch 3/5\n",
      "18187/18187 [==============================] - 42s 2ms/step - loss: 1.1356 - accuracy: 0.5876 - val_loss: 1.1783 - val_accuracy: 0.5739\n",
      "Epoch 4/5\n",
      "18187/18187 [==============================] - 45s 2ms/step - loss: 1.1049 - accuracy: 0.5984 - val_loss: 1.1732 - val_accuracy: 0.5773\n",
      "Epoch 5/5\n",
      "18187/18187 [==============================] - 46s 3ms/step - loss: 1.0776 - accuracy: 0.6090 - val_loss: 1.1837 - val_accuracy: 0.5744\n",
      "training finish\n"
     ]
    }
   ],
   "source": [
    "from keras.callbacks import CSVLogger\n",
    "\n",
    "csv_logger = CSVLogger('training_log_sentence.csv') \n",
    "\n",
    "# training setting\n",
    "epochs = 5\n",
    "batch_size = 32\n",
    "\n",
    "# training!\n",
    "history = model.fit(X_train, y_train, \n",
    "                    epochs=epochs, \n",
    "                    batch_size=batch_size, \n",
    "                    callbacks=[csv_logger], #在每一輪後將訓練結果儲存於csv檔案中\n",
    "                    validation_data = (X_test, y_test))\n",
    "print('training finish')"
   ]
  },
  {
   "cell_type": "code",
   "execution_count": 13,
   "metadata": {},
   "outputs": [
    {
     "data": {
      "text/html": [
       "<div>\n",
       "<style scoped>\n",
       "    .dataframe tbody tr th:only-of-type {\n",
       "        vertical-align: middle;\n",
       "    }\n",
       "\n",
       "    .dataframe tbody tr th {\n",
       "        vertical-align: top;\n",
       "    }\n",
       "\n",
       "    .dataframe thead th {\n",
       "        text-align: right;\n",
       "    }\n",
       "</style>\n",
       "<table border=\"1\" class=\"dataframe\">\n",
       "  <thead>\n",
       "    <tr style=\"text-align: right;\">\n",
       "      <th></th>\n",
       "      <th>epoch</th>\n",
       "      <th>accuracy</th>\n",
       "      <th>loss</th>\n",
       "      <th>val_accuracy</th>\n",
       "      <th>val_loss</th>\n",
       "    </tr>\n",
       "  </thead>\n",
       "  <tbody>\n",
       "    <tr>\n",
       "      <th>0</th>\n",
       "      <td>0</td>\n",
       "      <td>0.542881</td>\n",
       "      <td>1.255744</td>\n",
       "      <td>0.561328</td>\n",
       "      <td>1.202615</td>\n",
       "    </tr>\n",
       "    <tr>\n",
       "      <th>1</th>\n",
       "      <td>1</td>\n",
       "      <td>0.573600</td>\n",
       "      <td>1.174086</td>\n",
       "      <td>0.571287</td>\n",
       "      <td>1.185667</td>\n",
       "    </tr>\n",
       "    <tr>\n",
       "      <th>2</th>\n",
       "      <td>2</td>\n",
       "      <td>0.587571</td>\n",
       "      <td>1.135619</td>\n",
       "      <td>0.573878</td>\n",
       "      <td>1.178336</td>\n",
       "    </tr>\n",
       "    <tr>\n",
       "      <th>3</th>\n",
       "      <td>3</td>\n",
       "      <td>0.598448</td>\n",
       "      <td>1.104898</td>\n",
       "      <td>0.577287</td>\n",
       "      <td>1.173190</td>\n",
       "    </tr>\n",
       "    <tr>\n",
       "      <th>4</th>\n",
       "      <td>4</td>\n",
       "      <td>0.608989</td>\n",
       "      <td>1.077616</td>\n",
       "      <td>0.574380</td>\n",
       "      <td>1.183736</td>\n",
       "    </tr>\n",
       "  </tbody>\n",
       "</table>\n",
       "</div>"
      ],
      "text/plain": [
       "   epoch  accuracy      loss  val_accuracy  val_loss\n",
       "0      0  0.542881  1.255744      0.561328  1.202615\n",
       "1      1  0.573600  1.174086      0.571287  1.185667\n",
       "2      2  0.587571  1.135619      0.573878  1.178336\n",
       "3      3  0.598448  1.104898      0.577287  1.173190\n",
       "4      4  0.608989  1.077616      0.574380  1.183736"
      ]
     },
     "execution_count": 13,
     "metadata": {},
     "output_type": "execute_result"
    }
   ],
   "source": [
    "training_log = pd.DataFrame()\n",
    "training_log = pd.read_csv(\"training_log_sentence.csv\")\n",
    "training_log"
   ]
  },
  {
   "cell_type": "code",
   "execution_count": 14,
   "metadata": {},
   "outputs": [
    {
     "data": {
      "image/png": "[encoded data removed]",
      "text/plain": [
       "<Figure size 640x480 with 1 Axes>"
      ]
     },
     "metadata": {},
     "output_type": "display_data"
    },
    {
     "data": {
      "image/png": "[encoded data removed]",
      "text/plain": [
       "<Figure size 640x480 with 1 Axes>"
      ]
     },
     "metadata": {},
     "output_type": "display_data"
    }
   ],
   "source": [
    "import matplotlib.pyplot as plt\n",
    "# Check how the model is learning and know when to stop training to avoid overfitting\n",
    "df = training_log\n",
    "\n",
    "# Training Accuracy per epoch\n",
    "plt.plot( df['accuracy'], color='blue', label ='Train accuracy')\n",
    "plt.plot( df['val_accuracy'], color='red', label ='Val accuracy')\n",
    "plt.title('Training Accuracy per epoch', fontsize=14)\n",
    "plt.xlabel('Epochs', fontsize=12)\n",
    "plt.ylabel('accuracy', fontsize=12)\n",
    "plt.legend()\n",
    "plt.show()\n",
    "\n",
    "# Training Loss per epoch\n",
    "plt.plot( df['loss'], color='blue', label ='Train loss')\n",
    "plt.plot( df['val_loss'], color='red', label ='Val loss')\n",
    "plt.title('Training Loss per epoch', fontsize=14)\n",
    "plt.xlabel('Epochs', fontsize=12)\n",
    "plt.ylabel('Loss', fontsize=12)\n",
    "plt.legend()\n",
    "plt.show()"
   ]
  },
  {
   "cell_type": "markdown",
   "metadata": {},
   "source": [
    "### Evaluation¶\n"
   ]
  },
  {
   "cell_type": "code",
   "execution_count": 15,
   "metadata": {},
   "outputs": [
    {
     "name": "stdout",
     "output_type": "stream",
     "text": [
      "1137/1137 [==============================] - 1s 1ms/step\n"
     ]
    }
   ],
   "source": [
    "## predict\n",
    "pred_result = model.predict(X_test, batch_size=128)"
   ]
  },
  {
   "cell_type": "code",
   "execution_count": 16,
   "metadata": {},
   "outputs": [
    {
     "name": "stdout",
     "output_type": "stream",
     "text": [
      "testing accuracy: 0.57\n"
     ]
    }
   ],
   "source": [
    "from sklearn.metrics import accuracy_score\n",
    "pred_result = label_decode(label_encoder, pred_result)\n",
    "print('testing accuracy: {}'.format(round(accuracy_score(label_decode(label_encoder, y_test), pred_result), 2)))"
   ]
  },
  {
   "cell_type": "markdown",
   "metadata": {},
   "source": [
    "### Save Model"
   ]
  },
  {
   "cell_type": "code",
   "execution_count": 17,
   "metadata": {},
   "outputs": [],
   "source": [
    "model.save('my_model.keras')"
   ]
  },
  {
   "cell_type": "markdown",
   "metadata": {},
   "source": [
    "### Prediction\n"
   ]
  },
  {
   "cell_type": "code",
   "execution_count": 17,
   "metadata": {},
   "outputs": [],
   "source": [
    "import tensorflow as tf\n",
    "new_model = tf.keras.models.load_model('my_model.keras')"
   ]
  },
  {
   "cell_type": "code",
   "execution_count": 18,
   "metadata": {},
   "outputs": [],
   "source": [
    "# 讀取 testing embedding\n",
    "df_test = pd.read_pickle(\"embeddings_test_df.pkl\")"
   ]
  },
  {
   "cell_type": "code",
   "execution_count": 19,
   "metadata": {},
   "outputs": [
    {
     "data": {
      "text/html": [
       "<div>\n",
       "<style scoped>\n",
       "    .dataframe tbody tr th:only-of-type {\n",
       "        vertical-align: middle;\n",
       "    }\n",
       "\n",
       "    .dataframe tbody tr th {\n",
       "        vertical-align: top;\n",
       "    }\n",
       "\n",
       "    .dataframe thead th {\n",
       "        text-align: right;\n",
       "    }\n",
       "</style>\n",
       "<table border=\"1\" class=\"dataframe\">\n",
       "  <thead>\n",
       "    <tr style=\"text-align: right;\">\n",
       "      <th></th>\n",
       "      <th>0</th>\n",
       "      <th>1</th>\n",
       "      <th>2</th>\n",
       "      <th>3</th>\n",
       "      <th>4</th>\n",
       "      <th>5</th>\n",
       "      <th>6</th>\n",
       "      <th>7</th>\n",
       "      <th>8</th>\n",
       "      <th>9</th>\n",
       "      <th>...</th>\n",
       "      <th>759</th>\n",
       "      <th>760</th>\n",
       "      <th>761</th>\n",
       "      <th>762</th>\n",
       "      <th>763</th>\n",
       "      <th>764</th>\n",
       "      <th>765</th>\n",
       "      <th>766</th>\n",
       "      <th>767</th>\n",
       "      <th>tweet_id</th>\n",
       "    </tr>\n",
       "  </thead>\n",
       "  <tbody>\n",
       "    <tr>\n",
       "      <th>0</th>\n",
       "      <td>0.022685</td>\n",
       "      <td>0.092329</td>\n",
       "      <td>-0.005738</td>\n",
       "      <td>0.058587</td>\n",
       "      <td>0.072496</td>\n",
       "      <td>-0.043568</td>\n",
       "      <td>-0.161728</td>\n",
       "      <td>0.062479</td>\n",
       "      <td>0.142324</td>\n",
       "      <td>0.155198</td>\n",
       "      <td>...</td>\n",
       "      <td>0.005442</td>\n",
       "      <td>0.055207</td>\n",
       "      <td>0.123785</td>\n",
       "      <td>0.006869</td>\n",
       "      <td>-0.069393</td>\n",
       "      <td>-0.011549</td>\n",
       "      <td>0.077658</td>\n",
       "      <td>-0.082954</td>\n",
       "      <td>-0.111531</td>\n",
       "      <td>0x28b412</td>\n",
       "    </tr>\n",
       "    <tr>\n",
       "      <th>1</th>\n",
       "      <td>0.157975</td>\n",
       "      <td>0.097607</td>\n",
       "      <td>0.042909</td>\n",
       "      <td>0.142935</td>\n",
       "      <td>-0.066175</td>\n",
       "      <td>-0.048943</td>\n",
       "      <td>-0.019566</td>\n",
       "      <td>0.017619</td>\n",
       "      <td>0.296960</td>\n",
       "      <td>0.063106</td>\n",
       "      <td>...</td>\n",
       "      <td>0.017533</td>\n",
       "      <td>-0.090742</td>\n",
       "      <td>0.111285</td>\n",
       "      <td>-0.023540</td>\n",
       "      <td>0.238490</td>\n",
       "      <td>0.023788</td>\n",
       "      <td>0.049356</td>\n",
       "      <td>0.064402</td>\n",
       "      <td>0.038076</td>\n",
       "      <td>0x2de201</td>\n",
       "    </tr>\n",
       "    <tr>\n",
       "      <th>2</th>\n",
       "      <td>-0.048615</td>\n",
       "      <td>0.288452</td>\n",
       "      <td>0.149379</td>\n",
       "      <td>-0.038663</td>\n",
       "      <td>0.084482</td>\n",
       "      <td>-0.066496</td>\n",
       "      <td>-0.284200</td>\n",
       "      <td>0.065906</td>\n",
       "      <td>-0.000828</td>\n",
       "      <td>0.103797</td>\n",
       "      <td>...</td>\n",
       "      <td>-0.143857</td>\n",
       "      <td>-0.156438</td>\n",
       "      <td>0.151451</td>\n",
       "      <td>0.033344</td>\n",
       "      <td>-0.034106</td>\n",
       "      <td>-0.022977</td>\n",
       "      <td>0.090636</td>\n",
       "      <td>0.012425</td>\n",
       "      <td>-0.109962</td>\n",
       "      <td>0x218443</td>\n",
       "    </tr>\n",
       "    <tr>\n",
       "      <th>3</th>\n",
       "      <td>-0.074775</td>\n",
       "      <td>0.279185</td>\n",
       "      <td>-0.066582</td>\n",
       "      <td>-0.025440</td>\n",
       "      <td>-0.003644</td>\n",
       "      <td>-0.014643</td>\n",
       "      <td>0.199948</td>\n",
       "      <td>0.060919</td>\n",
       "      <td>0.112351</td>\n",
       "      <td>0.057102</td>\n",
       "      <td>...</td>\n",
       "      <td>0.063033</td>\n",
       "      <td>0.159637</td>\n",
       "      <td>0.034571</td>\n",
       "      <td>0.022197</td>\n",
       "      <td>0.034739</td>\n",
       "      <td>-0.063595</td>\n",
       "      <td>-0.050794</td>\n",
       "      <td>-0.143279</td>\n",
       "      <td>-0.065068</td>\n",
       "      <td>0x2939d5</td>\n",
       "    </tr>\n",
       "    <tr>\n",
       "      <th>4</th>\n",
       "      <td>0.018467</td>\n",
       "      <td>0.257763</td>\n",
       "      <td>0.030885</td>\n",
       "      <td>-0.085107</td>\n",
       "      <td>0.109644</td>\n",
       "      <td>-0.005322</td>\n",
       "      <td>0.046763</td>\n",
       "      <td>0.005586</td>\n",
       "      <td>0.291635</td>\n",
       "      <td>0.043000</td>\n",
       "      <td>...</td>\n",
       "      <td>-0.080490</td>\n",
       "      <td>0.069900</td>\n",
       "      <td>0.122277</td>\n",
       "      <td>-0.062018</td>\n",
       "      <td>-0.139353</td>\n",
       "      <td>-0.010073</td>\n",
       "      <td>0.045629</td>\n",
       "      <td>-0.013647</td>\n",
       "      <td>-0.070441</td>\n",
       "      <td>0x26289a</td>\n",
       "    </tr>\n",
       "    <tr>\n",
       "      <th>...</th>\n",
       "      <td>...</td>\n",
       "      <td>...</td>\n",
       "      <td>...</td>\n",
       "      <td>...</td>\n",
       "      <td>...</td>\n",
       "      <td>...</td>\n",
       "      <td>...</td>\n",
       "      <td>...</td>\n",
       "      <td>...</td>\n",
       "      <td>...</td>\n",
       "      <td>...</td>\n",
       "      <td>...</td>\n",
       "      <td>...</td>\n",
       "      <td>...</td>\n",
       "      <td>...</td>\n",
       "      <td>...</td>\n",
       "      <td>...</td>\n",
       "      <td>...</td>\n",
       "      <td>...</td>\n",
       "      <td>...</td>\n",
       "      <td>...</td>\n",
       "    </tr>\n",
       "    <tr>\n",
       "      <th>411967</th>\n",
       "      <td>0.120808</td>\n",
       "      <td>-0.133235</td>\n",
       "      <td>0.073419</td>\n",
       "      <td>0.027997</td>\n",
       "      <td>0.072607</td>\n",
       "      <td>0.013692</td>\n",
       "      <td>-0.250106</td>\n",
       "      <td>0.033591</td>\n",
       "      <td>-0.000973</td>\n",
       "      <td>0.031419</td>\n",
       "      <td>...</td>\n",
       "      <td>0.004757</td>\n",
       "      <td>0.048786</td>\n",
       "      <td>0.107976</td>\n",
       "      <td>-0.084272</td>\n",
       "      <td>-0.136682</td>\n",
       "      <td>0.015488</td>\n",
       "      <td>0.021368</td>\n",
       "      <td>-0.010942</td>\n",
       "      <td>-0.091318</td>\n",
       "      <td>0x2913b4</td>\n",
       "    </tr>\n",
       "    <tr>\n",
       "      <th>411968</th>\n",
       "      <td>0.098719</td>\n",
       "      <td>-0.018339</td>\n",
       "      <td>-0.115317</td>\n",
       "      <td>0.151983</td>\n",
       "      <td>0.109499</td>\n",
       "      <td>-0.053804</td>\n",
       "      <td>0.052738</td>\n",
       "      <td>0.175585</td>\n",
       "      <td>0.159266</td>\n",
       "      <td>0.087735</td>\n",
       "      <td>...</td>\n",
       "      <td>-0.006549</td>\n",
       "      <td>0.154968</td>\n",
       "      <td>0.053729</td>\n",
       "      <td>-0.095755</td>\n",
       "      <td>-0.059725</td>\n",
       "      <td>0.002030</td>\n",
       "      <td>0.140695</td>\n",
       "      <td>-0.034266</td>\n",
       "      <td>-0.014913</td>\n",
       "      <td>0x2a980e</td>\n",
       "    </tr>\n",
       "    <tr>\n",
       "      <th>411969</th>\n",
       "      <td>0.064327</td>\n",
       "      <td>0.152697</td>\n",
       "      <td>0.029311</td>\n",
       "      <td>0.140272</td>\n",
       "      <td>-0.106460</td>\n",
       "      <td>0.089240</td>\n",
       "      <td>0.056431</td>\n",
       "      <td>0.141138</td>\n",
       "      <td>0.089897</td>\n",
       "      <td>0.020344</td>\n",
       "      <td>...</td>\n",
       "      <td>0.031518</td>\n",
       "      <td>-0.147748</td>\n",
       "      <td>0.056868</td>\n",
       "      <td>-0.091354</td>\n",
       "      <td>-0.069582</td>\n",
       "      <td>-0.018699</td>\n",
       "      <td>-0.045930</td>\n",
       "      <td>0.047286</td>\n",
       "      <td>-0.153172</td>\n",
       "      <td>0x316b80</td>\n",
       "    </tr>\n",
       "    <tr>\n",
       "      <th>411970</th>\n",
       "      <td>-0.084189</td>\n",
       "      <td>0.251039</td>\n",
       "      <td>-0.015387</td>\n",
       "      <td>0.018006</td>\n",
       "      <td>0.094678</td>\n",
       "      <td>-0.000172</td>\n",
       "      <td>0.127296</td>\n",
       "      <td>0.167974</td>\n",
       "      <td>0.048930</td>\n",
       "      <td>0.135401</td>\n",
       "      <td>...</td>\n",
       "      <td>-0.021815</td>\n",
       "      <td>0.125306</td>\n",
       "      <td>0.226445</td>\n",
       "      <td>0.020862</td>\n",
       "      <td>0.038686</td>\n",
       "      <td>-0.000204</td>\n",
       "      <td>0.002970</td>\n",
       "      <td>-0.029433</td>\n",
       "      <td>-0.163473</td>\n",
       "      <td>0x29d0cb</td>\n",
       "    </tr>\n",
       "    <tr>\n",
       "      <th>411971</th>\n",
       "      <td>0.079337</td>\n",
       "      <td>-0.012918</td>\n",
       "      <td>-0.004986</td>\n",
       "      <td>0.059588</td>\n",
       "      <td>0.079648</td>\n",
       "      <td>0.115958</td>\n",
       "      <td>0.144649</td>\n",
       "      <td>0.155252</td>\n",
       "      <td>0.229825</td>\n",
       "      <td>0.145932</td>\n",
       "      <td>...</td>\n",
       "      <td>0.103689</td>\n",
       "      <td>0.049596</td>\n",
       "      <td>0.152483</td>\n",
       "      <td>-0.054147</td>\n",
       "      <td>0.261154</td>\n",
       "      <td>0.020300</td>\n",
       "      <td>0.061332</td>\n",
       "      <td>-0.149093</td>\n",
       "      <td>-0.016999</td>\n",
       "      <td>0x2a6a4f</td>\n",
       "    </tr>\n",
       "  </tbody>\n",
       "</table>\n",
       "<p>411972 rows × 769 columns</p>\n",
       "</div>"
      ],
      "text/plain": [
       "               0         1         2         3         4         5         6  \\\n",
       "0       0.022685  0.092329 -0.005738  0.058587  0.072496 -0.043568 -0.161728   \n",
       "1       0.157975  0.097607  0.042909  0.142935 -0.066175 -0.048943 -0.019566   \n",
       "2      -0.048615  0.288452  0.149379 -0.038663  0.084482 -0.066496 -0.284200   \n",
       "3      -0.074775  0.279185 -0.066582 -0.025440 -0.003644 -0.014643  0.199948   \n",
       "4       0.018467  0.257763  0.030885 -0.085107  0.109644 -0.005322  0.046763   \n",
       "...          ...       ...       ...       ...       ...       ...       ...   \n",
       "411967  0.120808 -0.133235  0.073419  0.027997  0.072607  0.013692 -0.250106   \n",
       "411968  0.098719 -0.018339 -0.115317  0.151983  0.109499 -0.053804  0.052738   \n",
       "411969  0.064327  0.152697  0.029311  0.140272 -0.106460  0.089240  0.056431   \n",
       "411970 -0.084189  0.251039 -0.015387  0.018006  0.094678 -0.000172  0.127296   \n",
       "411971  0.079337 -0.012918 -0.004986  0.059588  0.079648  0.115958  0.144649   \n",
       "\n",
       "               7         8         9  ...       759       760       761  \\\n",
       "0       0.062479  0.142324  0.155198  ...  0.005442  0.055207  0.123785   \n",
       "1       0.017619  0.296960  0.063106  ...  0.017533 -0.090742  0.111285   \n",
       "2       0.065906 -0.000828  0.103797  ... -0.143857 -0.156438  0.151451   \n",
       "3       0.060919  0.112351  0.057102  ...  0.063033  0.159637  0.034571   \n",
       "4       0.005586  0.291635  0.043000  ... -0.080490  0.069900  0.122277   \n",
       "...          ...       ...       ...  ...       ...       ...       ...   \n",
       "411967  0.033591 -0.000973  0.031419  ...  0.004757  0.048786  0.107976   \n",
       "411968  0.175585  0.159266  0.087735  ... -0.006549  0.154968  0.053729   \n",
       "411969  0.141138  0.089897  0.020344  ...  0.031518 -0.147748  0.056868   \n",
       "411970  0.167974  0.048930  0.135401  ... -0.021815  0.125306  0.226445   \n",
       "411971  0.155252  0.229825  0.145932  ...  0.103689  0.049596  0.152483   \n",
       "\n",
       "             762       763       764       765       766       767  tweet_id  \n",
       "0       0.006869 -0.069393 -0.011549  0.077658 -0.082954 -0.111531  0x28b412  \n",
       "1      -0.023540  0.238490  0.023788  0.049356  0.064402  0.038076  0x2de201  \n",
       "2       0.033344 -0.034106 -0.022977  0.090636  0.012425 -0.109962  0x218443  \n",
       "3       0.022197  0.034739 -0.063595 -0.050794 -0.143279 -0.065068  0x2939d5  \n",
       "4      -0.062018 -0.139353 -0.010073  0.045629 -0.013647 -0.070441  0x26289a  \n",
       "...          ...       ...       ...       ...       ...       ...       ...  \n",
       "411967 -0.084272 -0.136682  0.015488  0.021368 -0.010942 -0.091318  0x2913b4  \n",
       "411968 -0.095755 -0.059725  0.002030  0.140695 -0.034266 -0.014913  0x2a980e  \n",
       "411969 -0.091354 -0.069582 -0.018699 -0.045930  0.047286 -0.153172  0x316b80  \n",
       "411970  0.020862  0.038686 -0.000204  0.002970 -0.029433 -0.163473  0x29d0cb  \n",
       "411971 -0.054147  0.261154  0.020300  0.061332 -0.149093 -0.016999  0x2a6a4f  \n",
       "\n",
       "[411972 rows x 769 columns]"
      ]
     },
     "execution_count": 19,
     "metadata": {},
     "output_type": "execute_result"
    }
   ],
   "source": [
    "df_test"
   ]
  },
  {
   "cell_type": "code",
   "execution_count": 20,
   "metadata": {},
   "outputs": [
    {
     "data": {
      "text/html": [
       "<div>\n",
       "<style scoped>\n",
       "    .dataframe tbody tr th:only-of-type {\n",
       "        vertical-align: middle;\n",
       "    }\n",
       "\n",
       "    .dataframe tbody tr th {\n",
       "        vertical-align: top;\n",
       "    }\n",
       "\n",
       "    .dataframe thead th {\n",
       "        text-align: right;\n",
       "    }\n",
       "</style>\n",
       "<table border=\"1\" class=\"dataframe\">\n",
       "  <thead>\n",
       "    <tr style=\"text-align: right;\">\n",
       "      <th></th>\n",
       "      <th>0</th>\n",
       "      <th>1</th>\n",
       "      <th>2</th>\n",
       "      <th>3</th>\n",
       "      <th>4</th>\n",
       "      <th>5</th>\n",
       "      <th>6</th>\n",
       "      <th>7</th>\n",
       "      <th>8</th>\n",
       "      <th>9</th>\n",
       "      <th>...</th>\n",
       "      <th>758</th>\n",
       "      <th>759</th>\n",
       "      <th>760</th>\n",
       "      <th>761</th>\n",
       "      <th>762</th>\n",
       "      <th>763</th>\n",
       "      <th>764</th>\n",
       "      <th>765</th>\n",
       "      <th>766</th>\n",
       "      <th>767</th>\n",
       "    </tr>\n",
       "  </thead>\n",
       "  <tbody>\n",
       "    <tr>\n",
       "      <th>0</th>\n",
       "      <td>0.022685</td>\n",
       "      <td>0.092329</td>\n",
       "      <td>-0.005738</td>\n",
       "      <td>0.058587</td>\n",
       "      <td>0.072496</td>\n",
       "      <td>-0.043568</td>\n",
       "      <td>-0.161728</td>\n",
       "      <td>0.062479</td>\n",
       "      <td>0.142324</td>\n",
       "      <td>0.155198</td>\n",
       "      <td>...</td>\n",
       "      <td>0.048404</td>\n",
       "      <td>0.005442</td>\n",
       "      <td>0.055207</td>\n",
       "      <td>0.123785</td>\n",
       "      <td>0.006869</td>\n",
       "      <td>-0.069393</td>\n",
       "      <td>-0.011549</td>\n",
       "      <td>0.077658</td>\n",
       "      <td>-0.082954</td>\n",
       "      <td>-0.111531</td>\n",
       "    </tr>\n",
       "    <tr>\n",
       "      <th>1</th>\n",
       "      <td>0.157975</td>\n",
       "      <td>0.097607</td>\n",
       "      <td>0.042909</td>\n",
       "      <td>0.142935</td>\n",
       "      <td>-0.066175</td>\n",
       "      <td>-0.048943</td>\n",
       "      <td>-0.019566</td>\n",
       "      <td>0.017619</td>\n",
       "      <td>0.296960</td>\n",
       "      <td>0.063106</td>\n",
       "      <td>...</td>\n",
       "      <td>0.026435</td>\n",
       "      <td>0.017533</td>\n",
       "      <td>-0.090742</td>\n",
       "      <td>0.111285</td>\n",
       "      <td>-0.023540</td>\n",
       "      <td>0.238490</td>\n",
       "      <td>0.023788</td>\n",
       "      <td>0.049356</td>\n",
       "      <td>0.064402</td>\n",
       "      <td>0.038076</td>\n",
       "    </tr>\n",
       "    <tr>\n",
       "      <th>2</th>\n",
       "      <td>-0.048615</td>\n",
       "      <td>0.288452</td>\n",
       "      <td>0.149379</td>\n",
       "      <td>-0.038663</td>\n",
       "      <td>0.084482</td>\n",
       "      <td>-0.066496</td>\n",
       "      <td>-0.284200</td>\n",
       "      <td>0.065906</td>\n",
       "      <td>-0.000828</td>\n",
       "      <td>0.103797</td>\n",
       "      <td>...</td>\n",
       "      <td>0.108666</td>\n",
       "      <td>-0.143857</td>\n",
       "      <td>-0.156438</td>\n",
       "      <td>0.151451</td>\n",
       "      <td>0.033344</td>\n",
       "      <td>-0.034106</td>\n",
       "      <td>-0.022977</td>\n",
       "      <td>0.090636</td>\n",
       "      <td>0.012425</td>\n",
       "      <td>-0.109962</td>\n",
       "    </tr>\n",
       "    <tr>\n",
       "      <th>3</th>\n",
       "      <td>-0.074775</td>\n",
       "      <td>0.279185</td>\n",
       "      <td>-0.066582</td>\n",
       "      <td>-0.025440</td>\n",
       "      <td>-0.003644</td>\n",
       "      <td>-0.014643</td>\n",
       "      <td>0.199948</td>\n",
       "      <td>0.060919</td>\n",
       "      <td>0.112351</td>\n",
       "      <td>0.057102</td>\n",
       "      <td>...</td>\n",
       "      <td>0.114568</td>\n",
       "      <td>0.063033</td>\n",
       "      <td>0.159637</td>\n",
       "      <td>0.034571</td>\n",
       "      <td>0.022197</td>\n",
       "      <td>0.034739</td>\n",
       "      <td>-0.063595</td>\n",
       "      <td>-0.050794</td>\n",
       "      <td>-0.143279</td>\n",
       "      <td>-0.065068</td>\n",
       "    </tr>\n",
       "    <tr>\n",
       "      <th>4</th>\n",
       "      <td>0.018467</td>\n",
       "      <td>0.257763</td>\n",
       "      <td>0.030885</td>\n",
       "      <td>-0.085107</td>\n",
       "      <td>0.109644</td>\n",
       "      <td>-0.005322</td>\n",
       "      <td>0.046763</td>\n",
       "      <td>0.005586</td>\n",
       "      <td>0.291635</td>\n",
       "      <td>0.043000</td>\n",
       "      <td>...</td>\n",
       "      <td>0.025855</td>\n",
       "      <td>-0.080490</td>\n",
       "      <td>0.069900</td>\n",
       "      <td>0.122277</td>\n",
       "      <td>-0.062018</td>\n",
       "      <td>-0.139353</td>\n",
       "      <td>-0.010073</td>\n",
       "      <td>0.045629</td>\n",
       "      <td>-0.013647</td>\n",
       "      <td>-0.070441</td>\n",
       "    </tr>\n",
       "    <tr>\n",
       "      <th>...</th>\n",
       "      <td>...</td>\n",
       "      <td>...</td>\n",
       "      <td>...</td>\n",
       "      <td>...</td>\n",
       "      <td>...</td>\n",
       "      <td>...</td>\n",
       "      <td>...</td>\n",
       "      <td>...</td>\n",
       "      <td>...</td>\n",
       "      <td>...</td>\n",
       "      <td>...</td>\n",
       "      <td>...</td>\n",
       "      <td>...</td>\n",
       "      <td>...</td>\n",
       "      <td>...</td>\n",
       "      <td>...</td>\n",
       "      <td>...</td>\n",
       "      <td>...</td>\n",
       "      <td>...</td>\n",
       "      <td>...</td>\n",
       "      <td>...</td>\n",
       "    </tr>\n",
       "    <tr>\n",
       "      <th>411967</th>\n",
       "      <td>0.120808</td>\n",
       "      <td>-0.133235</td>\n",
       "      <td>0.073419</td>\n",
       "      <td>0.027997</td>\n",
       "      <td>0.072607</td>\n",
       "      <td>0.013692</td>\n",
       "      <td>-0.250106</td>\n",
       "      <td>0.033591</td>\n",
       "      <td>-0.000973</td>\n",
       "      <td>0.031419</td>\n",
       "      <td>...</td>\n",
       "      <td>-0.064249</td>\n",
       "      <td>0.004757</td>\n",
       "      <td>0.048786</td>\n",
       "      <td>0.107976</td>\n",
       "      <td>-0.084272</td>\n",
       "      <td>-0.136682</td>\n",
       "      <td>0.015488</td>\n",
       "      <td>0.021368</td>\n",
       "      <td>-0.010942</td>\n",
       "      <td>-0.091318</td>\n",
       "    </tr>\n",
       "    <tr>\n",
       "      <th>411968</th>\n",
       "      <td>0.098719</td>\n",
       "      <td>-0.018339</td>\n",
       "      <td>-0.115317</td>\n",
       "      <td>0.151983</td>\n",
       "      <td>0.109499</td>\n",
       "      <td>-0.053804</td>\n",
       "      <td>0.052738</td>\n",
       "      <td>0.175585</td>\n",
       "      <td>0.159266</td>\n",
       "      <td>0.087735</td>\n",
       "      <td>...</td>\n",
       "      <td>-0.054311</td>\n",
       "      <td>-0.006549</td>\n",
       "      <td>0.154968</td>\n",
       "      <td>0.053729</td>\n",
       "      <td>-0.095755</td>\n",
       "      <td>-0.059725</td>\n",
       "      <td>0.002030</td>\n",
       "      <td>0.140695</td>\n",
       "      <td>-0.034266</td>\n",
       "      <td>-0.014913</td>\n",
       "    </tr>\n",
       "    <tr>\n",
       "      <th>411969</th>\n",
       "      <td>0.064327</td>\n",
       "      <td>0.152697</td>\n",
       "      <td>0.029311</td>\n",
       "      <td>0.140272</td>\n",
       "      <td>-0.106460</td>\n",
       "      <td>0.089240</td>\n",
       "      <td>0.056431</td>\n",
       "      <td>0.141138</td>\n",
       "      <td>0.089897</td>\n",
       "      <td>0.020344</td>\n",
       "      <td>...</td>\n",
       "      <td>0.058705</td>\n",
       "      <td>0.031518</td>\n",
       "      <td>-0.147748</td>\n",
       "      <td>0.056868</td>\n",
       "      <td>-0.091354</td>\n",
       "      <td>-0.069582</td>\n",
       "      <td>-0.018699</td>\n",
       "      <td>-0.045930</td>\n",
       "      <td>0.047286</td>\n",
       "      <td>-0.153172</td>\n",
       "    </tr>\n",
       "    <tr>\n",
       "      <th>411970</th>\n",
       "      <td>-0.084189</td>\n",
       "      <td>0.251039</td>\n",
       "      <td>-0.015387</td>\n",
       "      <td>0.018006</td>\n",
       "      <td>0.094678</td>\n",
       "      <td>-0.000172</td>\n",
       "      <td>0.127296</td>\n",
       "      <td>0.167974</td>\n",
       "      <td>0.048930</td>\n",
       "      <td>0.135401</td>\n",
       "      <td>...</td>\n",
       "      <td>0.057190</td>\n",
       "      <td>-0.021815</td>\n",
       "      <td>0.125306</td>\n",
       "      <td>0.226445</td>\n",
       "      <td>0.020862</td>\n",
       "      <td>0.038686</td>\n",
       "      <td>-0.000204</td>\n",
       "      <td>0.002970</td>\n",
       "      <td>-0.029433</td>\n",
       "      <td>-0.163473</td>\n",
       "    </tr>\n",
       "    <tr>\n",
       "      <th>411971</th>\n",
       "      <td>0.079337</td>\n",
       "      <td>-0.012918</td>\n",
       "      <td>-0.004986</td>\n",
       "      <td>0.059588</td>\n",
       "      <td>0.079648</td>\n",
       "      <td>0.115958</td>\n",
       "      <td>0.144649</td>\n",
       "      <td>0.155252</td>\n",
       "      <td>0.229825</td>\n",
       "      <td>0.145932</td>\n",
       "      <td>...</td>\n",
       "      <td>0.206572</td>\n",
       "      <td>0.103689</td>\n",
       "      <td>0.049596</td>\n",
       "      <td>0.152483</td>\n",
       "      <td>-0.054147</td>\n",
       "      <td>0.261154</td>\n",
       "      <td>0.020300</td>\n",
       "      <td>0.061332</td>\n",
       "      <td>-0.149093</td>\n",
       "      <td>-0.016999</td>\n",
       "    </tr>\n",
       "  </tbody>\n",
       "</table>\n",
       "<p>411972 rows × 768 columns</p>\n",
       "</div>"
      ],
      "text/plain": [
       "             0         1         2         3         4         5         6    \\\n",
       "0       0.022685  0.092329 -0.005738  0.058587  0.072496 -0.043568 -0.161728   \n",
       "1       0.157975  0.097607  0.042909  0.142935 -0.066175 -0.048943 -0.019566   \n",
       "2      -0.048615  0.288452  0.149379 -0.038663  0.084482 -0.066496 -0.284200   \n",
       "3      -0.074775  0.279185 -0.066582 -0.025440 -0.003644 -0.014643  0.199948   \n",
       "4       0.018467  0.257763  0.030885 -0.085107  0.109644 -0.005322  0.046763   \n",
       "...          ...       ...       ...       ...       ...       ...       ...   \n",
       "411967  0.120808 -0.133235  0.073419  0.027997  0.072607  0.013692 -0.250106   \n",
       "411968  0.098719 -0.018339 -0.115317  0.151983  0.109499 -0.053804  0.052738   \n",
       "411969  0.064327  0.152697  0.029311  0.140272 -0.106460  0.089240  0.056431   \n",
       "411970 -0.084189  0.251039 -0.015387  0.018006  0.094678 -0.000172  0.127296   \n",
       "411971  0.079337 -0.012918 -0.004986  0.059588  0.079648  0.115958  0.144649   \n",
       "\n",
       "             7         8         9    ...       758       759       760  \\\n",
       "0       0.062479  0.142324  0.155198  ...  0.048404  0.005442  0.055207   \n",
       "1       0.017619  0.296960  0.063106  ...  0.026435  0.017533 -0.090742   \n",
       "2       0.065906 -0.000828  0.103797  ...  0.108666 -0.143857 -0.156438   \n",
       "3       0.060919  0.112351  0.057102  ...  0.114568  0.063033  0.159637   \n",
       "4       0.005586  0.291635  0.043000  ...  0.025855 -0.080490  0.069900   \n",
       "...          ...       ...       ...  ...       ...       ...       ...   \n",
       "411967  0.033591 -0.000973  0.031419  ... -0.064249  0.004757  0.048786   \n",
       "411968  0.175585  0.159266  0.087735  ... -0.054311 -0.006549  0.154968   \n",
       "411969  0.141138  0.089897  0.020344  ...  0.058705  0.031518 -0.147748   \n",
       "411970  0.167974  0.048930  0.135401  ...  0.057190 -0.021815  0.125306   \n",
       "411971  0.155252  0.229825  0.145932  ...  0.206572  0.103689  0.049596   \n",
       "\n",
       "             761       762       763       764       765       766       767  \n",
       "0       0.123785  0.006869 -0.069393 -0.011549  0.077658 -0.082954 -0.111531  \n",
       "1       0.111285 -0.023540  0.238490  0.023788  0.049356  0.064402  0.038076  \n",
       "2       0.151451  0.033344 -0.034106 -0.022977  0.090636  0.012425 -0.109962  \n",
       "3       0.034571  0.022197  0.034739 -0.063595 -0.050794 -0.143279 -0.065068  \n",
       "4       0.122277 -0.062018 -0.139353 -0.010073  0.045629 -0.013647 -0.070441  \n",
       "...          ...       ...       ...       ...       ...       ...       ...  \n",
       "411967  0.107976 -0.084272 -0.136682  0.015488  0.021368 -0.010942 -0.091318  \n",
       "411968  0.053729 -0.095755 -0.059725  0.002030  0.140695 -0.034266 -0.014913  \n",
       "411969  0.056868 -0.091354 -0.069582 -0.018699 -0.045930  0.047286 -0.153172  \n",
       "411970  0.226445  0.020862  0.038686 -0.000204  0.002970 -0.029433 -0.163473  \n",
       "411971  0.152483 -0.054147  0.261154  0.020300  0.061332 -0.149093 -0.016999  \n",
       "\n",
       "[411972 rows x 768 columns]"
      ]
     },
     "execution_count": 20,
     "metadata": {},
     "output_type": "execute_result"
    }
   ],
   "source": [
    "test_feature = df_test.drop([\"tweet_id\"], axis=1)\n",
    "test_feature"
   ]
  },
  {
   "cell_type": "code",
   "execution_count": 21,
   "metadata": {},
   "outputs": [
    {
     "name": "stdout",
     "output_type": "stream",
     "text": [
      "3219/3219 [==============================] - 4s 1ms/step\n"
     ]
    }
   ],
   "source": [
    "# 預測 test_data\n",
    "test_result = model.predict(test_feature, batch_size=128)\n",
    "test_result = label_decode(label_encoder, test_result)"
   ]
  },
  {
   "cell_type": "code",
   "execution_count": 22,
   "metadata": {},
   "outputs": [
    {
     "data": {
      "text/plain": [
       "array(['anticipation', 'trust', 'joy'], dtype=object)"
      ]
     },
     "execution_count": 22,
     "metadata": {},
     "output_type": "execute_result"
    }
   ],
   "source": [
    "test_result[:3]"
   ]
  },
  {
   "cell_type": "markdown",
   "metadata": {},
   "source": [
    "### Make submission df"
   ]
  },
  {
   "cell_type": "code",
   "execution_count": 23,
   "metadata": {},
   "outputs": [],
   "source": [
    "df_test[\"emotion\"] = test_result"
   ]
  },
  {
   "cell_type": "code",
   "execution_count": 24,
   "metadata": {},
   "outputs": [
    {
     "data": {
      "text/html": [
       "<div>\n",
       "<style scoped>\n",
       "    .dataframe tbody tr th:only-of-type {\n",
       "        vertical-align: middle;\n",
       "    }\n",
       "\n",
       "    .dataframe tbody tr th {\n",
       "        vertical-align: top;\n",
       "    }\n",
       "\n",
       "    .dataframe thead th {\n",
       "        text-align: right;\n",
       "    }\n",
       "</style>\n",
       "<table border=\"1\" class=\"dataframe\">\n",
       "  <thead>\n",
       "    <tr style=\"text-align: right;\">\n",
       "      <th></th>\n",
       "      <th>0</th>\n",
       "      <th>1</th>\n",
       "      <th>2</th>\n",
       "      <th>3</th>\n",
       "      <th>4</th>\n",
       "      <th>5</th>\n",
       "      <th>6</th>\n",
       "      <th>7</th>\n",
       "      <th>8</th>\n",
       "      <th>9</th>\n",
       "      <th>...</th>\n",
       "      <th>760</th>\n",
       "      <th>761</th>\n",
       "      <th>762</th>\n",
       "      <th>763</th>\n",
       "      <th>764</th>\n",
       "      <th>765</th>\n",
       "      <th>766</th>\n",
       "      <th>767</th>\n",
       "      <th>tweet_id</th>\n",
       "      <th>emotion</th>\n",
       "    </tr>\n",
       "  </thead>\n",
       "  <tbody>\n",
       "    <tr>\n",
       "      <th>0</th>\n",
       "      <td>0.022685</td>\n",
       "      <td>0.092329</td>\n",
       "      <td>-0.005738</td>\n",
       "      <td>0.058587</td>\n",
       "      <td>0.072496</td>\n",
       "      <td>-0.043568</td>\n",
       "      <td>-0.161728</td>\n",
       "      <td>0.062479</td>\n",
       "      <td>0.142324</td>\n",
       "      <td>0.155198</td>\n",
       "      <td>...</td>\n",
       "      <td>0.055207</td>\n",
       "      <td>0.123785</td>\n",
       "      <td>0.006869</td>\n",
       "      <td>-0.069393</td>\n",
       "      <td>-0.011549</td>\n",
       "      <td>0.077658</td>\n",
       "      <td>-0.082954</td>\n",
       "      <td>-0.111531</td>\n",
       "      <td>0x28b412</td>\n",
       "      <td>anticipation</td>\n",
       "    </tr>\n",
       "    <tr>\n",
       "      <th>1</th>\n",
       "      <td>0.157975</td>\n",
       "      <td>0.097607</td>\n",
       "      <td>0.042909</td>\n",
       "      <td>0.142935</td>\n",
       "      <td>-0.066175</td>\n",
       "      <td>-0.048943</td>\n",
       "      <td>-0.019566</td>\n",
       "      <td>0.017619</td>\n",
       "      <td>0.296960</td>\n",
       "      <td>0.063106</td>\n",
       "      <td>...</td>\n",
       "      <td>-0.090742</td>\n",
       "      <td>0.111285</td>\n",
       "      <td>-0.023540</td>\n",
       "      <td>0.238490</td>\n",
       "      <td>0.023788</td>\n",
       "      <td>0.049356</td>\n",
       "      <td>0.064402</td>\n",
       "      <td>0.038076</td>\n",
       "      <td>0x2de201</td>\n",
       "      <td>trust</td>\n",
       "    </tr>\n",
       "    <tr>\n",
       "      <th>2</th>\n",
       "      <td>-0.048615</td>\n",
       "      <td>0.288452</td>\n",
       "      <td>0.149379</td>\n",
       "      <td>-0.038663</td>\n",
       "      <td>0.084482</td>\n",
       "      <td>-0.066496</td>\n",
       "      <td>-0.284200</td>\n",
       "      <td>0.065906</td>\n",
       "      <td>-0.000828</td>\n",
       "      <td>0.103797</td>\n",
       "      <td>...</td>\n",
       "      <td>-0.156438</td>\n",
       "      <td>0.151451</td>\n",
       "      <td>0.033344</td>\n",
       "      <td>-0.034106</td>\n",
       "      <td>-0.022977</td>\n",
       "      <td>0.090636</td>\n",
       "      <td>0.012425</td>\n",
       "      <td>-0.109962</td>\n",
       "      <td>0x218443</td>\n",
       "      <td>joy</td>\n",
       "    </tr>\n",
       "    <tr>\n",
       "      <th>3</th>\n",
       "      <td>-0.074775</td>\n",
       "      <td>0.279185</td>\n",
       "      <td>-0.066582</td>\n",
       "      <td>-0.025440</td>\n",
       "      <td>-0.003644</td>\n",
       "      <td>-0.014643</td>\n",
       "      <td>0.199948</td>\n",
       "      <td>0.060919</td>\n",
       "      <td>0.112351</td>\n",
       "      <td>0.057102</td>\n",
       "      <td>...</td>\n",
       "      <td>0.159637</td>\n",
       "      <td>0.034571</td>\n",
       "      <td>0.022197</td>\n",
       "      <td>0.034739</td>\n",
       "      <td>-0.063595</td>\n",
       "      <td>-0.050794</td>\n",
       "      <td>-0.143279</td>\n",
       "      <td>-0.065068</td>\n",
       "      <td>0x2939d5</td>\n",
       "      <td>anticipation</td>\n",
       "    </tr>\n",
       "    <tr>\n",
       "      <th>4</th>\n",
       "      <td>0.018467</td>\n",
       "      <td>0.257763</td>\n",
       "      <td>0.030885</td>\n",
       "      <td>-0.085107</td>\n",
       "      <td>0.109644</td>\n",
       "      <td>-0.005322</td>\n",
       "      <td>0.046763</td>\n",
       "      <td>0.005586</td>\n",
       "      <td>0.291635</td>\n",
       "      <td>0.043000</td>\n",
       "      <td>...</td>\n",
       "      <td>0.069900</td>\n",
       "      <td>0.122277</td>\n",
       "      <td>-0.062018</td>\n",
       "      <td>-0.139353</td>\n",
       "      <td>-0.010073</td>\n",
       "      <td>0.045629</td>\n",
       "      <td>-0.013647</td>\n",
       "      <td>-0.070441</td>\n",
       "      <td>0x26289a</td>\n",
       "      <td>trust</td>\n",
       "    </tr>\n",
       "    <tr>\n",
       "      <th>...</th>\n",
       "      <td>...</td>\n",
       "      <td>...</td>\n",
       "      <td>...</td>\n",
       "      <td>...</td>\n",
       "      <td>...</td>\n",
       "      <td>...</td>\n",
       "      <td>...</td>\n",
       "      <td>...</td>\n",
       "      <td>...</td>\n",
       "      <td>...</td>\n",
       "      <td>...</td>\n",
       "      <td>...</td>\n",
       "      <td>...</td>\n",
       "      <td>...</td>\n",
       "      <td>...</td>\n",
       "      <td>...</td>\n",
       "      <td>...</td>\n",
       "      <td>...</td>\n",
       "      <td>...</td>\n",
       "      <td>...</td>\n",
       "      <td>...</td>\n",
       "    </tr>\n",
       "    <tr>\n",
       "      <th>411967</th>\n",
       "      <td>0.120808</td>\n",
       "      <td>-0.133235</td>\n",
       "      <td>0.073419</td>\n",
       "      <td>0.027997</td>\n",
       "      <td>0.072607</td>\n",
       "      <td>0.013692</td>\n",
       "      <td>-0.250106</td>\n",
       "      <td>0.033591</td>\n",
       "      <td>-0.000973</td>\n",
       "      <td>0.031419</td>\n",
       "      <td>...</td>\n",
       "      <td>0.048786</td>\n",
       "      <td>0.107976</td>\n",
       "      <td>-0.084272</td>\n",
       "      <td>-0.136682</td>\n",
       "      <td>0.015488</td>\n",
       "      <td>0.021368</td>\n",
       "      <td>-0.010942</td>\n",
       "      <td>-0.091318</td>\n",
       "      <td>0x2913b4</td>\n",
       "      <td>joy</td>\n",
       "    </tr>\n",
       "    <tr>\n",
       "      <th>411968</th>\n",
       "      <td>0.098719</td>\n",
       "      <td>-0.018339</td>\n",
       "      <td>-0.115317</td>\n",
       "      <td>0.151983</td>\n",
       "      <td>0.109499</td>\n",
       "      <td>-0.053804</td>\n",
       "      <td>0.052738</td>\n",
       "      <td>0.175585</td>\n",
       "      <td>0.159266</td>\n",
       "      <td>0.087735</td>\n",
       "      <td>...</td>\n",
       "      <td>0.154968</td>\n",
       "      <td>0.053729</td>\n",
       "      <td>-0.095755</td>\n",
       "      <td>-0.059725</td>\n",
       "      <td>0.002030</td>\n",
       "      <td>0.140695</td>\n",
       "      <td>-0.034266</td>\n",
       "      <td>-0.014913</td>\n",
       "      <td>0x2a980e</td>\n",
       "      <td>anticipation</td>\n",
       "    </tr>\n",
       "    <tr>\n",
       "      <th>411969</th>\n",
       "      <td>0.064327</td>\n",
       "      <td>0.152697</td>\n",
       "      <td>0.029311</td>\n",
       "      <td>0.140272</td>\n",
       "      <td>-0.106460</td>\n",
       "      <td>0.089240</td>\n",
       "      <td>0.056431</td>\n",
       "      <td>0.141138</td>\n",
       "      <td>0.089897</td>\n",
       "      <td>0.020344</td>\n",
       "      <td>...</td>\n",
       "      <td>-0.147748</td>\n",
       "      <td>0.056868</td>\n",
       "      <td>-0.091354</td>\n",
       "      <td>-0.069582</td>\n",
       "      <td>-0.018699</td>\n",
       "      <td>-0.045930</td>\n",
       "      <td>0.047286</td>\n",
       "      <td>-0.153172</td>\n",
       "      <td>0x316b80</td>\n",
       "      <td>sadness</td>\n",
       "    </tr>\n",
       "    <tr>\n",
       "      <th>411970</th>\n",
       "      <td>-0.084189</td>\n",
       "      <td>0.251039</td>\n",
       "      <td>-0.015387</td>\n",
       "      <td>0.018006</td>\n",
       "      <td>0.094678</td>\n",
       "      <td>-0.000172</td>\n",
       "      <td>0.127296</td>\n",
       "      <td>0.167974</td>\n",
       "      <td>0.048930</td>\n",
       "      <td>0.135401</td>\n",
       "      <td>...</td>\n",
       "      <td>0.125306</td>\n",
       "      <td>0.226445</td>\n",
       "      <td>0.020862</td>\n",
       "      <td>0.038686</td>\n",
       "      <td>-0.000204</td>\n",
       "      <td>0.002970</td>\n",
       "      <td>-0.029433</td>\n",
       "      <td>-0.163473</td>\n",
       "      <td>0x29d0cb</td>\n",
       "      <td>joy</td>\n",
       "    </tr>\n",
       "    <tr>\n",
       "      <th>411971</th>\n",
       "      <td>0.079337</td>\n",
       "      <td>-0.012918</td>\n",
       "      <td>-0.004986</td>\n",
       "      <td>0.059588</td>\n",
       "      <td>0.079648</td>\n",
       "      <td>0.115958</td>\n",
       "      <td>0.144649</td>\n",
       "      <td>0.155252</td>\n",
       "      <td>0.229825</td>\n",
       "      <td>0.145932</td>\n",
       "      <td>...</td>\n",
       "      <td>0.049596</td>\n",
       "      <td>0.152483</td>\n",
       "      <td>-0.054147</td>\n",
       "      <td>0.261154</td>\n",
       "      <td>0.020300</td>\n",
       "      <td>0.061332</td>\n",
       "      <td>-0.149093</td>\n",
       "      <td>-0.016999</td>\n",
       "      <td>0x2a6a4f</td>\n",
       "      <td>sadness</td>\n",
       "    </tr>\n",
       "  </tbody>\n",
       "</table>\n",
       "<p>411972 rows × 770 columns</p>\n",
       "</div>"
      ],
      "text/plain": [
       "               0         1         2         3         4         5         6  \\\n",
       "0       0.022685  0.092329 -0.005738  0.058587  0.072496 -0.043568 -0.161728   \n",
       "1       0.157975  0.097607  0.042909  0.142935 -0.066175 -0.048943 -0.019566   \n",
       "2      -0.048615  0.288452  0.149379 -0.038663  0.084482 -0.066496 -0.284200   \n",
       "3      -0.074775  0.279185 -0.066582 -0.025440 -0.003644 -0.014643  0.199948   \n",
       "4       0.018467  0.257763  0.030885 -0.085107  0.109644 -0.005322  0.046763   \n",
       "...          ...       ...       ...       ...       ...       ...       ...   \n",
       "411967  0.120808 -0.133235  0.073419  0.027997  0.072607  0.013692 -0.250106   \n",
       "411968  0.098719 -0.018339 -0.115317  0.151983  0.109499 -0.053804  0.052738   \n",
       "411969  0.064327  0.152697  0.029311  0.140272 -0.106460  0.089240  0.056431   \n",
       "411970 -0.084189  0.251039 -0.015387  0.018006  0.094678 -0.000172  0.127296   \n",
       "411971  0.079337 -0.012918 -0.004986  0.059588  0.079648  0.115958  0.144649   \n",
       "\n",
       "               7         8         9  ...       760       761       762  \\\n",
       "0       0.062479  0.142324  0.155198  ...  0.055207  0.123785  0.006869   \n",
       "1       0.017619  0.296960  0.063106  ... -0.090742  0.111285 -0.023540   \n",
       "2       0.065906 -0.000828  0.103797  ... -0.156438  0.151451  0.033344   \n",
       "3       0.060919  0.112351  0.057102  ...  0.159637  0.034571  0.022197   \n",
       "4       0.005586  0.291635  0.043000  ...  0.069900  0.122277 -0.062018   \n",
       "...          ...       ...       ...  ...       ...       ...       ...   \n",
       "411967  0.033591 -0.000973  0.031419  ...  0.048786  0.107976 -0.084272   \n",
       "411968  0.175585  0.159266  0.087735  ...  0.154968  0.053729 -0.095755   \n",
       "411969  0.141138  0.089897  0.020344  ... -0.147748  0.056868 -0.091354   \n",
       "411970  0.167974  0.048930  0.135401  ...  0.125306  0.226445  0.020862   \n",
       "411971  0.155252  0.229825  0.145932  ...  0.049596  0.152483 -0.054147   \n",
       "\n",
       "             763       764       765       766       767  tweet_id  \\\n",
       "0      -0.069393 -0.011549  0.077658 -0.082954 -0.111531  0x28b412   \n",
       "1       0.238490  0.023788  0.049356  0.064402  0.038076  0x2de201   \n",
       "2      -0.034106 -0.022977  0.090636  0.012425 -0.109962  0x218443   \n",
       "3       0.034739 -0.063595 -0.050794 -0.143279 -0.065068  0x2939d5   \n",
       "4      -0.139353 -0.010073  0.045629 -0.013647 -0.070441  0x26289a   \n",
       "...          ...       ...       ...       ...       ...       ...   \n",
       "411967 -0.136682  0.015488  0.021368 -0.010942 -0.091318  0x2913b4   \n",
       "411968 -0.059725  0.002030  0.140695 -0.034266 -0.014913  0x2a980e   \n",
       "411969 -0.069582 -0.018699 -0.045930  0.047286 -0.153172  0x316b80   \n",
       "411970  0.038686 -0.000204  0.002970 -0.029433 -0.163473  0x29d0cb   \n",
       "411971  0.261154  0.020300  0.061332 -0.149093 -0.016999  0x2a6a4f   \n",
       "\n",
       "             emotion  \n",
       "0       anticipation  \n",
       "1              trust  \n",
       "2                joy  \n",
       "3       anticipation  \n",
       "4              trust  \n",
       "...              ...  \n",
       "411967           joy  \n",
       "411968  anticipation  \n",
       "411969       sadness  \n",
       "411970           joy  \n",
       "411971       sadness  \n",
       "\n",
       "[411972 rows x 770 columns]"
      ]
     },
     "execution_count": 24,
     "metadata": {},
     "output_type": "execute_result"
    }
   ],
   "source": [
    "df_test"
   ]
  },
  {
   "cell_type": "code",
   "execution_count": 25,
   "metadata": {},
   "outputs": [],
   "source": [
    "df_result = df_test[[\"tweet_id\", \"emotion\"]]"
   ]
  },
  {
   "cell_type": "code",
   "execution_count": 26,
   "metadata": {},
   "outputs": [],
   "source": [
    "# collumn rename\n",
    "df_result = df_result.rename({'tweet_id': 'id'}, axis='columns')"
   ]
  },
  {
   "cell_type": "code",
   "execution_count": 27,
   "metadata": {},
   "outputs": [
    {
     "data": {
      "text/html": [
       "<div>\n",
       "<style scoped>\n",
       "    .dataframe tbody tr th:only-of-type {\n",
       "        vertical-align: middle;\n",
       "    }\n",
       "\n",
       "    .dataframe tbody tr th {\n",
       "        vertical-align: top;\n",
       "    }\n",
       "\n",
       "    .dataframe thead th {\n",
       "        text-align: right;\n",
       "    }\n",
       "</style>\n",
       "<table border=\"1\" class=\"dataframe\">\n",
       "  <thead>\n",
       "    <tr style=\"text-align: right;\">\n",
       "      <th></th>\n",
       "      <th>id</th>\n",
       "      <th>emotion</th>\n",
       "    </tr>\n",
       "  </thead>\n",
       "  <tbody>\n",
       "    <tr>\n",
       "      <th>0</th>\n",
       "      <td>0x28b412</td>\n",
       "      <td>anticipation</td>\n",
       "    </tr>\n",
       "    <tr>\n",
       "      <th>1</th>\n",
       "      <td>0x2de201</td>\n",
       "      <td>trust</td>\n",
       "    </tr>\n",
       "    <tr>\n",
       "      <th>2</th>\n",
       "      <td>0x218443</td>\n",
       "      <td>joy</td>\n",
       "    </tr>\n",
       "    <tr>\n",
       "      <th>3</th>\n",
       "      <td>0x2939d5</td>\n",
       "      <td>anticipation</td>\n",
       "    </tr>\n",
       "    <tr>\n",
       "      <th>4</th>\n",
       "      <td>0x26289a</td>\n",
       "      <td>trust</td>\n",
       "    </tr>\n",
       "  </tbody>\n",
       "</table>\n",
       "</div>"
      ],
      "text/plain": [
       "         id       emotion\n",
       "0  0x28b412  anticipation\n",
       "1  0x2de201         trust\n",
       "2  0x218443           joy\n",
       "3  0x2939d5  anticipation\n",
       "4  0x26289a         trust"
      ]
     },
     "execution_count": 27,
     "metadata": {},
     "output_type": "execute_result"
    }
   ],
   "source": [
    "df_result.head()"
   ]
  },
  {
   "cell_type": "code",
   "execution_count": 28,
   "metadata": {},
   "outputs": [],
   "source": [
    "# 提交數據\n",
    "df_result.to_csv(\"submission_Sentence_NN_1227_3.csv\", index=False)"
   ]
  }
 ],
 "metadata": {
  "kernelspec": {
   "display_name": "Python 3 (ipykernel)",
   "language": "python",
   "name": "python3"
  },
  "language_info": {
   "codemirror_mode": {
    "name": "ipython",
    "version": 3
   },
   "file_extension": ".py",
   "mimetype": "text/x-python",
   "name": "python",
   "nbconvert_exporter": "python",
   "pygments_lexer": "ipython3",
   "version": "3.10.13"
  },
  "varInspector": {
   "cols": {
    "lenName": 16,
    "lenType": 16,
    "lenVar": 40
   },
   "kernels_config": {
    "python": {
     "delete_cmd_postfix": "",
     "delete_cmd_prefix": "del ",
     "library": "var_list.py",
     "varRefreshCmd": "print(var_dic_list())"
    },
    "r": {
     "delete_cmd_postfix": ") ",
     "delete_cmd_prefix": "rm(",
     "library": "var_list.r",
     "varRefreshCmd": "cat(var_dic_list()) "
    }
   },
   "types_to_exclude": [
    "module",
    "function",
    "builtin_function_or_method",
    "instance",
    "_Feature"
   ],
   "window_display": false
  }
 },
 "nbformat": 4,
 "nbformat_minor": 4
}
